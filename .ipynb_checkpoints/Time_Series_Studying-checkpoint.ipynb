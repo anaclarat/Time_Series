{
 "cells": [
  {
   "cell_type": "markdown",
   "id": "9c41770d",
   "metadata": {},
   "source": [
    "# Time Series Analysis\n",
    "\n",
    "Studying with Time Series Analysis with Python - Tarek A. Atwan\n",
    "\n",
    "Data set source: https://github.com/PacktPublishing/Time-Series-Analysis-with-Python-Cookbook/tree/main/datasets"
   ]
  },
  {
   "cell_type": "code",
   "execution_count": 1,
   "id": "e5ef4e27",
   "metadata": {},
   "outputs": [],
   "source": [
    "# pip install urllib\n",
    "# pip install modin[dask] "
   ]
  },
  {
   "cell_type": "code",
   "execution_count": 2,
   "id": "06defde4",
   "metadata": {},
   "outputs": [],
   "source": [
    "import pandas as pd\n",
    "from urllib import request\n"
   ]
  },
  {
   "cell_type": "markdown",
   "id": "c9e636b1",
   "metadata": {},
   "source": [
    "# CSV File:  Reading a series\n",
    "\n",
    "Defining index as time series and other columns\n"
   ]
  },
  {
   "cell_type": "code",
   "execution_count": 3,
   "id": "d0398007",
   "metadata": {},
   "outputs": [],
   "source": [
    "#Loading File\n",
    "URL = \"https://raw.githubusercontent.com/PacktPublishing/Time-Series-Analysis-with-Python-Cookbook/main/datasets/Ch2/movieboxoffice.csv\"\n",
    "\n",
    "response = request.urlretrieve(URL, r\".//Data/ts.csv\")"
   ]
  },
  {
   "cell_type": "code",
   "execution_count": 4,
   "id": "e39c009e",
   "metadata": {},
   "outputs": [],
   "source": [
    "#Reading File\n",
    "ts_csv = pd.read_csv(r\".//Data/ts.csv\",\n",
    "                 header=0,\n",
    "                parse_dates=['Date'],\n",
    "                index_col=0,\n",
    "                infer_datetime_format=True,\n",
    "                usecols=['Date',\n",
    "                        'DOW',\n",
    "                        'Daily',\n",
    "                        'Forecast',\n",
    "                        'Percent Diff']\n",
    "                )\n",
    "\n",
    "\n",
    "# # When infer_datetime_format=True does not work\n",
    "\n",
    "# #Format / date parser\n",
    "# date_parser = lambda x: pd.to_datetime(x,format='%d-%b-%y')\n",
    "# ts = pd.read_csv(r\".//Data/ts.csv\",\n",
    "#                  header=0,\n",
    "#                 parse_dates=[0],\n",
    "#                 index_col=0,\n",
    "#                 date_parser=date_parser,\n",
    "#                 usecols=['Date',\n",
    "#                         'DOW',\n",
    "#                         'Daily',\n",
    "#                         'Forecast',\n",
    "#                         'Percent Diff']\n",
    "#                 )"
   ]
  },
  {
   "cell_type": "code",
   "execution_count": 5,
   "id": "3f1c065e",
   "metadata": {},
   "outputs": [],
   "source": [
    "# ## Chunking (to optimize memory usage) --check pandas error\n",
    "\n",
    "# from modin.config import Engine\n",
    "# Engine.put('dask') # Modin will use Dask\n",
    "# import modin.pandas as pd\n",
    "\n",
    "# ts_csv = pd.read_csv(r\".//Data/ts.csv\",\n",
    "#                  header=0,\n",
    "#                 parse_dates=[0],\n",
    "#                 index_col=0,\n",
    "#                 date_parser=date_parser,\n",
    "#                 usecols=['Date',\n",
    "#                         'DOW',\n",
    "#                         'Daily',\n",
    "#                         'Forecast',\n",
    "#                         'Percent Diff']\n",
    "#                 )"
   ]
  },
  {
   "cell_type": "markdown",
   "id": "ea820ab4",
   "metadata": {},
   "source": [
    "## First look at dataset"
   ]
  },
  {
   "cell_type": "code",
   "execution_count": 6,
   "id": "20022297",
   "metadata": {},
   "outputs": [
    {
     "name": "stdout",
     "output_type": "stream",
     "text": [
      "<class 'pandas.core.frame.DataFrame'>\n",
      "DatetimeIndex: 128 entries, 2021-04-26 to 2021-08-31\n",
      "Data columns (total 4 columns):\n",
      " #   Column        Non-Null Count  Dtype \n",
      "---  ------        --------------  ----- \n",
      " 0   DOW           128 non-null    object\n",
      " 1   Daily         128 non-null    object\n",
      " 2   Forecast      128 non-null    object\n",
      " 3   Percent Diff  128 non-null    object\n",
      "dtypes: object(4)\n",
      "memory usage: 5.0+ KB\n"
     ]
    },
    {
     "data": {
      "text/plain": [
       "None"
      ]
     },
     "metadata": {},
     "output_type": "display_data"
    },
    {
     "data": {
      "text/html": [
       "<div>\n",
       "<style scoped>\n",
       "    .dataframe tbody tr th:only-of-type {\n",
       "        vertical-align: middle;\n",
       "    }\n",
       "\n",
       "    .dataframe tbody tr th {\n",
       "        vertical-align: top;\n",
       "    }\n",
       "\n",
       "    .dataframe thead th {\n",
       "        text-align: right;\n",
       "    }\n",
       "</style>\n",
       "<table border=\"1\" class=\"dataframe\">\n",
       "  <thead>\n",
       "    <tr style=\"text-align: right;\">\n",
       "      <th></th>\n",
       "      <th>DOW</th>\n",
       "      <th>Daily</th>\n",
       "      <th>Forecast</th>\n",
       "      <th>Percent Diff</th>\n",
       "    </tr>\n",
       "    <tr>\n",
       "      <th>Date</th>\n",
       "      <th></th>\n",
       "      <th></th>\n",
       "      <th></th>\n",
       "      <th></th>\n",
       "    </tr>\n",
       "  </thead>\n",
       "  <tbody>\n",
       "    <tr>\n",
       "      <th>2021-04-26</th>\n",
       "      <td>Friday</td>\n",
       "      <td>$125,789.89</td>\n",
       "      <td>$235,036.46</td>\n",
       "      <td>-46.48%</td>\n",
       "    </tr>\n",
       "    <tr>\n",
       "      <th>2021-04-27</th>\n",
       "      <td>Saturday</td>\n",
       "      <td>$99,374.01</td>\n",
       "      <td>$197,622.55</td>\n",
       "      <td>-49.72%</td>\n",
       "    </tr>\n",
       "    <tr>\n",
       "      <th>2021-04-28</th>\n",
       "      <td>Sunday</td>\n",
       "      <td>$82,203.16</td>\n",
       "      <td>$116,991.26</td>\n",
       "      <td>-29.74%</td>\n",
       "    </tr>\n",
       "    <tr>\n",
       "      <th>2021-04-29</th>\n",
       "      <td>Monday</td>\n",
       "      <td>$33,530.26</td>\n",
       "      <td>$66,652.65</td>\n",
       "      <td>-49.69%</td>\n",
       "    </tr>\n",
       "    <tr>\n",
       "      <th>2021-04-30</th>\n",
       "      <td>Tuesday</td>\n",
       "      <td>$30,105.24</td>\n",
       "      <td>$34,828.19</td>\n",
       "      <td>-13.56%</td>\n",
       "    </tr>\n",
       "  </tbody>\n",
       "</table>\n",
       "</div>"
      ],
      "text/plain": [
       "                 DOW         Daily      Forecast Percent Diff\n",
       "Date                                                         \n",
       "2021-04-26    Friday  $125,789.89   $235,036.46       -46.48%\n",
       "2021-04-27  Saturday   $99,374.01   $197,622.55       -49.72%\n",
       "2021-04-28    Sunday   $82,203.16   $116,991.26       -29.74%\n",
       "2021-04-29    Monday   $33,530.26    $66,652.65       -49.69%\n",
       "2021-04-30   Tuesday   $30,105.24    $34,828.19       -13.56%"
      ]
     },
     "metadata": {},
     "output_type": "display_data"
    }
   ],
   "source": [
    "display(ts_csv.info(),ts_csv.head())"
   ]
  },
  {
   "cell_type": "code",
   "execution_count": 7,
   "id": "f0f29aad",
   "metadata": {},
   "outputs": [],
   "source": [
    "# cleaning non-numeric characters ($,.)\n",
    "clean = lambda x :x.str.replace('[^\\d]','',regex=True)\n",
    "c_df = ts_csv[['Daily','Forecast']].apply(clean,axis=1)\n",
    "ts_csv[['Daily','Forecast']] = c_df.astype(float)\n"
   ]
  },
  {
   "cell_type": "code",
   "execution_count": 8,
   "id": "d91e4cc8",
   "metadata": {},
   "outputs": [
    {
     "name": "stdout",
     "output_type": "stream",
     "text": [
      "<class 'pandas.core.frame.DataFrame'>\n",
      "DatetimeIndex: 128 entries, 2021-04-26 to 2021-08-31\n",
      "Data columns (total 4 columns):\n",
      " #   Column        Non-Null Count  Dtype  \n",
      "---  ------        --------------  -----  \n",
      " 0   DOW           128 non-null    object \n",
      " 1   Daily         128 non-null    float64\n",
      " 2   Forecast      128 non-null    float64\n",
      " 3   Percent Diff  128 non-null    object \n",
      "dtypes: float64(2), object(2)\n",
      "memory usage: 5.0+ KB\n"
     ]
    },
    {
     "data": {
      "text/plain": [
       "None"
      ]
     },
     "metadata": {},
     "output_type": "display_data"
    },
    {
     "data": {
      "text/html": [
       "<div>\n",
       "<style scoped>\n",
       "    .dataframe tbody tr th:only-of-type {\n",
       "        vertical-align: middle;\n",
       "    }\n",
       "\n",
       "    .dataframe tbody tr th {\n",
       "        vertical-align: top;\n",
       "    }\n",
       "\n",
       "    .dataframe thead th {\n",
       "        text-align: right;\n",
       "    }\n",
       "</style>\n",
       "<table border=\"1\" class=\"dataframe\">\n",
       "  <thead>\n",
       "    <tr style=\"text-align: right;\">\n",
       "      <th></th>\n",
       "      <th>DOW</th>\n",
       "      <th>Daily</th>\n",
       "      <th>Forecast</th>\n",
       "      <th>Percent Diff</th>\n",
       "    </tr>\n",
       "    <tr>\n",
       "      <th>Date</th>\n",
       "      <th></th>\n",
       "      <th></th>\n",
       "      <th></th>\n",
       "      <th></th>\n",
       "    </tr>\n",
       "  </thead>\n",
       "  <tbody>\n",
       "    <tr>\n",
       "      <th>2021-04-26</th>\n",
       "      <td>Friday</td>\n",
       "      <td>12578989.0</td>\n",
       "      <td>23503646.0</td>\n",
       "      <td>-46.48%</td>\n",
       "    </tr>\n",
       "    <tr>\n",
       "      <th>2021-04-27</th>\n",
       "      <td>Saturday</td>\n",
       "      <td>9937401.0</td>\n",
       "      <td>19762255.0</td>\n",
       "      <td>-49.72%</td>\n",
       "    </tr>\n",
       "    <tr>\n",
       "      <th>2021-04-28</th>\n",
       "      <td>Sunday</td>\n",
       "      <td>8220316.0</td>\n",
       "      <td>11699126.0</td>\n",
       "      <td>-29.74%</td>\n",
       "    </tr>\n",
       "    <tr>\n",
       "      <th>2021-04-29</th>\n",
       "      <td>Monday</td>\n",
       "      <td>3353026.0</td>\n",
       "      <td>6665265.0</td>\n",
       "      <td>-49.69%</td>\n",
       "    </tr>\n",
       "    <tr>\n",
       "      <th>2021-04-30</th>\n",
       "      <td>Tuesday</td>\n",
       "      <td>3010524.0</td>\n",
       "      <td>3482819.0</td>\n",
       "      <td>-13.56%</td>\n",
       "    </tr>\n",
       "  </tbody>\n",
       "</table>\n",
       "</div>"
      ],
      "text/plain": [
       "                 DOW       Daily    Forecast Percent Diff\n",
       "Date                                                     \n",
       "2021-04-26    Friday  12578989.0  23503646.0      -46.48%\n",
       "2021-04-27  Saturday   9937401.0  19762255.0      -49.72%\n",
       "2021-04-28    Sunday   8220316.0  11699126.0      -29.74%\n",
       "2021-04-29    Monday   3353026.0   6665265.0      -49.69%\n",
       "2021-04-30   Tuesday   3010524.0   3482819.0      -13.56%"
      ]
     },
     "metadata": {},
     "output_type": "display_data"
    }
   ],
   "source": [
    "display(ts_csv.info(),ts_csv.head())"
   ]
  },
  {
   "cell_type": "code",
   "execution_count": null,
   "id": "807b7f6f",
   "metadata": {},
   "outputs": [],
   "source": []
  }
 ],
 "metadata": {
  "kernelspec": {
   "display_name": "Python 3 (ipykernel)",
   "language": "python",
   "name": "python3"
  },
  "language_info": {
   "codemirror_mode": {
    "name": "ipython",
    "version": 3
   },
   "file_extension": ".py",
   "mimetype": "text/x-python",
   "name": "python",
   "nbconvert_exporter": "python",
   "pygments_lexer": "ipython3",
   "version": "3.9.7"
  }
 },
 "nbformat": 4,
 "nbformat_minor": 5
}
