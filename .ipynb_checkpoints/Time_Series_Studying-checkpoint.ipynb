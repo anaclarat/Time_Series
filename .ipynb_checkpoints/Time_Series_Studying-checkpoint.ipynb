{
 "cells": [
  {
   "cell_type": "markdown",
   "id": "9c41770d",
   "metadata": {},
   "source": [
    "# Time Series Analysis study\n",
    "\n",
    "Studying with Time Series Analysis with Python - Tarek A. Atwan\n",
    "\n",
    "Data set source: https://github.com/PacktPublishing/Time-Series-Analysis-with-Python-Cookbook/tree/main/datasets\n",
    "\n",
    "Examples code extracted. Every now and then,modified with my own notes: https://github.com/PacktPublishing/Time-Series-Analysis-with-Python-Cookbook/blob/main/code"
   ]
  },
  {
   "cell_type": "code",
   "execution_count": 1,
   "id": "e5ef4e27",
   "metadata": {},
   "outputs": [],
   "source": [
    "# pip install urllib\n",
    "# pip install modin[dask] "
   ]
  },
  {
   "cell_type": "code",
   "execution_count": 2,
   "id": "06defde4",
   "metadata": {},
   "outputs": [],
   "source": [
    "import pandas as pd\n",
    "from urllib import request\n"
   ]
  },
  {
   "cell_type": "markdown",
   "id": "c9e636b1",
   "metadata": {},
   "source": [
    "# CSV File:  Reading a series\n",
    "\n",
    "Defining index as time series and other columns\n"
   ]
  },
  {
   "cell_type": "code",
   "execution_count": 3,
   "id": "d0398007",
   "metadata": {},
   "outputs": [],
   "source": [
    "#Loading File\n",
    "URL = \"https://raw.githubusercontent.com/PacktPublishing/Time-Series-Analysis-with-Python-Cookbook/main/datasets/Ch2/movieboxoffice.csv\"\n",
    "\n",
    "response = request.urlretrieve(URL, r\".//Data/ts.csv\")"
   ]
  },
  {
   "cell_type": "code",
   "execution_count": 4,
   "id": "e39c009e",
   "metadata": {},
   "outputs": [],
   "source": [
    "#Reading File\n",
    "ts_csv = pd.read_csv(r\".//Data/ts.csv\",\n",
    "                 header=0,\n",
    "                parse_dates=['Date'],\n",
    "                index_col=0,\n",
    "                infer_datetime_format=True,\n",
    "                usecols=['Date',\n",
    "                        'DOW',\n",
    "                        'Daily',\n",
    "                        'Forecast',\n",
    "                        'Percent Diff']\n",
    "                )\n",
    "\n",
    "\n",
    "# # When infer_datetime_format=True does not work\n",
    "\n",
    "# #Format / date parser\n",
    "# date_parser = lambda x: pd.to_datetime(x,format='%d-%b-%y')\n",
    "# ts = pd.read_csv(r\".//Data/ts.csv\",\n",
    "#                  header=0,\n",
    "#                 parse_dates=[0],\n",
    "#                 index_col=0,\n",
    "#                 date_parser=date_parser,\n",
    "#                 usecols=['Date',\n",
    "#                         'DOW',\n",
    "#                         'Daily',\n",
    "#                         'Forecast',\n",
    "#                         'Percent Diff']\n",
    "#                 )"
   ]
  },
  {
   "cell_type": "code",
   "execution_count": 5,
   "id": "3f1c065e",
   "metadata": {},
   "outputs": [],
   "source": [
    "# ## Chunking (to optimize memory usage) --check pandas error\n",
    "\n",
    "# from modin.config import Engine\n",
    "# Engine.put('dask') # Modin will use Dask\n",
    "# import modin.pandas as pd\n",
    "\n",
    "# ts_csv = pd.read_csv(r\".//Data/ts.csv\",\n",
    "#                  header=0,\n",
    "#                 parse_dates=[0],\n",
    "#                 index_col=0,\n",
    "#                 date_parser=date_parser,\n",
    "#                 usecols=['Date',\n",
    "#                         'DOW',\n",
    "#                         'Daily',\n",
    "#                         'Forecast',\n",
    "#                         'Percent Diff']\n",
    "#                 )"
   ]
  },
  {
   "cell_type": "markdown",
   "id": "ea820ab4",
   "metadata": {},
   "source": [
    "## First look at dataset"
   ]
  },
  {
   "cell_type": "code",
   "execution_count": 6,
   "id": "20022297",
   "metadata": {},
   "outputs": [
    {
     "name": "stdout",
     "output_type": "stream",
     "text": [
      "<class 'pandas.core.frame.DataFrame'>\n",
      "DatetimeIndex: 128 entries, 2021-04-26 to 2021-08-31\n",
      "Data columns (total 4 columns):\n",
      " #   Column        Non-Null Count  Dtype \n",
      "---  ------        --------------  ----- \n",
      " 0   DOW           128 non-null    object\n",
      " 1   Daily         128 non-null    object\n",
      " 2   Forecast      128 non-null    object\n",
      " 3   Percent Diff  128 non-null    object\n",
      "dtypes: object(4)\n",
      "memory usage: 5.0+ KB\n"
     ]
    },
    {
     "data": {
      "text/plain": [
       "None"
      ]
     },
     "metadata": {},
     "output_type": "display_data"
    },
    {
     "data": {
      "text/html": [
       "<div>\n",
       "<style scoped>\n",
       "    .dataframe tbody tr th:only-of-type {\n",
       "        vertical-align: middle;\n",
       "    }\n",
       "\n",
       "    .dataframe tbody tr th {\n",
       "        vertical-align: top;\n",
       "    }\n",
       "\n",
       "    .dataframe thead th {\n",
       "        text-align: right;\n",
       "    }\n",
       "</style>\n",
       "<table border=\"1\" class=\"dataframe\">\n",
       "  <thead>\n",
       "    <tr style=\"text-align: right;\">\n",
       "      <th></th>\n",
       "      <th>DOW</th>\n",
       "      <th>Daily</th>\n",
       "      <th>Forecast</th>\n",
       "      <th>Percent Diff</th>\n",
       "    </tr>\n",
       "    <tr>\n",
       "      <th>Date</th>\n",
       "      <th></th>\n",
       "      <th></th>\n",
       "      <th></th>\n",
       "      <th></th>\n",
       "    </tr>\n",
       "  </thead>\n",
       "  <tbody>\n",
       "    <tr>\n",
       "      <th>2021-04-26</th>\n",
       "      <td>Friday</td>\n",
       "      <td>$125,789.89</td>\n",
       "      <td>$235,036.46</td>\n",
       "      <td>-46.48%</td>\n",
       "    </tr>\n",
       "    <tr>\n",
       "      <th>2021-04-27</th>\n",
       "      <td>Saturday</td>\n",
       "      <td>$99,374.01</td>\n",
       "      <td>$197,622.55</td>\n",
       "      <td>-49.72%</td>\n",
       "    </tr>\n",
       "    <tr>\n",
       "      <th>2021-04-28</th>\n",
       "      <td>Sunday</td>\n",
       "      <td>$82,203.16</td>\n",
       "      <td>$116,991.26</td>\n",
       "      <td>-29.74%</td>\n",
       "    </tr>\n",
       "    <tr>\n",
       "      <th>2021-04-29</th>\n",
       "      <td>Monday</td>\n",
       "      <td>$33,530.26</td>\n",
       "      <td>$66,652.65</td>\n",
       "      <td>-49.69%</td>\n",
       "    </tr>\n",
       "    <tr>\n",
       "      <th>2021-04-30</th>\n",
       "      <td>Tuesday</td>\n",
       "      <td>$30,105.24</td>\n",
       "      <td>$34,828.19</td>\n",
       "      <td>-13.56%</td>\n",
       "    </tr>\n",
       "  </tbody>\n",
       "</table>\n",
       "</div>"
      ],
      "text/plain": [
       "                 DOW         Daily      Forecast Percent Diff\n",
       "Date                                                         \n",
       "2021-04-26    Friday  $125,789.89   $235,036.46       -46.48%\n",
       "2021-04-27  Saturday   $99,374.01   $197,622.55       -49.72%\n",
       "2021-04-28    Sunday   $82,203.16   $116,991.26       -29.74%\n",
       "2021-04-29    Monday   $33,530.26    $66,652.65       -49.69%\n",
       "2021-04-30   Tuesday   $30,105.24    $34,828.19       -13.56%"
      ]
     },
     "metadata": {},
     "output_type": "display_data"
    }
   ],
   "source": [
    "display(ts_csv.info(),ts_csv.head())"
   ]
  },
  {
   "cell_type": "code",
   "execution_count": 7,
   "id": "f0f29aad",
   "metadata": {},
   "outputs": [],
   "source": [
    "# cleaning non-numeric characters ($,.)\n",
    "clean = lambda x :x.str.replace('[^\\d]','',regex=True)\n",
    "c_df = ts_csv[['Daily','Forecast']].apply(clean,axis=1)\n",
    "ts_csv[['Daily','Forecast']] = c_df.astype(float)\n"
   ]
  },
  {
   "cell_type": "code",
   "execution_count": 8,
   "id": "d91e4cc8",
   "metadata": {},
   "outputs": [
    {
     "name": "stdout",
     "output_type": "stream",
     "text": [
      "<class 'pandas.core.frame.DataFrame'>\n",
      "DatetimeIndex: 128 entries, 2021-04-26 to 2021-08-31\n",
      "Data columns (total 4 columns):\n",
      " #   Column        Non-Null Count  Dtype  \n",
      "---  ------        --------------  -----  \n",
      " 0   DOW           128 non-null    object \n",
      " 1   Daily         128 non-null    float64\n",
      " 2   Forecast      128 non-null    float64\n",
      " 3   Percent Diff  128 non-null    object \n",
      "dtypes: float64(2), object(2)\n",
      "memory usage: 5.0+ KB\n"
     ]
    },
    {
     "data": {
      "text/plain": [
       "None"
      ]
     },
     "metadata": {},
     "output_type": "display_data"
    },
    {
     "data": {
      "text/html": [
       "<div>\n",
       "<style scoped>\n",
       "    .dataframe tbody tr th:only-of-type {\n",
       "        vertical-align: middle;\n",
       "    }\n",
       "\n",
       "    .dataframe tbody tr th {\n",
       "        vertical-align: top;\n",
       "    }\n",
       "\n",
       "    .dataframe thead th {\n",
       "        text-align: right;\n",
       "    }\n",
       "</style>\n",
       "<table border=\"1\" class=\"dataframe\">\n",
       "  <thead>\n",
       "    <tr style=\"text-align: right;\">\n",
       "      <th></th>\n",
       "      <th>DOW</th>\n",
       "      <th>Daily</th>\n",
       "      <th>Forecast</th>\n",
       "      <th>Percent Diff</th>\n",
       "    </tr>\n",
       "    <tr>\n",
       "      <th>Date</th>\n",
       "      <th></th>\n",
       "      <th></th>\n",
       "      <th></th>\n",
       "      <th></th>\n",
       "    </tr>\n",
       "  </thead>\n",
       "  <tbody>\n",
       "    <tr>\n",
       "      <th>2021-04-26</th>\n",
       "      <td>Friday</td>\n",
       "      <td>12578989.0</td>\n",
       "      <td>23503646.0</td>\n",
       "      <td>-46.48%</td>\n",
       "    </tr>\n",
       "    <tr>\n",
       "      <th>2021-04-27</th>\n",
       "      <td>Saturday</td>\n",
       "      <td>9937401.0</td>\n",
       "      <td>19762255.0</td>\n",
       "      <td>-49.72%</td>\n",
       "    </tr>\n",
       "    <tr>\n",
       "      <th>2021-04-28</th>\n",
       "      <td>Sunday</td>\n",
       "      <td>8220316.0</td>\n",
       "      <td>11699126.0</td>\n",
       "      <td>-29.74%</td>\n",
       "    </tr>\n",
       "    <tr>\n",
       "      <th>2021-04-29</th>\n",
       "      <td>Monday</td>\n",
       "      <td>3353026.0</td>\n",
       "      <td>6665265.0</td>\n",
       "      <td>-49.69%</td>\n",
       "    </tr>\n",
       "    <tr>\n",
       "      <th>2021-04-30</th>\n",
       "      <td>Tuesday</td>\n",
       "      <td>3010524.0</td>\n",
       "      <td>3482819.0</td>\n",
       "      <td>-13.56%</td>\n",
       "    </tr>\n",
       "  </tbody>\n",
       "</table>\n",
       "</div>"
      ],
      "text/plain": [
       "                 DOW       Daily    Forecast Percent Diff\n",
       "Date                                                     \n",
       "2021-04-26    Friday  12578989.0  23503646.0      -46.48%\n",
       "2021-04-27  Saturday   9937401.0  19762255.0      -49.72%\n",
       "2021-04-28    Sunday   8220316.0  11699126.0      -29.74%\n",
       "2021-04-29    Monday   3353026.0   6665265.0      -49.69%\n",
       "2021-04-30   Tuesday   3010524.0   3482819.0      -13.56%"
      ]
     },
     "metadata": {},
     "output_type": "display_data"
    }
   ],
   "source": [
    "display(ts_csv.info(),ts_csv.head())"
   ]
  },
  {
   "cell_type": "code",
   "execution_count": 9,
   "id": "97a29174",
   "metadata": {},
   "outputs": [],
   "source": [
    "# deleting variables\n",
    "del ts_csv"
   ]
  },
  {
   "cell_type": "markdown",
   "id": "689aada3",
   "metadata": {},
   "source": [
    "# Persisting (serialization and de-serialization)"
   ]
  },
  {
   "cell_type": "code",
   "execution_count": 10,
   "id": "a05aa15b",
   "metadata": {},
   "outputs": [
    {
     "data": {
      "text/html": [
       "<div>\n",
       "<style scoped>\n",
       "    .dataframe tbody tr th:only-of-type {\n",
       "        vertical-align: middle;\n",
       "    }\n",
       "\n",
       "    .dataframe tbody tr th {\n",
       "        vertical-align: top;\n",
       "    }\n",
       "\n",
       "    .dataframe thead th {\n",
       "        text-align: right;\n",
       "    }\n",
       "</style>\n",
       "<table border=\"1\" class=\"dataframe\">\n",
       "  <thead>\n",
       "    <tr style=\"text-align: right;\">\n",
       "      <th></th>\n",
       "      <th>Province/State</th>\n",
       "      <th>Country/Region</th>\n",
       "      <th>Lat</th>\n",
       "      <th>Long</th>\n",
       "      <th>1/22/20</th>\n",
       "      <th>1/23/20</th>\n",
       "      <th>1/24/20</th>\n",
       "      <th>1/25/20</th>\n",
       "      <th>1/26/20</th>\n",
       "      <th>1/27/20</th>\n",
       "      <th>...</th>\n",
       "      <th>9/19/21</th>\n",
       "      <th>9/20/21</th>\n",
       "      <th>9/21/21</th>\n",
       "      <th>9/22/21</th>\n",
       "      <th>9/23/21</th>\n",
       "      <th>9/24/21</th>\n",
       "      <th>9/25/21</th>\n",
       "      <th>9/26/21</th>\n",
       "      <th>9/27/21</th>\n",
       "      <th>9/28/21</th>\n",
       "    </tr>\n",
       "  </thead>\n",
       "  <tbody>\n",
       "    <tr>\n",
       "      <th>0</th>\n",
       "      <td>NaN</td>\n",
       "      <td>Afghanistan</td>\n",
       "      <td>33.93911</td>\n",
       "      <td>67.709953</td>\n",
       "      <td>0</td>\n",
       "      <td>0</td>\n",
       "      <td>0</td>\n",
       "      <td>0</td>\n",
       "      <td>0</td>\n",
       "      <td>0</td>\n",
       "      <td>...</td>\n",
       "      <td>154487</td>\n",
       "      <td>154585</td>\n",
       "      <td>154712</td>\n",
       "      <td>154757</td>\n",
       "      <td>154800</td>\n",
       "      <td>154960</td>\n",
       "      <td>154960</td>\n",
       "      <td>154960</td>\n",
       "      <td>155072</td>\n",
       "      <td>155093</td>\n",
       "    </tr>\n",
       "    <tr>\n",
       "      <th>1</th>\n",
       "      <td>NaN</td>\n",
       "      <td>Albania</td>\n",
       "      <td>41.15330</td>\n",
       "      <td>20.168300</td>\n",
       "      <td>0</td>\n",
       "      <td>0</td>\n",
       "      <td>0</td>\n",
       "      <td>0</td>\n",
       "      <td>0</td>\n",
       "      <td>0</td>\n",
       "      <td>...</td>\n",
       "      <td>162953</td>\n",
       "      <td>163404</td>\n",
       "      <td>164276</td>\n",
       "      <td>165096</td>\n",
       "      <td>165864</td>\n",
       "      <td>166690</td>\n",
       "      <td>167354</td>\n",
       "      <td>167893</td>\n",
       "      <td>168188</td>\n",
       "      <td>168782</td>\n",
       "    </tr>\n",
       "    <tr>\n",
       "      <th>2</th>\n",
       "      <td>NaN</td>\n",
       "      <td>Algeria</td>\n",
       "      <td>28.03390</td>\n",
       "      <td>1.659600</td>\n",
       "      <td>0</td>\n",
       "      <td>0</td>\n",
       "      <td>0</td>\n",
       "      <td>0</td>\n",
       "      <td>0</td>\n",
       "      <td>0</td>\n",
       "      <td>...</td>\n",
       "      <td>201600</td>\n",
       "      <td>201766</td>\n",
       "      <td>201948</td>\n",
       "      <td>202122</td>\n",
       "      <td>202283</td>\n",
       "      <td>202449</td>\n",
       "      <td>202574</td>\n",
       "      <td>202722</td>\n",
       "      <td>202877</td>\n",
       "      <td>203045</td>\n",
       "    </tr>\n",
       "    <tr>\n",
       "      <th>3</th>\n",
       "      <td>NaN</td>\n",
       "      <td>Andorra</td>\n",
       "      <td>42.50630</td>\n",
       "      <td>1.521800</td>\n",
       "      <td>0</td>\n",
       "      <td>0</td>\n",
       "      <td>0</td>\n",
       "      <td>0</td>\n",
       "      <td>0</td>\n",
       "      <td>0</td>\n",
       "      <td>...</td>\n",
       "      <td>15124</td>\n",
       "      <td>15140</td>\n",
       "      <td>15140</td>\n",
       "      <td>15153</td>\n",
       "      <td>15156</td>\n",
       "      <td>15167</td>\n",
       "      <td>15167</td>\n",
       "      <td>15167</td>\n",
       "      <td>15189</td>\n",
       "      <td>15192</td>\n",
       "    </tr>\n",
       "    <tr>\n",
       "      <th>4</th>\n",
       "      <td>NaN</td>\n",
       "      <td>Angola</td>\n",
       "      <td>-11.20270</td>\n",
       "      <td>17.873900</td>\n",
       "      <td>0</td>\n",
       "      <td>0</td>\n",
       "      <td>0</td>\n",
       "      <td>0</td>\n",
       "      <td>0</td>\n",
       "      <td>0</td>\n",
       "      <td>...</td>\n",
       "      <td>52307</td>\n",
       "      <td>52644</td>\n",
       "      <td>52968</td>\n",
       "      <td>53387</td>\n",
       "      <td>53840</td>\n",
       "      <td>54280</td>\n",
       "      <td>54795</td>\n",
       "      <td>55121</td>\n",
       "      <td>55583</td>\n",
       "      <td>56040</td>\n",
       "    </tr>\n",
       "  </tbody>\n",
       "</table>\n",
       "<p>5 rows × 620 columns</p>\n",
       "</div>"
      ],
      "text/plain": [
       "  Province/State Country/Region       Lat       Long  1/22/20  1/23/20  \\\n",
       "0            NaN    Afghanistan  33.93911  67.709953        0        0   \n",
       "1            NaN        Albania  41.15330  20.168300        0        0   \n",
       "2            NaN        Algeria  28.03390   1.659600        0        0   \n",
       "3            NaN        Andorra  42.50630   1.521800        0        0   \n",
       "4            NaN         Angola -11.20270  17.873900        0        0   \n",
       "\n",
       "   1/24/20  1/25/20  1/26/20  1/27/20  ...  9/19/21  9/20/21  9/21/21  \\\n",
       "0        0        0        0        0  ...   154487   154585   154712   \n",
       "1        0        0        0        0  ...   162953   163404   164276   \n",
       "2        0        0        0        0  ...   201600   201766   201948   \n",
       "3        0        0        0        0  ...    15124    15140    15140   \n",
       "4        0        0        0        0  ...    52307    52644    52968   \n",
       "\n",
       "   9/22/21  9/23/21  9/24/21  9/25/21  9/26/21  9/27/21  9/28/21  \n",
       "0   154757   154800   154960   154960   154960   155072   155093  \n",
       "1   165096   165864   166690   167354   167893   168188   168782  \n",
       "2   202122   202283   202449   202574   202722   202877   203045  \n",
       "3    15153    15156    15167    15167    15167    15189    15192  \n",
       "4    53387    53840    54280    54795    55121    55583    56040  \n",
       "\n",
       "[5 rows x 620 columns]"
      ]
     },
     "execution_count": 10,
     "metadata": {},
     "output_type": "execute_result"
    }
   ],
   "source": [
    "# Loading file\n",
    "\n",
    "URL = \"https://raw.githubusercontent.com/PacktPublishing/Time-Series-Analysis-with-Python-Cookbook/main/datasets/Ch4/time_series_covid19_confirmed_global.csv\"\n",
    "\n",
    "response = request.urlretrieve(URL, r\".//Data/ts2.csv\")\n",
    "\n",
    "#Reading File\n",
    "ts_csv2 = pd.read_csv(r\".//Data/ts2.csv\")\n",
    "ts_csv2.head()"
   ]
  },
  {
   "cell_type": "code",
   "execution_count": 11,
   "id": "8b9bb64f",
   "metadata": {},
   "outputs": [
    {
     "data": {
      "text/html": [
       "<div>\n",
       "<style scoped>\n",
       "    .dataframe tbody tr th:only-of-type {\n",
       "        vertical-align: middle;\n",
       "    }\n",
       "\n",
       "    .dataframe tbody tr th {\n",
       "        vertical-align: top;\n",
       "    }\n",
       "\n",
       "    .dataframe thead th {\n",
       "        text-align: right;\n",
       "    }\n",
       "</style>\n",
       "<table border=\"1\" class=\"dataframe\">\n",
       "  <thead>\n",
       "    <tr style=\"text-align: right;\">\n",
       "      <th></th>\n",
       "      <th>6/1/20</th>\n",
       "      <th>6/2/20</th>\n",
       "      <th>6/3/20</th>\n",
       "      <th>6/4/20</th>\n",
       "      <th>6/5/20</th>\n",
       "      <th>6/6/20</th>\n",
       "      <th>6/7/20</th>\n",
       "      <th>6/8/20</th>\n",
       "      <th>6/9/20</th>\n",
       "      <th>6/10/20</th>\n",
       "      <th>...</th>\n",
       "      <th>9/21/20</th>\n",
       "      <th>9/22/20</th>\n",
       "      <th>9/23/20</th>\n",
       "      <th>9/24/20</th>\n",
       "      <th>9/25/20</th>\n",
       "      <th>9/26/20</th>\n",
       "      <th>9/27/20</th>\n",
       "      <th>9/28/20</th>\n",
       "      <th>9/29/20</th>\n",
       "      <th>9/30/20</th>\n",
       "    </tr>\n",
       "  </thead>\n",
       "  <tbody>\n",
       "    <tr>\n",
       "      <th>254</th>\n",
       "      <td>1816679</td>\n",
       "      <td>1837948</td>\n",
       "      <td>1857728</td>\n",
       "      <td>1879463</td>\n",
       "      <td>1904375</td>\n",
       "      <td>1925849</td>\n",
       "      <td>1944117</td>\n",
       "      <td>1960815</td>\n",
       "      <td>1978823</td>\n",
       "      <td>2000019</td>\n",
       "      <td>...</td>\n",
       "      <td>6860254</td>\n",
       "      <td>6900324</td>\n",
       "      <td>6939235</td>\n",
       "      <td>6986604</td>\n",
       "      <td>7034971</td>\n",
       "      <td>7079902</td>\n",
       "      <td>7117964</td>\n",
       "      <td>7150631</td>\n",
       "      <td>7194195</td>\n",
       "      <td>7233295</td>\n",
       "    </tr>\n",
       "  </tbody>\n",
       "</table>\n",
       "<p>1 rows × 122 columns</p>\n",
       "</div>"
      ],
      "text/plain": [
       "      6/1/20   6/2/20   6/3/20   6/4/20   6/5/20   6/6/20   6/7/20   6/8/20  \\\n",
       "254  1816679  1837948  1857728  1879463  1904375  1925849  1944117  1960815   \n",
       "\n",
       "      6/9/20  6/10/20  ...  9/21/20  9/22/20  9/23/20  9/24/20  9/25/20  \\\n",
       "254  1978823  2000019  ...  6860254  6900324  6939235  6986604  7034971   \n",
       "\n",
       "     9/26/20  9/27/20  9/28/20  9/29/20  9/30/20  \n",
       "254  7079902  7117964  7150631  7194195  7233295  \n",
       "\n",
       "[1 rows x 122 columns]"
      ]
     },
     "execution_count": 11,
     "metadata": {},
     "output_type": "execute_result"
    }
   ],
   "source": [
    "#Filtering just USA\n",
    "df_usa = ts_csv2[ts_csv2['Country/Region']== 'US']\n",
    "\n",
    "# #Cases from June to end September\n",
    "df_usa_summer = df_usa.loc[:,'6/1/20':'9/30/20']\n",
    "\n",
    "df_usa_summer.head()"
   ]
  },
  {
   "cell_type": "code",
   "execution_count": 12,
   "id": "5fee1c0e",
   "metadata": {},
   "outputs": [
    {
     "name": "stdout",
     "output_type": "stream",
     "text": [
      "<class 'pandas.core.frame.DataFrame'>\n",
      "DatetimeIndex: 122 entries, 2020-06-01 to 2020-09-30\n",
      "Data columns (total 1 columns):\n",
      " #   Column  Non-Null Count  Dtype\n",
      "---  ------  --------------  -----\n",
      " 0   cases   122 non-null    int64\n",
      "dtypes: int64(1)\n",
      "memory usage: 1.9 KB\n"
     ]
    },
    {
     "data": {
      "text/plain": [
       "None"
      ]
     },
     "metadata": {},
     "output_type": "display_data"
    },
    {
     "data": {
      "text/html": [
       "<div>\n",
       "<style scoped>\n",
       "    .dataframe tbody tr th:only-of-type {\n",
       "        vertical-align: middle;\n",
       "    }\n",
       "\n",
       "    .dataframe tbody tr th {\n",
       "        vertical-align: top;\n",
       "    }\n",
       "\n",
       "    .dataframe thead th {\n",
       "        text-align: right;\n",
       "    }\n",
       "</style>\n",
       "<table border=\"1\" class=\"dataframe\">\n",
       "  <thead>\n",
       "    <tr style=\"text-align: right;\">\n",
       "      <th></th>\n",
       "      <th>cases</th>\n",
       "    </tr>\n",
       "    <tr>\n",
       "      <th>date</th>\n",
       "      <th></th>\n",
       "    </tr>\n",
       "  </thead>\n",
       "  <tbody>\n",
       "    <tr>\n",
       "      <th>2020-06-01</th>\n",
       "      <td>1816679</td>\n",
       "    </tr>\n",
       "    <tr>\n",
       "      <th>2020-06-02</th>\n",
       "      <td>1837948</td>\n",
       "    </tr>\n",
       "    <tr>\n",
       "      <th>2020-06-03</th>\n",
       "      <td>1857728</td>\n",
       "    </tr>\n",
       "    <tr>\n",
       "      <th>2020-06-04</th>\n",
       "      <td>1879463</td>\n",
       "    </tr>\n",
       "    <tr>\n",
       "      <th>2020-06-05</th>\n",
       "      <td>1904375</td>\n",
       "    </tr>\n",
       "  </tbody>\n",
       "</table>\n",
       "</div>"
      ],
      "text/plain": [
       "              cases\n",
       "date               \n",
       "2020-06-01  1816679\n",
       "2020-06-02  1837948\n",
       "2020-06-03  1857728\n",
       "2020-06-04  1879463\n",
       "2020-06-05  1904375"
      ]
     },
     "metadata": {},
     "output_type": "display_data"
    }
   ],
   "source": [
    "# Wide to Long(Unpivoting)\n",
    "df_usa_summer_unpivoted = pd.melt(df_usa_summer,\n",
    "                                 value_vars = df_usa_summer.columns,\n",
    "                                 value_name = 'cases',\n",
    "                                 var_name = 'date').set_index('date')\n",
    "# setting type to index\n",
    "df_usa_summer_unpivoted.index = pd.to_datetime(df_usa_summer_unpivoted.index)\n",
    "\n",
    "#looking at data\n",
    "display(df_usa_summer_unpivoted.info(),df_usa_summer_unpivoted.head())\n"
   ]
  },
  {
   "cell_type": "markdown",
   "id": "4342c9f0",
   "metadata": {},
   "source": [
    "## Serializing De- Serializing data"
   ]
  },
  {
   "cell_type": "code",
   "execution_count": 13,
   "id": "becea885",
   "metadata": {},
   "outputs": [
    {
     "name": "stdout",
     "output_type": "stream",
     "text": [
      "<class 'pandas.core.frame.DataFrame'>\n",
      "DatetimeIndex: 122 entries, 2020-06-01 to 2020-09-30\n",
      "Data columns (total 1 columns):\n",
      " #   Column  Non-Null Count  Dtype\n",
      "---  ------  --------------  -----\n",
      " 0   cases   122 non-null    int64\n",
      "dtypes: int64(1)\n",
      "memory usage: 1.9 KB\n"
     ]
    },
    {
     "data": {
      "text/plain": [
       "None"
      ]
     },
     "metadata": {},
     "output_type": "display_data"
    },
    {
     "data": {
      "text/html": [
       "<div>\n",
       "<style scoped>\n",
       "    .dataframe tbody tr th:only-of-type {\n",
       "        vertical-align: middle;\n",
       "    }\n",
       "\n",
       "    .dataframe tbody tr th {\n",
       "        vertical-align: top;\n",
       "    }\n",
       "\n",
       "    .dataframe thead th {\n",
       "        text-align: right;\n",
       "    }\n",
       "</style>\n",
       "<table border=\"1\" class=\"dataframe\">\n",
       "  <thead>\n",
       "    <tr style=\"text-align: right;\">\n",
       "      <th></th>\n",
       "      <th>cases</th>\n",
       "    </tr>\n",
       "    <tr>\n",
       "      <th>date</th>\n",
       "      <th></th>\n",
       "    </tr>\n",
       "  </thead>\n",
       "  <tbody>\n",
       "    <tr>\n",
       "      <th>2020-06-01</th>\n",
       "      <td>1816679</td>\n",
       "    </tr>\n",
       "    <tr>\n",
       "      <th>2020-06-02</th>\n",
       "      <td>1837948</td>\n",
       "    </tr>\n",
       "    <tr>\n",
       "      <th>2020-06-03</th>\n",
       "      <td>1857728</td>\n",
       "    </tr>\n",
       "    <tr>\n",
       "      <th>2020-06-04</th>\n",
       "      <td>1879463</td>\n",
       "    </tr>\n",
       "    <tr>\n",
       "      <th>2020-06-05</th>\n",
       "      <td>1904375</td>\n",
       "    </tr>\n",
       "  </tbody>\n",
       "</table>\n",
       "</div>"
      ],
      "text/plain": [
       "              cases\n",
       "date               \n",
       "2020-06-01  1816679\n",
       "2020-06-02  1837948\n",
       "2020-06-03  1857728\n",
       "2020-06-04  1879463\n",
       "2020-06-05  1904375"
      ]
     },
     "metadata": {},
     "output_type": "display_data"
    }
   ],
   "source": [
    "#pickle with pandas\n",
    "df_usa_summer_unpivoted.to_pickle(r\".//Data/ts2.pkl\")\n",
    "\n",
    "unpickled_df = pd.read_pickle(r\".//Data/ts2.pkl\") #default format is set to infer and the extension tells it :it can be, i.e, .pkl.zip...\n",
    "display(unpickled_df.info(),unpickled_df.head())"
   ]
  },
  {
   "cell_type": "markdown",
   "id": "d648f1ad",
   "metadata": {},
   "source": [
    "## Pickling a function and its output"
   ]
  },
  {
   "cell_type": "code",
   "execution_count": 14,
   "id": "d7f8ab38",
   "metadata": {},
   "outputs": [],
   "source": [
    "def covid_by_country(file,days,country):\n",
    "    \n",
    "    ts = pd.read_csv(file)\n",
    "    ts = ts[ts['Country/Region'] == country]\n",
    "    final = ts.iloc[:,-days:].sum()\n",
    "    final.index = pd.to_datetime(final.index)\n",
    "    return final\n"
   ]
  },
  {
   "cell_type": "code",
   "execution_count": 15,
   "id": "a43bd3f7",
   "metadata": {},
   "outputs": [
    {
     "data": {
      "text/plain": [
       "<AxesSubplot:title={'center':'COVID confirmed case for US'}, xlabel='Date', ylabel='# of confirmed cases'>"
      ]
     },
     "execution_count": 15,
     "metadata": {},
     "output_type": "execute_result"
    },
    {
     "data": {
      "image/png": "[encoded data removed]",
      "text/plain": [
       "<Figure size 432x288 with 1 Axes>"
      ]
     },
     "metadata": {
      "needs_background": "light"
     },
     "output_type": "display_data"
    }
   ],
   "source": [
    "file = r\".//Data/ts2.csv\"\n",
    "us_past_120_days = covid_by_country(file,200,'US')\n",
    "\n",
    "us_past_120_days.plot(title=f'COVID confirmed case for US', xlabel='Date', ylabel='# of confirmed cases')"
   ]
  },
  {
   "cell_type": "markdown",
   "id": "2e13dc4c",
   "metadata": {},
   "source": [
    "### Enhancing content (metadata)"
   ]
  },
  {
   "cell_type": "code",
   "execution_count": 16,
   "id": "e5dab080",
   "metadata": {},
   "outputs": [],
   "source": [
    "# Modified path from original\n",
    "from pathlib import Path\n",
    "import pickle\n",
    "from datetime import datetime\n",
    "metadata = {\n",
    "    'date': datetime.now(),\n",
    "    'data': '''\n",
    "        COVID-19 Data Repository by the \n",
    "        Center for Systems Science and Engineering (CSSE) \n",
    "        at Johns Hopkins University'\n",
    "        ''',\n",
    "    'author': 'Tarek Atwan',\n",
    "    'version': 1.0,\n",
    "    'function': covid_by_country,\n",
    "    'example' : us_past_120_days\n",
    "}\n",
    "\n",
    "output = Path(r'.//Data/covid.pkl')\n",
    "with open(output, 'wb') as file:\n",
    "    pickle.dump(metadata, file)"
   ]
  },
  {
   "cell_type": "code",
   "execution_count": 17,
   "id": "24cde5fc",
   "metadata": {},
   "outputs": [
    {
     "data": {
      "text/plain": [
       "dict_keys(['date', 'data', 'author', 'version', 'function', 'example'])"
      ]
     },
     "execution_count": 17,
     "metadata": {},
     "output_type": "execute_result"
    }
   ],
   "source": [
    "# Deserializing and loading the content\n",
    "with open(output, 'rb') as file:\n",
    "    content = pickle.load(file)\n",
    "content.keys()"
   ]
  },
  {
   "cell_type": "code",
   "execution_count": 18,
   "id": "ec816921",
   "metadata": {},
   "outputs": [
    {
     "data": {
      "text/plain": [
       "2021-09-24    108227\n",
       "2021-09-25    108266\n",
       "2021-09-26    108309\n",
       "2021-09-27    108344\n",
       "2021-09-28    108386\n",
       "dtype: int64"
      ]
     },
     "metadata": {},
     "output_type": "display_data"
    },
    {
     "data": {
      "text/plain": [
       "<AxesSubplot:title={'center':'COVID confirmed case for China'}, xlabel='Date', ylabel='# of confirmed cases'>"
      ]
     },
     "metadata": {},
     "output_type": "display_data"
    },
    {
     "data": {
      "image/png": "[encoded data removed]",
      "text/plain": [
       "<Figure size 432x288 with 1 Axes>"
      ]
     },
     "metadata": {
      "needs_background": "light"
     },
     "output_type": "display_data"
    }
   ],
   "source": [
    "# retrieving and using the function\n",
    "\n",
    "file = r\".//Data/ts2.csv\"\n",
    "\n",
    "new_func = content['function']\n",
    "df_china = new_func(file, 120, 'China')\n",
    "display(df_china.tail())\n",
    "display(df_china.plot(title=f'COVID confirmed case for China', xlabel='Date', ylabel='# of confirmed cases'))"
   ]
  },
  {
   "cell_type": "code",
   "execution_count": 19,
   "id": "8fac9cd0",
   "metadata": {},
   "outputs": [
    {
     "data": {
      "text/plain": [
       "<AxesSubplot:title={'center':'COVID confirmed case for US'}, xlabel='Date', ylabel='# of confirmed cases'>"
      ]
     },
     "metadata": {},
     "output_type": "display_data"
    },
    {
     "data": {
      "image/png": "[encoded data removed]",
      "text/plain": [
       "<Figure size 432x288 with 1 Axes>"
      ]
     },
     "metadata": {
      "needs_background": "light"
     },
     "output_type": "display_data"
    }
   ],
   "source": [
    "display(content['example'].plot(title=f'COVID confirmed case for US'\n",
    "                                , xlabel='Date', ylabel='# of confirmed cases'))"
   ]
  },
  {
   "cell_type": "markdown",
   "id": "b46b0255",
   "metadata": {},
   "source": [
    "## Working with DateTime"
   ]
  },
  {
   "cell_type": "code",
   "execution_count": 20,
   "id": "9bf75019",
   "metadata": {},
   "outputs": [],
   "source": [
    "import pandas as pd\n",
    "import numpy as np\n",
    "import datetime as dt"
   ]
  },
  {
   "cell_type": "markdown",
   "id": "ca3d7d91",
   "metadata": {},
   "source": [
    "### Working with DatetimeIndex"
   ]
  },
  {
   "cell_type": "code",
   "execution_count": 21,
   "id": "7331e0c5",
   "metadata": {},
   "outputs": [],
   "source": [
    "dates = ['2021-01-01', # date str format %Y-%m-%d\n",
    "         '2/1/2021', # date str format %m/%d/%Y\n",
    "         '03-01-2021', # date  str format %m-%d-%Y\n",
    "         'April 1, 2021', # date  str format %B %d, %Y\n",
    "         '20210501', # date str format %Y%m%d\n",
    "          np.datetime64('2021-07-01'), # numpy datetime64\n",
    "          dt.datetime(2021, 8, 1), # python datetime\n",
    "          pd.Timestamp(2021,9,1) # pandas Timestamp\n",
    "          ]"
   ]
  },
  {
   "cell_type": "code",
   "execution_count": 22,
   "id": "4baa1d75",
   "metadata": {},
   "outputs": [
    {
     "name": "stdout",
     "output_type": "stream",
     "text": [
      "parsed_dates:  DatetimeIndex(['2021-01-01', '2021-02-01', '2021-03-01', '2021-04-01',\n",
      "               '2021-05-01', '2021-07-01', '2021-08-01', '2021-09-01'],\n",
      "              dtype='datetime64[ns]', freq=None)\n",
      "pd.DatetimeIndex:  DatetimeIndex(['2021-01-01', '2021-02-01', '2021-03-01', '2021-04-01',\n",
      "               '2021-05-01', '2021-07-01', '2021-08-01', '2021-09-01'],\n",
      "              dtype='datetime64[ns]', freq=None)\n"
     ]
    }
   ],
   "source": [
    "parsed_dates = pd.to_datetime(\n",
    "                 dates,\n",
    "                 infer_datetime_format=True,\n",
    "                 errors='coerce'\n",
    "                 )\n",
    "#Errors\n",
    "# errors='raise' -> raise an exception\n",
    "# errors='coerce' -> inserts pd.Nat indicating missing value\n",
    "# errors='ignore' -> pass the original value\n",
    "\n",
    "#readable format\n",
    "print('parsed_dates: ',parsed_dates)\n",
    "\n",
    "# #readable format, same as :\n",
    "print('pd.DatetimeIndex: ',pd.DatetimeIndex(dates))"
   ]
  },
  {
   "cell_type": "code",
   "execution_count": 23,
   "id": "c0d89569",
   "metadata": {},
   "outputs": [
    {
     "data": {
      "text/plain": [
       "datetime.datetime(2022, 1, 1, 0, 0)"
      ]
     },
     "metadata": {},
     "output_type": "display_data"
    },
    {
     "name": "stdout",
     "output_type": "stream",
     "text": [
      "2022-01-01 00:00:00 \n",
      "\n"
     ]
    },
    {
     "data": {
      "text/plain": [
       "datetime.date(2022, 1, 1)"
      ]
     },
     "metadata": {},
     "output_type": "display_data"
    },
    {
     "name": "stdout",
     "output_type": "stream",
     "text": [
      "2022-01-01 \n",
      "\n"
     ]
    },
    {
     "data": {
      "text/plain": [
       "Timestamp('2022-01-01 00:00:00')"
      ]
     },
     "metadata": {},
     "output_type": "display_data"
    },
    {
     "name": "stdout",
     "output_type": "stream",
     "text": [
      "2022-01-01 00:00:00 \n",
      "\n"
     ]
    },
    {
     "data": {
      "text/plain": [
       "Timestamp('2022-01-01 00:00:00')"
      ]
     },
     "metadata": {},
     "output_type": "display_data"
    },
    {
     "name": "stdout",
     "output_type": "stream",
     "text": [
      "2022-01-01 00:00:00\n"
     ]
    }
   ],
   "source": [
    "display(dt.datetime.strptime('1/1/2022', '%m/%d/%Y'))\n",
    "print(dt.datetime.strptime('1/1/2022', '%m/%d/%Y'),'\\n')\n",
    "\n",
    "display(dt.datetime.strptime('1 January, 2022', '%d %B, %Y').date())\n",
    "print(dt.datetime.strptime('1 January, 2022', '%d %B, %Y').date(),'\\n')\n",
    "\n",
    "display(pd.to_datetime('1/1/2022', format='%m/%d/%Y'))\n",
    "print(pd.to_datetime('1/1/2022', format='%m/%d/%Y'),'\\n')\n",
    "\n",
    "display(pd.to_datetime('1 January, 2022', format='%d %B, %Y'))\n",
    "print(pd.to_datetime('1 January, 2022', format='%d %B, %Y'))"
   ]
  },
  {
   "cell_type": "markdown",
   "id": "cbc4e332",
   "metadata": {},
   "source": [
    "#### Functions to extract information"
   ]
  },
  {
   "cell_type": "code",
   "execution_count": 24,
   "id": "46832071",
   "metadata": {},
   "outputs": [
    {
     "name": "stdout",
     "output_type": "stream",
     "text": [
      "Name of Day : Index(['Friday', 'Monday', 'Monday', 'Thursday', 'Saturday', 'Thursday',\n",
      "       'Sunday', 'Wednesday'],\n",
      "      dtype='object')\n",
      "Month : Int64Index([1, 2, 3, 4, 5, 7, 8, 9], dtype='int64')\n",
      "Year : Int64Index([2021, 2021, 2021, 2021, 2021, 2021, 2021, 2021], dtype='int64')\n",
      "Days in Month : Int64Index([31, 28, 31, 30, 31, 31, 31, 30], dtype='int64')\n",
      "Quarter Int64Index([1, 1, 1, 2, 2, 3, 3, 3], dtype='int64')\n",
      "Quarter Start : [ True False False  True False  True False False]\n",
      "Leap Year : [False False False False False False False False]\n",
      "Month Start : [ True  True  True  True  True  True  True  True]\n",
      "Month End : [False False False False False False False False]\n",
      "Year Start : [ True False False False False False False False]\n"
     ]
    }
   ],
   "source": [
    "print(f'Name of Day : {parsed_dates.day_name()}')\n",
    "print(f'Month : {parsed_dates.month}')\n",
    "print(f'Year : {parsed_dates.year}')\n",
    "print(f'Days in Month : {parsed_dates.days_in_month}')\n",
    "print(f'Quarter {parsed_dates.quarter}')\n",
    "print(f'Quarter Start : {parsed_dates.is_quarter_start}')\n",
    "print(f'Leap Year : {parsed_dates.is_leap_year}')\n",
    "print(f'Month Start : {parsed_dates.is_month_start}')\n",
    "print(f'Month End : {parsed_dates.is_month_end}')\n",
    "print(f'Year Start : {parsed_dates.is_year_start}')"
   ]
  },
  {
   "cell_type": "markdown",
   "id": "8c906de7",
   "metadata": {},
   "source": [
    "#### Generating a DatetimeIndex"
   ]
  },
  {
   "cell_type": "code",
   "execution_count": 25,
   "id": "023768a8",
   "metadata": {},
   "outputs": [
    {
     "name": "stdout",
     "output_type": "stream",
     "text": [
      "DatetimeIndex(['2021-01-01', '2021-01-02', '2021-01-03'], dtype='datetime64[ns]', freq='D') \n",
      "\n",
      "DatetimeIndex(['2021-02-01', '2021-02-02', '2021-02-03'], dtype='datetime64[ns]', freq='D') \n",
      "\n",
      "DatetimeIndex(['2021-03-01', '2021-03-02', '2021-03-03'], dtype='datetime64[ns]', freq='D') \n",
      "\n"
     ]
    }
   ],
   "source": [
    "# Start, End, periods, freq\n",
    "\n",
    "print(pd.date_range(start='2021-01-01', \n",
    "              periods=3, \n",
    "              freq='D'),'\\n')\n",
    "\n",
    "print(pd.date_range(start='2021-02-01',\n",
    "               end='2021-02-03',\n",
    "               freq='D'),'\\n')\n",
    "\n",
    "print(pd.date_range(start='2021-03-01',\n",
    "               periods=3),'\\n')"
   ]
  },
  {
   "cell_type": "markdown",
   "id": "1840eeac",
   "metadata": {},
   "source": [
    "### Working with Unix epoch timestamps\n",
    "\n",
    "Unix-based timestamp reference point:\n",
    "**January 1,1970 00:00:00 UTC**"
   ]
  },
  {
   "cell_type": "code",
   "execution_count": 26,
   "id": "6dbe1b94",
   "metadata": {},
   "outputs": [
    {
     "name": "stdout",
     "output_type": "stream",
     "text": [
      "1669846142.9155676\n"
     ]
    }
   ],
   "source": [
    "import time\n",
    "print(time.time())"
   ]
  },
  {
   "cell_type": "markdown",
   "id": "75d1bde6",
   "metadata": {},
   "source": [
    "#### Select seconds!!!\n",
    "\n",
    "https://www.epoch101.com/"
   ]
  },
  {
   "cell_type": "code",
   "execution_count": 27,
   "id": "05f0b310",
   "metadata": {},
   "outputs": [
    {
     "data": {
      "text/plain": [
       "Timestamp('2022-11-28 21:31:18.988613120')"
      ]
     },
     "execution_count": 27,
     "metadata": {},
     "output_type": "execute_result"
    }
   ],
   "source": [
    "pd.to_datetime(1669671078.9886131,unit='s')\n",
    "#Given in GMT"
   ]
  },
  {
   "cell_type": "code",
   "execution_count": 28,
   "id": "efadc137",
   "metadata": {},
   "outputs": [
    {
     "data": {
      "text/plain": [
       "Timestamp('2022-11-28 16:31:18.988613120-0500', tz='EST')"
      ]
     },
     "execution_count": 28,
     "metadata": {},
     "output_type": "execute_result"
    }
   ],
   "source": [
    "#Time Zone aware\n",
    "\n",
    "t = pd.to_datetime(1669671078.9886131,unit='s')\n",
    "\n",
    "t.tz_localize('UTC').tz_convert('EST')"
   ]
  },
  {
   "cell_type": "code",
   "execution_count": 29,
   "id": "b7116b4c",
   "metadata": {},
   "outputs": [
    {
     "data": {
      "text/html": [
       "<div>\n",
       "<style scoped>\n",
       "    .dataframe tbody tr th:only-of-type {\n",
       "        vertical-align: middle;\n",
       "    }\n",
       "\n",
       "    .dataframe tbody tr th {\n",
       "        vertical-align: top;\n",
       "    }\n",
       "\n",
       "    .dataframe thead th {\n",
       "        text-align: right;\n",
       "    }\n",
       "</style>\n",
       "<table border=\"1\" class=\"dataframe\">\n",
       "  <thead>\n",
       "    <tr style=\"text-align: right;\">\n",
       "      <th></th>\n",
       "      <th>unix_epoch</th>\n",
       "      <th>Sales</th>\n",
       "    </tr>\n",
       "  </thead>\n",
       "  <tbody>\n",
       "    <tr>\n",
       "      <th>0</th>\n",
       "      <td>1641110340</td>\n",
       "      <td>23000</td>\n",
       "    </tr>\n",
       "    <tr>\n",
       "      <th>1</th>\n",
       "      <td>1641196740</td>\n",
       "      <td>19020</td>\n",
       "    </tr>\n",
       "    <tr>\n",
       "      <th>2</th>\n",
       "      <td>1641283140</td>\n",
       "      <td>21000</td>\n",
       "    </tr>\n",
       "    <tr>\n",
       "      <th>3</th>\n",
       "      <td>1641369540</td>\n",
       "      <td>17030</td>\n",
       "    </tr>\n",
       "  </tbody>\n",
       "</table>\n",
       "</div>"
      ],
      "text/plain": [
       "   unix_epoch  Sales\n",
       "0  1641110340  23000\n",
       "1  1641196740  19020\n",
       "2  1641283140  21000\n",
       "3  1641369540  17030"
      ]
     },
     "execution_count": 29,
     "metadata": {},
     "output_type": "execute_result"
    }
   ],
   "source": [
    "df = pd.DataFrame(\n",
    "        {'unix_epoch': [1641110340,  1641196740, 1641283140, 1641369540],\n",
    "                'Sales': [23000, 19020, 21000, 17030]}\n",
    "                )\n",
    "df"
   ]
  },
  {
   "cell_type": "code",
   "execution_count": 30,
   "id": "f79a261f",
   "metadata": {},
   "outputs": [
    {
     "data": {
      "text/html": [
       "<div>\n",
       "<style scoped>\n",
       "    .dataframe tbody tr th:only-of-type {\n",
       "        vertical-align: middle;\n",
       "    }\n",
       "\n",
       "    .dataframe tbody tr th {\n",
       "        vertical-align: top;\n",
       "    }\n",
       "\n",
       "    .dataframe thead th {\n",
       "        text-align: right;\n",
       "    }\n",
       "</style>\n",
       "<table border=\"1\" class=\"dataframe\">\n",
       "  <thead>\n",
       "    <tr style=\"text-align: right;\">\n",
       "      <th></th>\n",
       "      <th>unix_epoch</th>\n",
       "      <th>Sales</th>\n",
       "    </tr>\n",
       "    <tr>\n",
       "      <th>Date</th>\n",
       "      <th></th>\n",
       "      <th></th>\n",
       "    </tr>\n",
       "  </thead>\n",
       "  <tbody>\n",
       "    <tr>\n",
       "      <th>2022-01-01 23:59:00-08:00</th>\n",
       "      <td>1641110340</td>\n",
       "      <td>23000</td>\n",
       "    </tr>\n",
       "    <tr>\n",
       "      <th>2022-01-02 23:59:00-08:00</th>\n",
       "      <td>1641196740</td>\n",
       "      <td>19020</td>\n",
       "    </tr>\n",
       "    <tr>\n",
       "      <th>2022-01-03 23:59:00-08:00</th>\n",
       "      <td>1641283140</td>\n",
       "      <td>21000</td>\n",
       "    </tr>\n",
       "    <tr>\n",
       "      <th>2022-01-04 23:59:00-08:00</th>\n",
       "      <td>1641369540</td>\n",
       "      <td>17030</td>\n",
       "    </tr>\n",
       "  </tbody>\n",
       "</table>\n",
       "</div>"
      ],
      "text/plain": [
       "                           unix_epoch  Sales\n",
       "Date                                        \n",
       "2022-01-01 23:59:00-08:00  1641110340  23000\n",
       "2022-01-02 23:59:00-08:00  1641196740  19020\n",
       "2022-01-03 23:59:00-08:00  1641283140  21000\n",
       "2022-01-04 23:59:00-08:00  1641369540  17030"
      ]
     },
     "execution_count": 30,
     "metadata": {},
     "output_type": "execute_result"
    }
   ],
   "source": [
    "# datetime in GMT\n",
    "df['Date'] = pd.to_datetime(df['unix_epoch'], unit='s')\n",
    "\n",
    "#Localizing (UTC and then adjusting to US/Pacific)\n",
    "df['Date'] = df['Date'].dt.tz_localize('UTC').dt.tz_convert('US/Pacific')\n",
    "\n",
    "#Setting as Index\n",
    "df.set_index('Date', inplace=True)\n",
    "\n",
    "df"
   ]
  },
  {
   "cell_type": "markdown",
   "id": "d98ece5f",
   "metadata": {},
   "source": [
    "#### Converting a datetime to UnIx epoch\n",
    "Other source: https://pandas.pydata.org/pandas-docs/version/0.20/timeseries.html"
   ]
  },
  {
   "cell_type": "code",
   "execution_count": 31,
   "id": "358ba650",
   "metadata": {},
   "outputs": [
    {
     "data": {
      "text/html": [
       "<div>\n",
       "<style scoped>\n",
       "    .dataframe tbody tr th:only-of-type {\n",
       "        vertical-align: middle;\n",
       "    }\n",
       "\n",
       "    .dataframe tbody tr th {\n",
       "        vertical-align: top;\n",
       "    }\n",
       "\n",
       "    .dataframe thead th {\n",
       "        text-align: right;\n",
       "    }\n",
       "</style>\n",
       "<table border=\"1\" class=\"dataframe\">\n",
       "  <thead>\n",
       "    <tr style=\"text-align: right;\">\n",
       "      <th></th>\n",
       "      <th>Date</th>\n",
       "      <th>order</th>\n",
       "    </tr>\n",
       "  </thead>\n",
       "  <tbody>\n",
       "    <tr>\n",
       "      <th>0</th>\n",
       "      <td>2022-01-01</td>\n",
       "      <td>0</td>\n",
       "    </tr>\n",
       "    <tr>\n",
       "      <th>1</th>\n",
       "      <td>2022-01-02</td>\n",
       "      <td>1</td>\n",
       "    </tr>\n",
       "    <tr>\n",
       "      <th>2</th>\n",
       "      <td>2022-01-03</td>\n",
       "      <td>2</td>\n",
       "    </tr>\n",
       "    <tr>\n",
       "      <th>3</th>\n",
       "      <td>2022-01-04</td>\n",
       "      <td>3</td>\n",
       "    </tr>\n",
       "    <tr>\n",
       "      <th>4</th>\n",
       "      <td>2022-01-05</td>\n",
       "      <td>4</td>\n",
       "    </tr>\n",
       "  </tbody>\n",
       "</table>\n",
       "</div>"
      ],
      "text/plain": [
       "        Date  order\n",
       "0 2022-01-01      0\n",
       "1 2022-01-02      1\n",
       "2 2022-01-03      2\n",
       "3 2022-01-04      3\n",
       "4 2022-01-05      4"
      ]
     },
     "execution_count": 31,
     "metadata": {},
     "output_type": "execute_result"
    }
   ],
   "source": [
    "df = pd.DataFrame(\n",
    "        {'Date': pd.date_range('01-01-2022', periods=5),\n",
    "        'order' : range(5)}\n",
    "                 )\n",
    "df"
   ]
  },
  {
   "cell_type": "code",
   "execution_count": 32,
   "id": "26065fe8",
   "metadata": {},
   "outputs": [
    {
     "data": {
      "text/html": [
       "<div>\n",
       "<style scoped>\n",
       "    .dataframe tbody tr th:only-of-type {\n",
       "        vertical-align: middle;\n",
       "    }\n",
       "\n",
       "    .dataframe tbody tr th {\n",
       "        vertical-align: top;\n",
       "    }\n",
       "\n",
       "    .dataframe thead th {\n",
       "        text-align: right;\n",
       "    }\n",
       "</style>\n",
       "<table border=\"1\" class=\"dataframe\">\n",
       "  <thead>\n",
       "    <tr style=\"text-align: right;\">\n",
       "      <th></th>\n",
       "      <th>Date</th>\n",
       "      <th>order</th>\n",
       "      <th>Date_POSIX</th>\n",
       "    </tr>\n",
       "  </thead>\n",
       "  <tbody>\n",
       "    <tr>\n",
       "      <th>0</th>\n",
       "      <td>2022-01-01</td>\n",
       "      <td>0</td>\n",
       "      <td>1640995200</td>\n",
       "    </tr>\n",
       "    <tr>\n",
       "      <th>1</th>\n",
       "      <td>2022-01-02</td>\n",
       "      <td>1</td>\n",
       "      <td>1641081600</td>\n",
       "    </tr>\n",
       "    <tr>\n",
       "      <th>2</th>\n",
       "      <td>2022-01-03</td>\n",
       "      <td>2</td>\n",
       "      <td>1641168000</td>\n",
       "    </tr>\n",
       "    <tr>\n",
       "      <th>3</th>\n",
       "      <td>2022-01-04</td>\n",
       "      <td>3</td>\n",
       "      <td>1641254400</td>\n",
       "    </tr>\n",
       "    <tr>\n",
       "      <th>4</th>\n",
       "      <td>2022-01-05</td>\n",
       "      <td>4</td>\n",
       "      <td>1641340800</td>\n",
       "    </tr>\n",
       "  </tbody>\n",
       "</table>\n",
       "</div>"
      ],
      "text/plain": [
       "        Date  order  Date_POSIX\n",
       "0 2022-01-01      0  1640995200\n",
       "1 2022-01-02      1  1641081600\n",
       "2 2022-01-03      2  1641168000\n",
       "3 2022-01-04      3  1641254400\n",
       "4 2022-01-05      4  1641340800"
      ]
     },
     "execution_count": 32,
     "metadata": {},
     "output_type": "execute_result"
    }
   ],
   "source": [
    "example = df\n",
    "example['Date_POSIX']= (df['Date'] -  pd.Timestamp(\"1970-01-01\")) // pd.Timedelta(\"1s\")\n",
    "example"
   ]
  },
  {
   "cell_type": "code",
   "execution_count": 33,
   "id": "b30a7b54",
   "metadata": {},
   "outputs": [
    {
     "data": {
      "text/plain": [
       "Timedelta('0 days 00:00:01')"
      ]
     },
     "execution_count": 33,
     "metadata": {},
     "output_type": "execute_result"
    }
   ],
   "source": [
    "pd.Timedelta(\"1s\")"
   ]
  },
  {
   "cell_type": "markdown",
   "id": "066c1747",
   "metadata": {},
   "source": [
    "### Working with time deltas\n",
    "\n",
    "Performing calculations"
   ]
  },
  {
   "cell_type": "code",
   "execution_count": 34,
   "id": "34079a3f",
   "metadata": {},
   "outputs": [
    {
     "data": {
      "text/html": [
       "<div>\n",
       "<style scoped>\n",
       "    .dataframe tbody tr th:only-of-type {\n",
       "        vertical-align: middle;\n",
       "    }\n",
       "\n",
       "    .dataframe tbody tr th {\n",
       "        vertical-align: top;\n",
       "    }\n",
       "\n",
       "    .dataframe thead th {\n",
       "        text-align: right;\n",
       "    }\n",
       "</style>\n",
       "<table border=\"1\" class=\"dataframe\">\n",
       "  <thead>\n",
       "    <tr style=\"text-align: right;\">\n",
       "      <th></th>\n",
       "      <th>item</th>\n",
       "      <th>purchase_dt</th>\n",
       "    </tr>\n",
       "  </thead>\n",
       "  <tbody>\n",
       "    <tr>\n",
       "      <th>0</th>\n",
       "      <td>item1</td>\n",
       "      <td>2021-01-01 00:00:00+00:00</td>\n",
       "    </tr>\n",
       "    <tr>\n",
       "      <th>1</th>\n",
       "      <td>item2</td>\n",
       "      <td>2021-01-02 00:00:00+00:00</td>\n",
       "    </tr>\n",
       "    <tr>\n",
       "      <th>2</th>\n",
       "      <td>item3</td>\n",
       "      <td>2021-01-03 00:00:00+00:00</td>\n",
       "    </tr>\n",
       "    <tr>\n",
       "      <th>3</th>\n",
       "      <td>item4</td>\n",
       "      <td>2021-01-04 00:00:00+00:00</td>\n",
       "    </tr>\n",
       "    <tr>\n",
       "      <th>4</th>\n",
       "      <td>item5</td>\n",
       "      <td>2021-01-05 00:00:00+00:00</td>\n",
       "    </tr>\n",
       "    <tr>\n",
       "      <th>5</th>\n",
       "      <td>item6</td>\n",
       "      <td>2021-01-06 00:00:00+00:00</td>\n",
       "    </tr>\n",
       "  </tbody>\n",
       "</table>\n",
       "</div>"
      ],
      "text/plain": [
       "    item               purchase_dt\n",
       "0  item1 2021-01-01 00:00:00+00:00\n",
       "1  item2 2021-01-02 00:00:00+00:00\n",
       "2  item3 2021-01-03 00:00:00+00:00\n",
       "3  item4 2021-01-04 00:00:00+00:00\n",
       "4  item5 2021-01-05 00:00:00+00:00\n",
       "5  item6 2021-01-06 00:00:00+00:00"
      ]
     },
     "execution_count": 34,
     "metadata": {},
     "output_type": "execute_result"
    }
   ],
   "source": [
    "df = pd.DataFrame(\n",
    "        {       \n",
    "        'item': ['item1', 'item2', 'item3', 'item4', 'item5', 'item6'],\n",
    "        'purchase_dt': pd.date_range('2021-01-01', periods=6, freq='D', tz='UTC')\n",
    "        }\n",
    ")\n",
    "df"
   ]
  },
  {
   "cell_type": "code",
   "execution_count": 35,
   "id": "f6a89785",
   "metadata": {},
   "outputs": [
    {
     "data": {
      "text/html": [
       "<div>\n",
       "<style scoped>\n",
       "    .dataframe tbody tr th:only-of-type {\n",
       "        vertical-align: middle;\n",
       "    }\n",
       "\n",
       "    .dataframe tbody tr th {\n",
       "        vertical-align: top;\n",
       "    }\n",
       "\n",
       "    .dataframe thead th {\n",
       "        text-align: right;\n",
       "    }\n",
       "</style>\n",
       "<table border=\"1\" class=\"dataframe\">\n",
       "  <thead>\n",
       "    <tr style=\"text-align: right;\">\n",
       "      <th></th>\n",
       "      <th>item</th>\n",
       "      <th>purchase_dt</th>\n",
       "      <th>expiration_dt</th>\n",
       "    </tr>\n",
       "  </thead>\n",
       "  <tbody>\n",
       "    <tr>\n",
       "      <th>0</th>\n",
       "      <td>item1</td>\n",
       "      <td>2021-01-01 00:00:00+00:00</td>\n",
       "      <td>2021-01-31 00:00:00+00:00</td>\n",
       "    </tr>\n",
       "    <tr>\n",
       "      <th>1</th>\n",
       "      <td>item2</td>\n",
       "      <td>2021-01-02 00:00:00+00:00</td>\n",
       "      <td>2021-02-01 00:00:00+00:00</td>\n",
       "    </tr>\n",
       "    <tr>\n",
       "      <th>2</th>\n",
       "      <td>item3</td>\n",
       "      <td>2021-01-03 00:00:00+00:00</td>\n",
       "      <td>2021-02-02 00:00:00+00:00</td>\n",
       "    </tr>\n",
       "    <tr>\n",
       "      <th>3</th>\n",
       "      <td>item4</td>\n",
       "      <td>2021-01-04 00:00:00+00:00</td>\n",
       "      <td>2021-02-03 00:00:00+00:00</td>\n",
       "    </tr>\n",
       "    <tr>\n",
       "      <th>4</th>\n",
       "      <td>item5</td>\n",
       "      <td>2021-01-05 00:00:00+00:00</td>\n",
       "      <td>2021-02-04 00:00:00+00:00</td>\n",
       "    </tr>\n",
       "    <tr>\n",
       "      <th>5</th>\n",
       "      <td>item6</td>\n",
       "      <td>2021-01-06 00:00:00+00:00</td>\n",
       "      <td>2021-02-05 00:00:00+00:00</td>\n",
       "    </tr>\n",
       "  </tbody>\n",
       "</table>\n",
       "</div>"
      ],
      "text/plain": [
       "    item               purchase_dt             expiration_dt\n",
       "0  item1 2021-01-01 00:00:00+00:00 2021-01-31 00:00:00+00:00\n",
       "1  item2 2021-01-02 00:00:00+00:00 2021-02-01 00:00:00+00:00\n",
       "2  item3 2021-01-03 00:00:00+00:00 2021-02-02 00:00:00+00:00\n",
       "3  item4 2021-01-04 00:00:00+00:00 2021-02-03 00:00:00+00:00\n",
       "4  item5 2021-01-05 00:00:00+00:00 2021-02-04 00:00:00+00:00\n",
       "5  item6 2021-01-06 00:00:00+00:00 2021-02-05 00:00:00+00:00"
      ]
     },
     "execution_count": 35,
     "metadata": {},
     "output_type": "execute_result"
    }
   ],
   "source": [
    "#Expiration date for returning item occurs 30 days after purchase\n",
    "df['expiration_dt'] = df['purchase_dt'] + pd.Timedelta(days=30)\n",
    "df"
   ]
  },
  {
   "cell_type": "code",
   "execution_count": 36,
   "id": "909b7fbb",
   "metadata": {},
   "outputs": [
    {
     "data": {
      "text/html": [
       "<div>\n",
       "<style scoped>\n",
       "    .dataframe tbody tr th:only-of-type {\n",
       "        vertical-align: middle;\n",
       "    }\n",
       "\n",
       "    .dataframe tbody tr th {\n",
       "        vertical-align: top;\n",
       "    }\n",
       "\n",
       "    .dataframe thead th {\n",
       "        text-align: right;\n",
       "    }\n",
       "</style>\n",
       "<table border=\"1\" class=\"dataframe\">\n",
       "  <thead>\n",
       "    <tr style=\"text-align: right;\">\n",
       "      <th></th>\n",
       "      <th>item</th>\n",
       "      <th>purchase_dt</th>\n",
       "      <th>expiration_dt</th>\n",
       "      <th>extended_dt</th>\n",
       "    </tr>\n",
       "  </thead>\n",
       "  <tbody>\n",
       "    <tr>\n",
       "      <th>0</th>\n",
       "      <td>item1</td>\n",
       "      <td>2021-01-01 00:00:00+00:00</td>\n",
       "      <td>2021-01-31 00:00:00+00:00</td>\n",
       "      <td>2021-02-05 12:30:00+00:00</td>\n",
       "    </tr>\n",
       "    <tr>\n",
       "      <th>1</th>\n",
       "      <td>item2</td>\n",
       "      <td>2021-01-02 00:00:00+00:00</td>\n",
       "      <td>2021-02-01 00:00:00+00:00</td>\n",
       "      <td>2021-02-06 12:30:00+00:00</td>\n",
       "    </tr>\n",
       "    <tr>\n",
       "      <th>2</th>\n",
       "      <td>item3</td>\n",
       "      <td>2021-01-03 00:00:00+00:00</td>\n",
       "      <td>2021-02-02 00:00:00+00:00</td>\n",
       "      <td>2021-02-07 12:30:00+00:00</td>\n",
       "    </tr>\n",
       "    <tr>\n",
       "      <th>3</th>\n",
       "      <td>item4</td>\n",
       "      <td>2021-01-04 00:00:00+00:00</td>\n",
       "      <td>2021-02-03 00:00:00+00:00</td>\n",
       "      <td>2021-02-08 12:30:00+00:00</td>\n",
       "    </tr>\n",
       "    <tr>\n",
       "      <th>4</th>\n",
       "      <td>item5</td>\n",
       "      <td>2021-01-05 00:00:00+00:00</td>\n",
       "      <td>2021-02-04 00:00:00+00:00</td>\n",
       "      <td>2021-02-09 12:30:00+00:00</td>\n",
       "    </tr>\n",
       "    <tr>\n",
       "      <th>5</th>\n",
       "      <td>item6</td>\n",
       "      <td>2021-01-06 00:00:00+00:00</td>\n",
       "      <td>2021-02-05 00:00:00+00:00</td>\n",
       "      <td>2021-02-10 12:30:00+00:00</td>\n",
       "    </tr>\n",
       "  </tbody>\n",
       "</table>\n",
       "</div>"
      ],
      "text/plain": [
       "    item               purchase_dt             expiration_dt  \\\n",
       "0  item1 2021-01-01 00:00:00+00:00 2021-01-31 00:00:00+00:00   \n",
       "1  item2 2021-01-02 00:00:00+00:00 2021-02-01 00:00:00+00:00   \n",
       "2  item3 2021-01-03 00:00:00+00:00 2021-02-02 00:00:00+00:00   \n",
       "3  item4 2021-01-04 00:00:00+00:00 2021-02-03 00:00:00+00:00   \n",
       "4  item5 2021-01-05 00:00:00+00:00 2021-02-04 00:00:00+00:00   \n",
       "5  item6 2021-01-06 00:00:00+00:00 2021-02-05 00:00:00+00:00   \n",
       "\n",
       "                extended_dt  \n",
       "0 2021-02-05 12:30:00+00:00  \n",
       "1 2021-02-06 12:30:00+00:00  \n",
       "2 2021-02-07 12:30:00+00:00  \n",
       "3 2021-02-08 12:30:00+00:00  \n",
       "4 2021-02-09 12:30:00+00:00  \n",
       "5 2021-02-10 12:30:00+00:00  "
      ]
     },
     "execution_count": 36,
     "metadata": {},
     "output_type": "execute_result"
    }
   ],
   "source": [
    "df['extended_dt'] = df['purchase_dt'] +\\\n",
    "                pd.Timedelta('35 days 12 hours 30 minutes')\n",
    "df"
   ]
  },
  {
   "cell_type": "code",
   "execution_count": 37,
   "id": "e6147bdf",
   "metadata": {},
   "outputs": [
    {
     "name": "stdout",
     "output_type": "stream",
     "text": [
      "<class 'pandas.core.frame.DataFrame'>\n",
      "RangeIndex: 6 entries, 0 to 5\n",
      "Data columns (total 4 columns):\n",
      " #   Column         Non-Null Count  Dtype              \n",
      "---  ------         --------------  -----              \n",
      " 0   item           6 non-null      object             \n",
      " 1   purchase_dt    6 non-null      datetime64[ns, UTC]\n",
      " 2   expiration_dt  6 non-null      datetime64[ns, UTC]\n",
      " 3   extended_dt    6 non-null      datetime64[ns, UTC]\n",
      "dtypes: datetime64[ns, UTC](3), object(1)\n",
      "memory usage: 320.0+ bytes\n"
     ]
    }
   ],
   "source": [
    "df.info()"
   ]
  },
  {
   "cell_type": "code",
   "execution_count": 38,
   "id": "d351d340",
   "metadata": {},
   "outputs": [
    {
     "name": "stderr",
     "output_type": "stream",
     "text": [
      "C:\\Users\\anacl\\AppData\\Local\\Temp/ipykernel_12628/3093954286.py:2: FutureWarning: Setitem-like behavior with mismatched timezones is deprecated and will change in a future version. Instead of raising (or for Index, Series, and DataFrame methods, coercing to object dtype), the value being set (or passed as a fill_value, or inserted) will be cast to the existing DatetimeArray/DatetimeIndex/Series/DataFrame column's timezone. To retain the old behavior, explicitly cast to object dtype before the operation.\n",
      "  df.iloc[:,1:] = df.iloc[: ,1:].apply(lambda x: x.dt.tz_convert('US/Pacific'))\n"
     ]
    },
    {
     "data": {
      "text/html": [
       "<div>\n",
       "<style scoped>\n",
       "    .dataframe tbody tr th:only-of-type {\n",
       "        vertical-align: middle;\n",
       "    }\n",
       "\n",
       "    .dataframe tbody tr th {\n",
       "        vertical-align: top;\n",
       "    }\n",
       "\n",
       "    .dataframe thead th {\n",
       "        text-align: right;\n",
       "    }\n",
       "</style>\n",
       "<table border=\"1\" class=\"dataframe\">\n",
       "  <thead>\n",
       "    <tr style=\"text-align: right;\">\n",
       "      <th></th>\n",
       "      <th>item</th>\n",
       "      <th>purchase_dt</th>\n",
       "      <th>expiration_dt</th>\n",
       "      <th>extended_dt</th>\n",
       "    </tr>\n",
       "  </thead>\n",
       "  <tbody>\n",
       "    <tr>\n",
       "      <th>0</th>\n",
       "      <td>item1</td>\n",
       "      <td>2020-12-31 16:00:00-08:00</td>\n",
       "      <td>2021-01-30 16:00:00-08:00</td>\n",
       "      <td>2021-02-05 04:30:00-08:00</td>\n",
       "    </tr>\n",
       "    <tr>\n",
       "      <th>1</th>\n",
       "      <td>item2</td>\n",
       "      <td>2021-01-01 16:00:00-08:00</td>\n",
       "      <td>2021-01-31 16:00:00-08:00</td>\n",
       "      <td>2021-02-06 04:30:00-08:00</td>\n",
       "    </tr>\n",
       "    <tr>\n",
       "      <th>2</th>\n",
       "      <td>item3</td>\n",
       "      <td>2021-01-02 16:00:00-08:00</td>\n",
       "      <td>2021-02-01 16:00:00-08:00</td>\n",
       "      <td>2021-02-07 04:30:00-08:00</td>\n",
       "    </tr>\n",
       "    <tr>\n",
       "      <th>3</th>\n",
       "      <td>item4</td>\n",
       "      <td>2021-01-03 16:00:00-08:00</td>\n",
       "      <td>2021-02-02 16:00:00-08:00</td>\n",
       "      <td>2021-02-08 04:30:00-08:00</td>\n",
       "    </tr>\n",
       "    <tr>\n",
       "      <th>4</th>\n",
       "      <td>item5</td>\n",
       "      <td>2021-01-04 16:00:00-08:00</td>\n",
       "      <td>2021-02-03 16:00:00-08:00</td>\n",
       "      <td>2021-02-09 04:30:00-08:00</td>\n",
       "    </tr>\n",
       "    <tr>\n",
       "      <th>5</th>\n",
       "      <td>item6</td>\n",
       "      <td>2021-01-05 16:00:00-08:00</td>\n",
       "      <td>2021-02-04 16:00:00-08:00</td>\n",
       "      <td>2021-02-10 04:30:00-08:00</td>\n",
       "    </tr>\n",
       "  </tbody>\n",
       "</table>\n",
       "</div>"
      ],
      "text/plain": [
       "    item               purchase_dt             expiration_dt  \\\n",
       "0  item1 2020-12-31 16:00:00-08:00 2021-01-30 16:00:00-08:00   \n",
       "1  item2 2021-01-01 16:00:00-08:00 2021-01-31 16:00:00-08:00   \n",
       "2  item3 2021-01-02 16:00:00-08:00 2021-02-01 16:00:00-08:00   \n",
       "3  item4 2021-01-03 16:00:00-08:00 2021-02-02 16:00:00-08:00   \n",
       "4  item5 2021-01-04 16:00:00-08:00 2021-02-03 16:00:00-08:00   \n",
       "5  item6 2021-01-05 16:00:00-08:00 2021-02-04 16:00:00-08:00   \n",
       "\n",
       "                extended_dt  \n",
       "0 2021-02-05 04:30:00-08:00  \n",
       "1 2021-02-06 04:30:00-08:00  \n",
       "2 2021-02-07 04:30:00-08:00  \n",
       "3 2021-02-08 04:30:00-08:00  \n",
       "4 2021-02-09 04:30:00-08:00  \n",
       "5 2021-02-10 04:30:00-08:00  "
      ]
     },
     "execution_count": 38,
     "metadata": {},
     "output_type": "execute_result"
    }
   ],
   "source": [
    "# Converting datetimew frrom UTC to US/Pacific\n",
    "df.iloc[:,1:] = df.iloc[: ,1:].apply(lambda x: x.dt.tz_convert('US/Pacific'))\n",
    "df"
   ]
  },
  {
   "cell_type": "code",
   "execution_count": 39,
   "id": "f3bef779",
   "metadata": {},
   "outputs": [
    {
     "name": "stdout",
     "output_type": "stream",
     "text": [
      "<class 'pandas.core.frame.DataFrame'>\n",
      "RangeIndex: 6 entries, 0 to 5\n",
      "Data columns (total 4 columns):\n",
      " #   Column         Non-Null Count  Dtype                     \n",
      "---  ------         --------------  -----                     \n",
      " 0   item           6 non-null      object                    \n",
      " 1   purchase_dt    6 non-null      datetime64[ns, US/Pacific]\n",
      " 2   expiration_dt  6 non-null      datetime64[ns, US/Pacific]\n",
      " 3   extended_dt    6 non-null      datetime64[ns, US/Pacific]\n",
      "dtypes: datetime64[ns, US/Pacific](3), object(1)\n",
      "memory usage: 320.0+ bytes\n"
     ]
    }
   ],
   "source": [
    "df.info()"
   ]
  },
  {
   "cell_type": "code",
   "execution_count": 40,
   "id": "dc7fb8e3",
   "metadata": {},
   "outputs": [
    {
     "data": {
      "text/html": [
       "<div>\n",
       "<style scoped>\n",
       "    .dataframe tbody tr th:only-of-type {\n",
       "        vertical-align: middle;\n",
       "    }\n",
       "\n",
       "    .dataframe tbody tr th {\n",
       "        vertical-align: top;\n",
       "    }\n",
       "\n",
       "    .dataframe thead th {\n",
       "        text-align: right;\n",
       "    }\n",
       "</style>\n",
       "<table border=\"1\" class=\"dataframe\">\n",
       "  <thead>\n",
       "    <tr style=\"text-align: right;\">\n",
       "      <th></th>\n",
       "      <th>item</th>\n",
       "      <th>purchase_dt</th>\n",
       "      <th>expiration_dt</th>\n",
       "      <th>extended_dt</th>\n",
       "      <th>exp_ext_diff</th>\n",
       "    </tr>\n",
       "  </thead>\n",
       "  <tbody>\n",
       "    <tr>\n",
       "      <th>0</th>\n",
       "      <td>item1</td>\n",
       "      <td>2020-12-31 16:00:00-08:00</td>\n",
       "      <td>2021-01-30 16:00:00-08:00</td>\n",
       "      <td>2021-02-05 04:30:00-08:00</td>\n",
       "      <td>5 days 12:30:00</td>\n",
       "    </tr>\n",
       "    <tr>\n",
       "      <th>1</th>\n",
       "      <td>item2</td>\n",
       "      <td>2021-01-01 16:00:00-08:00</td>\n",
       "      <td>2021-01-31 16:00:00-08:00</td>\n",
       "      <td>2021-02-06 04:30:00-08:00</td>\n",
       "      <td>5 days 12:30:00</td>\n",
       "    </tr>\n",
       "    <tr>\n",
       "      <th>2</th>\n",
       "      <td>item3</td>\n",
       "      <td>2021-01-02 16:00:00-08:00</td>\n",
       "      <td>2021-02-01 16:00:00-08:00</td>\n",
       "      <td>2021-02-07 04:30:00-08:00</td>\n",
       "      <td>5 days 12:30:00</td>\n",
       "    </tr>\n",
       "    <tr>\n",
       "      <th>3</th>\n",
       "      <td>item4</td>\n",
       "      <td>2021-01-03 16:00:00-08:00</td>\n",
       "      <td>2021-02-02 16:00:00-08:00</td>\n",
       "      <td>2021-02-08 04:30:00-08:00</td>\n",
       "      <td>5 days 12:30:00</td>\n",
       "    </tr>\n",
       "    <tr>\n",
       "      <th>4</th>\n",
       "      <td>item5</td>\n",
       "      <td>2021-01-04 16:00:00-08:00</td>\n",
       "      <td>2021-02-03 16:00:00-08:00</td>\n",
       "      <td>2021-02-09 04:30:00-08:00</td>\n",
       "      <td>5 days 12:30:00</td>\n",
       "    </tr>\n",
       "    <tr>\n",
       "      <th>5</th>\n",
       "      <td>item6</td>\n",
       "      <td>2021-01-05 16:00:00-08:00</td>\n",
       "      <td>2021-02-04 16:00:00-08:00</td>\n",
       "      <td>2021-02-10 04:30:00-08:00</td>\n",
       "      <td>5 days 12:30:00</td>\n",
       "    </tr>\n",
       "  </tbody>\n",
       "</table>\n",
       "</div>"
      ],
      "text/plain": [
       "    item               purchase_dt             expiration_dt  \\\n",
       "0  item1 2020-12-31 16:00:00-08:00 2021-01-30 16:00:00-08:00   \n",
       "1  item2 2021-01-01 16:00:00-08:00 2021-01-31 16:00:00-08:00   \n",
       "2  item3 2021-01-02 16:00:00-08:00 2021-02-01 16:00:00-08:00   \n",
       "3  item4 2021-01-03 16:00:00-08:00 2021-02-02 16:00:00-08:00   \n",
       "4  item5 2021-01-04 16:00:00-08:00 2021-02-03 16:00:00-08:00   \n",
       "5  item6 2021-01-05 16:00:00-08:00 2021-02-04 16:00:00-08:00   \n",
       "\n",
       "                extended_dt    exp_ext_diff  \n",
       "0 2021-02-05 04:30:00-08:00 5 days 12:30:00  \n",
       "1 2021-02-06 04:30:00-08:00 5 days 12:30:00  \n",
       "2 2021-02-07 04:30:00-08:00 5 days 12:30:00  \n",
       "3 2021-02-08 04:30:00-08:00 5 days 12:30:00  \n",
       "4 2021-02-09 04:30:00-08:00 5 days 12:30:00  \n",
       "5 2021-02-10 04:30:00-08:00 5 days 12:30:00  "
      ]
     },
     "execution_count": 40,
     "metadata": {},
     "output_type": "execute_result"
    }
   ],
   "source": [
    "df['exp_ext_diff'] = (\n",
    "         df['extended_dt'] - df['expiration_dt']\n",
    "        )\n",
    "df"
   ]
  },
  {
   "cell_type": "code",
   "execution_count": 41,
   "id": "1824de02",
   "metadata": {},
   "outputs": [
    {
     "data": {
      "text/plain": [
       "TimedeltaIndex(['1 days 00:00:00', '5 days 00:00:00', '10 days 06:00:00'], dtype='timedelta64[ns]', freq=None)"
      ]
     },
     "execution_count": 41,
     "metadata": {},
     "output_type": "execute_result"
    }
   ],
   "source": [
    "tds = pd.to_timedelta(['1 day', '5 days', '10 days 6 hours'])\n",
    "tds"
   ]
  },
  {
   "cell_type": "code",
   "execution_count": 42,
   "id": "f37c16c5",
   "metadata": {},
   "outputs": [
    {
     "data": {
      "text/html": [
       "<div>\n",
       "<style scoped>\n",
       "    .dataframe tbody tr th:only-of-type {\n",
       "        vertical-align: middle;\n",
       "    }\n",
       "\n",
       "    .dataframe tbody tr th {\n",
       "        vertical-align: top;\n",
       "    }\n",
       "\n",
       "    .dataframe thead th {\n",
       "        text-align: right;\n",
       "    }\n",
       "</style>\n",
       "<table border=\"1\" class=\"dataframe\">\n",
       "  <thead>\n",
       "    <tr style=\"text-align: right;\">\n",
       "      <th></th>\n",
       "      <th>item</th>\n",
       "      <th>purchase_dt</th>\n",
       "    </tr>\n",
       "  </thead>\n",
       "  <tbody>\n",
       "    <tr>\n",
       "      <th>0</th>\n",
       "      <td>item1</td>\n",
       "      <td>2021-01-01 00:00:00+00:00</td>\n",
       "    </tr>\n",
       "    <tr>\n",
       "      <th>1</th>\n",
       "      <td>item2</td>\n",
       "      <td>2021-01-02 00:00:00+00:00</td>\n",
       "    </tr>\n",
       "    <tr>\n",
       "      <th>2</th>\n",
       "      <td>item3</td>\n",
       "      <td>2021-01-03 00:00:00+00:00</td>\n",
       "    </tr>\n",
       "    <tr>\n",
       "      <th>3</th>\n",
       "      <td>item4</td>\n",
       "      <td>2021-01-04 00:00:00+00:00</td>\n",
       "    </tr>\n",
       "    <tr>\n",
       "      <th>4</th>\n",
       "      <td>item5</td>\n",
       "      <td>2021-01-05 00:00:00+00:00</td>\n",
       "    </tr>\n",
       "    <tr>\n",
       "      <th>5</th>\n",
       "      <td>item6</td>\n",
       "      <td>2021-01-06 00:00:00+00:00</td>\n",
       "    </tr>\n",
       "  </tbody>\n",
       "</table>\n",
       "</div>"
      ],
      "text/plain": [
       "    item               purchase_dt\n",
       "0  item1 2021-01-01 00:00:00+00:00\n",
       "1  item2 2021-01-02 00:00:00+00:00\n",
       "2  item3 2021-01-03 00:00:00+00:00\n",
       "3  item4 2021-01-04 00:00:00+00:00\n",
       "4  item5 2021-01-05 00:00:00+00:00\n",
       "5  item6 2021-01-06 00:00:00+00:00"
      ]
     },
     "execution_count": 42,
     "metadata": {},
     "output_type": "execute_result"
    }
   ],
   "source": [
    "df = pd.DataFrame(\n",
    "        {       \n",
    "        'item': ['item1', 'item2', 'item3', 'item4', 'item5', 'item6'],\n",
    "        'purchase_dt': pd.date_range('2021-01-01', periods=6, freq='D', tz='UTC')\n",
    "        }\n",
    ")\n",
    "df"
   ]
  },
  {
   "cell_type": "code",
   "execution_count": 43,
   "id": "e0f827ba",
   "metadata": {},
   "outputs": [
    {
     "data": {
      "text/html": [
       "<div>\n",
       "<style scoped>\n",
       "    .dataframe tbody tr th:only-of-type {\n",
       "        vertical-align: middle;\n",
       "    }\n",
       "\n",
       "    .dataframe tbody tr th {\n",
       "        vertical-align: top;\n",
       "    }\n",
       "\n",
       "    .dataframe thead th {\n",
       "        text-align: right;\n",
       "    }\n",
       "</style>\n",
       "<table border=\"1\" class=\"dataframe\">\n",
       "  <thead>\n",
       "    <tr style=\"text-align: right;\">\n",
       "      <th></th>\n",
       "      <th>item</th>\n",
       "      <th>purchase_dt</th>\n",
       "      <th>1 week</th>\n",
       "    </tr>\n",
       "  </thead>\n",
       "  <tbody>\n",
       "    <tr>\n",
       "      <th>0</th>\n",
       "      <td>item1</td>\n",
       "      <td>2021-01-01 00:00:00+00:00</td>\n",
       "      <td>7 days</td>\n",
       "    </tr>\n",
       "    <tr>\n",
       "      <th>1</th>\n",
       "      <td>item2</td>\n",
       "      <td>2021-01-02 00:00:00+00:00</td>\n",
       "      <td>7 days</td>\n",
       "    </tr>\n",
       "    <tr>\n",
       "      <th>2</th>\n",
       "      <td>item3</td>\n",
       "      <td>2021-01-03 00:00:00+00:00</td>\n",
       "      <td>7 days</td>\n",
       "    </tr>\n",
       "    <tr>\n",
       "      <th>3</th>\n",
       "      <td>item4</td>\n",
       "      <td>2021-01-04 00:00:00+00:00</td>\n",
       "      <td>7 days</td>\n",
       "    </tr>\n",
       "    <tr>\n",
       "      <th>4</th>\n",
       "      <td>item5</td>\n",
       "      <td>2021-01-05 00:00:00+00:00</td>\n",
       "      <td>7 days</td>\n",
       "    </tr>\n",
       "    <tr>\n",
       "      <th>5</th>\n",
       "      <td>item6</td>\n",
       "      <td>2021-01-06 00:00:00+00:00</td>\n",
       "      <td>7 days</td>\n",
       "    </tr>\n",
       "  </tbody>\n",
       "</table>\n",
       "</div>"
      ],
      "text/plain": [
       "    item               purchase_dt 1 week\n",
       "0  item1 2021-01-01 00:00:00+00:00 7 days\n",
       "1  item2 2021-01-02 00:00:00+00:00 7 days\n",
       "2  item3 2021-01-03 00:00:00+00:00 7 days\n",
       "3  item4 2021-01-04 00:00:00+00:00 7 days\n",
       "4  item5 2021-01-05 00:00:00+00:00 7 days\n",
       "5  item6 2021-01-06 00:00:00+00:00 7 days"
      ]
     },
     "execution_count": 43,
     "metadata": {},
     "output_type": "execute_result"
    }
   ],
   "source": [
    "df['1 week'] = pd.Timedelta('1W')\n",
    "df"
   ]
  },
  {
   "cell_type": "code",
   "execution_count": 44,
   "id": "5506f9f1",
   "metadata": {},
   "outputs": [
    {
     "data": {
      "text/html": [
       "<div>\n",
       "<style scoped>\n",
       "    .dataframe tbody tr th:only-of-type {\n",
       "        vertical-align: middle;\n",
       "    }\n",
       "\n",
       "    .dataframe tbody tr th {\n",
       "        vertical-align: top;\n",
       "    }\n",
       "\n",
       "    .dataframe thead th {\n",
       "        text-align: right;\n",
       "    }\n",
       "</style>\n",
       "<table border=\"1\" class=\"dataframe\">\n",
       "  <thead>\n",
       "    <tr style=\"text-align: right;\">\n",
       "      <th></th>\n",
       "      <th>item</th>\n",
       "      <th>purchase_dt</th>\n",
       "      <th>1 week</th>\n",
       "      <th>1_week_more</th>\n",
       "      <th>1_week_less</th>\n",
       "    </tr>\n",
       "  </thead>\n",
       "  <tbody>\n",
       "    <tr>\n",
       "      <th>0</th>\n",
       "      <td>item1</td>\n",
       "      <td>2021-01-01 00:00:00+00:00</td>\n",
       "      <td>7 days</td>\n",
       "      <td>2021-01-08 00:00:00+00:00</td>\n",
       "      <td>2020-12-25 00:00:00+00:00</td>\n",
       "    </tr>\n",
       "    <tr>\n",
       "      <th>1</th>\n",
       "      <td>item2</td>\n",
       "      <td>2021-01-02 00:00:00+00:00</td>\n",
       "      <td>7 days</td>\n",
       "      <td>2021-01-09 00:00:00+00:00</td>\n",
       "      <td>2020-12-26 00:00:00+00:00</td>\n",
       "    </tr>\n",
       "    <tr>\n",
       "      <th>2</th>\n",
       "      <td>item3</td>\n",
       "      <td>2021-01-03 00:00:00+00:00</td>\n",
       "      <td>7 days</td>\n",
       "      <td>2021-01-10 00:00:00+00:00</td>\n",
       "      <td>2020-12-27 00:00:00+00:00</td>\n",
       "    </tr>\n",
       "    <tr>\n",
       "      <th>3</th>\n",
       "      <td>item4</td>\n",
       "      <td>2021-01-04 00:00:00+00:00</td>\n",
       "      <td>7 days</td>\n",
       "      <td>2021-01-11 00:00:00+00:00</td>\n",
       "      <td>2020-12-28 00:00:00+00:00</td>\n",
       "    </tr>\n",
       "    <tr>\n",
       "      <th>4</th>\n",
       "      <td>item5</td>\n",
       "      <td>2021-01-05 00:00:00+00:00</td>\n",
       "      <td>7 days</td>\n",
       "      <td>2021-01-12 00:00:00+00:00</td>\n",
       "      <td>2020-12-29 00:00:00+00:00</td>\n",
       "    </tr>\n",
       "    <tr>\n",
       "      <th>5</th>\n",
       "      <td>item6</td>\n",
       "      <td>2021-01-06 00:00:00+00:00</td>\n",
       "      <td>7 days</td>\n",
       "      <td>2021-01-13 00:00:00+00:00</td>\n",
       "      <td>2020-12-30 00:00:00+00:00</td>\n",
       "    </tr>\n",
       "  </tbody>\n",
       "</table>\n",
       "</div>"
      ],
      "text/plain": [
       "    item               purchase_dt 1 week               1_week_more  \\\n",
       "0  item1 2021-01-01 00:00:00+00:00 7 days 2021-01-08 00:00:00+00:00   \n",
       "1  item2 2021-01-02 00:00:00+00:00 7 days 2021-01-09 00:00:00+00:00   \n",
       "2  item3 2021-01-03 00:00:00+00:00 7 days 2021-01-10 00:00:00+00:00   \n",
       "3  item4 2021-01-04 00:00:00+00:00 7 days 2021-01-11 00:00:00+00:00   \n",
       "4  item5 2021-01-05 00:00:00+00:00 7 days 2021-01-12 00:00:00+00:00   \n",
       "5  item6 2021-01-06 00:00:00+00:00 7 days 2021-01-13 00:00:00+00:00   \n",
       "\n",
       "                1_week_less  \n",
       "0 2020-12-25 00:00:00+00:00  \n",
       "1 2020-12-26 00:00:00+00:00  \n",
       "2 2020-12-27 00:00:00+00:00  \n",
       "3 2020-12-28 00:00:00+00:00  \n",
       "4 2020-12-29 00:00:00+00:00  \n",
       "5 2020-12-30 00:00:00+00:00  "
      ]
     },
     "execution_count": 44,
     "metadata": {},
     "output_type": "execute_result"
    }
   ],
   "source": [
    "df['1_week_more'] = df['purchase_dt'] + df['1 week']\n",
    "df['1_week_less'] = df['purchase_dt'] - df['1 week']\n",
    "df"
   ]
  },
  {
   "cell_type": "code",
   "execution_count": 45,
   "id": "9734a745",
   "metadata": {},
   "outputs": [
    {
     "name": "stdout",
     "output_type": "stream",
     "text": [
      "<class 'pandas.core.frame.DataFrame'>\n",
      "RangeIndex: 6 entries, 0 to 5\n",
      "Data columns (total 5 columns):\n",
      " #   Column       Non-Null Count  Dtype              \n",
      "---  ------       --------------  -----              \n",
      " 0   item         6 non-null      object             \n",
      " 1   purchase_dt  6 non-null      datetime64[ns, UTC]\n",
      " 2   1 week       6 non-null      timedelta64[ns]    \n",
      " 3   1_week_more  6 non-null      datetime64[ns, UTC]\n",
      " 4   1_week_less  6 non-null      datetime64[ns, UTC]\n",
      "dtypes: datetime64[ns, UTC](3), object(1), timedelta64[ns](1)\n",
      "memory usage: 368.0+ bytes\n"
     ]
    }
   ],
   "source": [
    "df.info()"
   ]
  },
  {
   "cell_type": "markdown",
   "id": "1226d825",
   "metadata": {},
   "source": [
    "timedelta allows calculations and timedelta_range works in a similar fashion to date-range:"
   ]
  },
  {
   "cell_type": "code",
   "execution_count": 46,
   "id": "577cf288",
   "metadata": {},
   "outputs": [
    {
     "data": {
      "text/html": [
       "<div>\n",
       "<style scoped>\n",
       "    .dataframe tbody tr th:only-of-type {\n",
       "        vertical-align: middle;\n",
       "    }\n",
       "\n",
       "    .dataframe tbody tr th {\n",
       "        vertical-align: top;\n",
       "    }\n",
       "\n",
       "    .dataframe thead th {\n",
       "        text-align: right;\n",
       "    }\n",
       "</style>\n",
       "<table border=\"1\" class=\"dataframe\">\n",
       "  <thead>\n",
       "    <tr style=\"text-align: right;\">\n",
       "      <th></th>\n",
       "      <th>item</th>\n",
       "      <th>purchase_dt</th>\n",
       "      <th>time_deltas</th>\n",
       "    </tr>\n",
       "  </thead>\n",
       "  <tbody>\n",
       "    <tr>\n",
       "      <th>0</th>\n",
       "      <td>item1</td>\n",
       "      <td>2021-01-01 00:00:00+00:00</td>\n",
       "      <td>9 days 06:00:00</td>\n",
       "    </tr>\n",
       "    <tr>\n",
       "      <th>1</th>\n",
       "      <td>item2</td>\n",
       "      <td>2021-01-02 00:00:00+00:00</td>\n",
       "      <td>10 days 06:00:00</td>\n",
       "    </tr>\n",
       "    <tr>\n",
       "      <th>2</th>\n",
       "      <td>item3</td>\n",
       "      <td>2021-01-03 00:00:00+00:00</td>\n",
       "      <td>11 days 06:00:00</td>\n",
       "    </tr>\n",
       "    <tr>\n",
       "      <th>3</th>\n",
       "      <td>item4</td>\n",
       "      <td>2021-01-04 00:00:00+00:00</td>\n",
       "      <td>12 days 06:00:00</td>\n",
       "    </tr>\n",
       "    <tr>\n",
       "      <th>4</th>\n",
       "      <td>item5</td>\n",
       "      <td>2021-01-05 00:00:00+00:00</td>\n",
       "      <td>13 days 06:00:00</td>\n",
       "    </tr>\n",
       "  </tbody>\n",
       "</table>\n",
       "</div>"
      ],
      "text/plain": [
       "    item               purchase_dt      time_deltas\n",
       "0  item1 2021-01-01 00:00:00+00:00  9 days 06:00:00\n",
       "1  item2 2021-01-02 00:00:00+00:00 10 days 06:00:00\n",
       "2  item3 2021-01-03 00:00:00+00:00 11 days 06:00:00\n",
       "3  item4 2021-01-04 00:00:00+00:00 12 days 06:00:00\n",
       "4  item5 2021-01-05 00:00:00+00:00 13 days 06:00:00"
      ]
     },
     "execution_count": 46,
     "metadata": {},
     "output_type": "execute_result"
    }
   ],
   "source": [
    "df = pd.DataFrame(\n",
    "        {       \n",
    "        'item': ['item1', 'item2', 'item3', 'item4', 'item5'],\n",
    "        'purchase_dt': pd.date_range('2021-01-01', periods=5, freq='D', tz='UTC'),\n",
    "        'time_deltas': pd.timedelta_range('1W 2 days 6 hours', periods=5)\n",
    "        }\n",
    "\n",
    ")\n",
    "df"
   ]
  },
  {
   "cell_type": "markdown",
   "id": "f5197b35",
   "metadata": {},
   "source": [
    "### Converting Datetime / Time Zone info\n",
    "\n",
    "References: https://en.wikipedia.org/wiki/List_of_tz_database_time_zones\n"
   ]
  },
  {
   "cell_type": "code",
   "execution_count": 47,
   "id": "bf4e98f4",
   "metadata": {},
   "outputs": [
    {
     "data": {
      "text/html": [
       "<div>\n",
       "<style scoped>\n",
       "    .dataframe tbody tr th:only-of-type {\n",
       "        vertical-align: middle;\n",
       "    }\n",
       "\n",
       "    .dataframe tbody tr th {\n",
       "        vertical-align: top;\n",
       "    }\n",
       "\n",
       "    .dataframe thead th {\n",
       "        text-align: right;\n",
       "    }\n",
       "</style>\n",
       "<table border=\"1\" class=\"dataframe\">\n",
       "  <thead>\n",
       "    <tr style=\"text-align: right;\">\n",
       "      <th></th>\n",
       "      <th>Location</th>\n",
       "      <th>tz</th>\n",
       "    </tr>\n",
       "    <tr>\n",
       "      <th>visit_dt</th>\n",
       "      <th></th>\n",
       "      <th></th>\n",
       "    </tr>\n",
       "  </thead>\n",
       "  <tbody>\n",
       "    <tr>\n",
       "      <th>2022-11-30 22:00:00</th>\n",
       "      <td>Los Angeles</td>\n",
       "      <td>US/Pacific</td>\n",
       "    </tr>\n",
       "    <tr>\n",
       "      <th>2022-11-30 22:45:00</th>\n",
       "      <td>New York</td>\n",
       "      <td>US/Eastern</td>\n",
       "    </tr>\n",
       "    <tr>\n",
       "      <th>2022-11-30 23:30:00</th>\n",
       "      <td>Berlin</td>\n",
       "      <td>Europe/Berlin</td>\n",
       "    </tr>\n",
       "    <tr>\n",
       "      <th>2022-12-01 00:15:00</th>\n",
       "      <td>New Delhi</td>\n",
       "      <td>Asia/Kolkata</td>\n",
       "    </tr>\n",
       "    <tr>\n",
       "      <th>2022-12-01 01:00:00</th>\n",
       "      <td>Moscow</td>\n",
       "      <td>Europe/Moscow</td>\n",
       "    </tr>\n",
       "    <tr>\n",
       "      <th>2022-12-01 01:45:00</th>\n",
       "      <td>Tokyo</td>\n",
       "      <td>Asia/Tokyo</td>\n",
       "    </tr>\n",
       "    <tr>\n",
       "      <th>2022-12-01 02:30:00</th>\n",
       "      <td>Dubai</td>\n",
       "      <td>Asia/Dubai</td>\n",
       "    </tr>\n",
       "  </tbody>\n",
       "</table>\n",
       "</div>"
      ],
      "text/plain": [
       "                        Location             tz\n",
       "visit_dt                                       \n",
       "2022-11-30 22:00:00  Los Angeles     US/Pacific\n",
       "2022-11-30 22:45:00     New York     US/Eastern\n",
       "2022-11-30 23:30:00       Berlin  Europe/Berlin\n",
       "2022-12-01 00:15:00    New Delhi   Asia/Kolkata\n",
       "2022-12-01 01:00:00       Moscow  Europe/Moscow\n",
       "2022-12-01 01:45:00        Tokyo     Asia/Tokyo\n",
       "2022-12-01 02:30:00        Dubai     Asia/Dubai"
      ]
     },
     "execution_count": 47,
     "metadata": {},
     "output_type": "execute_result"
    }
   ],
   "source": [
    "df = pd.DataFrame(\n",
    "        {       \n",
    "        'Location': ['Los Angeles', \n",
    "                     'New York',\n",
    "                     'Berlin', \n",
    "                     'New Delhi', \n",
    "                     'Moscow', \n",
    "                     'Tokyo', \n",
    "                     'Dubai'],\n",
    "        'tz': ['US/Pacific', \n",
    "               'US/Eastern', \n",
    "               'Europe/Berlin', \n",
    "               'Asia/Kolkata', \n",
    "               'Europe/Moscow', \n",
    "               'Asia/Tokyo',\n",
    "               'Asia/Dubai'],\n",
    "        'visit_dt': pd.date_range(start='22:00',periods=7, freq='45min'),\n",
    "        }).set_index('visit_dt')\n",
    "df"
   ]
  },
  {
   "cell_type": "code",
   "execution_count": 48,
   "id": "0b45a0b1",
   "metadata": {},
   "outputs": [
    {
     "data": {
      "text/html": [
       "<div>\n",
       "<style scoped>\n",
       "    .dataframe tbody tr th:only-of-type {\n",
       "        vertical-align: middle;\n",
       "    }\n",
       "\n",
       "    .dataframe tbody tr th {\n",
       "        vertical-align: top;\n",
       "    }\n",
       "\n",
       "    .dataframe thead th {\n",
       "        text-align: right;\n",
       "    }\n",
       "</style>\n",
       "<table border=\"1\" class=\"dataframe\">\n",
       "  <thead>\n",
       "    <tr style=\"text-align: right;\">\n",
       "      <th></th>\n",
       "      <th>Location</th>\n",
       "      <th>tz</th>\n",
       "      <th>local_dt</th>\n",
       "    </tr>\n",
       "    <tr>\n",
       "      <th>visit_dt</th>\n",
       "      <th></th>\n",
       "      <th></th>\n",
       "      <th></th>\n",
       "    </tr>\n",
       "  </thead>\n",
       "  <tbody>\n",
       "    <tr>\n",
       "      <th>2022-11-30 22:00:00+00:00</th>\n",
       "      <td>Los Angeles</td>\n",
       "      <td>US/Pacific</td>\n",
       "      <td>2022-11-30 14:00:00-08:00</td>\n",
       "    </tr>\n",
       "    <tr>\n",
       "      <th>2022-11-30 22:45:00+00:00</th>\n",
       "      <td>New York</td>\n",
       "      <td>US/Eastern</td>\n",
       "      <td>2022-11-30 17:45:00-05:00</td>\n",
       "    </tr>\n",
       "    <tr>\n",
       "      <th>2022-11-30 23:30:00+00:00</th>\n",
       "      <td>Berlin</td>\n",
       "      <td>Europe/Berlin</td>\n",
       "      <td>2022-12-01 00:30:00+01:00</td>\n",
       "    </tr>\n",
       "    <tr>\n",
       "      <th>2022-12-01 00:15:00+00:00</th>\n",
       "      <td>New Delhi</td>\n",
       "      <td>Asia/Kolkata</td>\n",
       "      <td>2022-12-01 05:45:00+05:30</td>\n",
       "    </tr>\n",
       "    <tr>\n",
       "      <th>2022-12-01 01:00:00+00:00</th>\n",
       "      <td>Moscow</td>\n",
       "      <td>Europe/Moscow</td>\n",
       "      <td>2022-12-01 04:00:00+03:00</td>\n",
       "    </tr>\n",
       "    <tr>\n",
       "      <th>2022-12-01 01:45:00+00:00</th>\n",
       "      <td>Tokyo</td>\n",
       "      <td>Asia/Tokyo</td>\n",
       "      <td>2022-12-01 10:45:00+09:00</td>\n",
       "    </tr>\n",
       "    <tr>\n",
       "      <th>2022-12-01 02:30:00+00:00</th>\n",
       "      <td>Dubai</td>\n",
       "      <td>Asia/Dubai</td>\n",
       "      <td>2022-12-01 06:30:00+04:00</td>\n",
       "    </tr>\n",
       "  </tbody>\n",
       "</table>\n",
       "</div>"
      ],
      "text/plain": [
       "                              Location             tz  \\\n",
       "visit_dt                                                \n",
       "2022-11-30 22:00:00+00:00  Los Angeles     US/Pacific   \n",
       "2022-11-30 22:45:00+00:00     New York     US/Eastern   \n",
       "2022-11-30 23:30:00+00:00       Berlin  Europe/Berlin   \n",
       "2022-12-01 00:15:00+00:00    New Delhi   Asia/Kolkata   \n",
       "2022-12-01 01:00:00+00:00       Moscow  Europe/Moscow   \n",
       "2022-12-01 01:45:00+00:00        Tokyo     Asia/Tokyo   \n",
       "2022-12-01 02:30:00+00:00        Dubai     Asia/Dubai   \n",
       "\n",
       "                                            local_dt  \n",
       "visit_dt                                              \n",
       "2022-11-30 22:00:00+00:00  2022-11-30 14:00:00-08:00  \n",
       "2022-11-30 22:45:00+00:00  2022-11-30 17:45:00-05:00  \n",
       "2022-11-30 23:30:00+00:00  2022-12-01 00:30:00+01:00  \n",
       "2022-12-01 00:15:00+00:00  2022-12-01 05:45:00+05:30  \n",
       "2022-12-01 01:00:00+00:00  2022-12-01 04:00:00+03:00  \n",
       "2022-12-01 01:45:00+00:00  2022-12-01 10:45:00+09:00  \n",
       "2022-12-01 02:30:00+00:00  2022-12-01 06:30:00+04:00  "
      ]
     },
     "execution_count": 48,
     "metadata": {},
     "output_type": "execute_result"
    }
   ],
   "source": [
    "# adding local time\n",
    "#localizing\n",
    "df = df.tz_localize('UTC')\n",
    "# adding localized time to new columns\n",
    "df['local_dt'] = df.index\n",
    "#converting to local time zone\n",
    "df['local_dt'] = df.apply(lambda x: pd.Timestamp.tz_convert(x['local_dt'], x['tz']), axis=1)\n",
    "df"
   ]
  },
  {
   "cell_type": "code",
   "execution_count": 49,
   "id": "4000c134",
   "metadata": {},
   "outputs": [
    {
     "data": {
      "text/html": [
       "<div>\n",
       "<style scoped>\n",
       "    .dataframe tbody tr th:only-of-type {\n",
       "        vertical-align: middle;\n",
       "    }\n",
       "\n",
       "    .dataframe tbody tr th {\n",
       "        vertical-align: top;\n",
       "    }\n",
       "\n",
       "    .dataframe thead th {\n",
       "        text-align: right;\n",
       "    }\n",
       "</style>\n",
       "<table border=\"1\" class=\"dataframe\">\n",
       "  <thead>\n",
       "    <tr style=\"text-align: right;\">\n",
       "      <th></th>\n",
       "      <th>Location</th>\n",
       "      <th>tz</th>\n",
       "      <th>local_dt</th>\n",
       "    </tr>\n",
       "    <tr>\n",
       "      <th>visit_dt</th>\n",
       "      <th></th>\n",
       "      <th></th>\n",
       "      <th></th>\n",
       "    </tr>\n",
       "  </thead>\n",
       "  <tbody>\n",
       "    <tr>\n",
       "      <th>2022-11-30 22:00 PM</th>\n",
       "      <td>Los Angeles</td>\n",
       "      <td>US/Pacific</td>\n",
       "      <td>2022-11-30 14:00:00-08:00</td>\n",
       "    </tr>\n",
       "    <tr>\n",
       "      <th>2022-11-30 22:45 PM</th>\n",
       "      <td>New York</td>\n",
       "      <td>US/Eastern</td>\n",
       "      <td>2022-11-30 17:45:00-05:00</td>\n",
       "    </tr>\n",
       "    <tr>\n",
       "      <th>2022-11-30 23:30 PM</th>\n",
       "      <td>Berlin</td>\n",
       "      <td>Europe/Berlin</td>\n",
       "      <td>2022-12-01 00:30:00+01:00</td>\n",
       "    </tr>\n",
       "    <tr>\n",
       "      <th>2022-12-01 00:15 AM</th>\n",
       "      <td>New Delhi</td>\n",
       "      <td>Asia/Kolkata</td>\n",
       "      <td>2022-12-01 05:45:00+05:30</td>\n",
       "    </tr>\n",
       "    <tr>\n",
       "      <th>2022-12-01 01:00 AM</th>\n",
       "      <td>Moscow</td>\n",
       "      <td>Europe/Moscow</td>\n",
       "      <td>2022-12-01 04:00:00+03:00</td>\n",
       "    </tr>\n",
       "    <tr>\n",
       "      <th>2022-12-01 01:45 AM</th>\n",
       "      <td>Tokyo</td>\n",
       "      <td>Asia/Tokyo</td>\n",
       "      <td>2022-12-01 10:45:00+09:00</td>\n",
       "    </tr>\n",
       "    <tr>\n",
       "      <th>2022-12-01 02:30 AM</th>\n",
       "      <td>Dubai</td>\n",
       "      <td>Asia/Dubai</td>\n",
       "      <td>2022-12-01 06:30:00+04:00</td>\n",
       "    </tr>\n",
       "  </tbody>\n",
       "</table>\n",
       "</div>"
      ],
      "text/plain": [
       "                        Location             tz                   local_dt\n",
       "visit_dt                                                                  \n",
       "2022-11-30 22:00 PM  Los Angeles     US/Pacific  2022-11-30 14:00:00-08:00\n",
       "2022-11-30 22:45 PM     New York     US/Eastern  2022-11-30 17:45:00-05:00\n",
       "2022-11-30 23:30 PM       Berlin  Europe/Berlin  2022-12-01 00:30:00+01:00\n",
       "2022-12-01 00:15 AM    New Delhi   Asia/Kolkata  2022-12-01 05:45:00+05:30\n",
       "2022-12-01 01:00 AM       Moscow  Europe/Moscow  2022-12-01 04:00:00+03:00\n",
       "2022-12-01 01:45 AM        Tokyo     Asia/Tokyo  2022-12-01 10:45:00+09:00\n",
       "2022-12-01 02:30 AM        Dubai     Asia/Dubai  2022-12-01 06:30:00+04:00"
      ]
     },
     "execution_count": 49,
     "metadata": {},
     "output_type": "execute_result"
    }
   ],
   "source": [
    "# How to make sense if it's morning or night if hour is not 24h format?\n",
    "# Set the format using strftime\n",
    "df.index = df.index.strftime('%Y-%m-%d %H:%M %p')\n",
    "df"
   ]
  },
  {
   "cell_type": "markdown",
   "id": "dad373f0",
   "metadata": {},
   "source": [
    "### Working with date offsets\n",
    "\n",
    "https://pandas.pydata.org/pandas-docs/stable/user_guide/timeseries.html#dateoffset-objects"
   ]
  },
  {
   "cell_type": "code",
   "execution_count": 50,
   "id": "4f4a252c",
   "metadata": {},
   "outputs": [
    {
     "data": {
      "text/html": [
       "<div>\n",
       "<style scoped>\n",
       "    .dataframe tbody tr th:only-of-type {\n",
       "        vertical-align: middle;\n",
       "    }\n",
       "\n",
       "    .dataframe tbody tr th {\n",
       "        vertical-align: top;\n",
       "    }\n",
       "\n",
       "    .dataframe thead th {\n",
       "        text-align: right;\n",
       "    }\n",
       "</style>\n",
       "<table border=\"1\" class=\"dataframe\">\n",
       "  <thead>\n",
       "    <tr style=\"text-align: right;\">\n",
       "      <th></th>\n",
       "      <th>production</th>\n",
       "      <th>day</th>\n",
       "    </tr>\n",
       "    <tr>\n",
       "      <th>purchase_dt</th>\n",
       "      <th></th>\n",
       "      <th></th>\n",
       "    </tr>\n",
       "  </thead>\n",
       "  <tbody>\n",
       "    <tr>\n",
       "      <th>2021-01-01</th>\n",
       "      <td>13</td>\n",
       "      <td>Friday</td>\n",
       "    </tr>\n",
       "    <tr>\n",
       "      <th>2021-01-02</th>\n",
       "      <td>17</td>\n",
       "      <td>Saturday</td>\n",
       "    </tr>\n",
       "    <tr>\n",
       "      <th>2021-01-03</th>\n",
       "      <td>8</td>\n",
       "      <td>Sunday</td>\n",
       "    </tr>\n",
       "    <tr>\n",
       "      <th>2021-01-04</th>\n",
       "      <td>19</td>\n",
       "      <td>Monday</td>\n",
       "    </tr>\n",
       "    <tr>\n",
       "      <th>2021-01-05</th>\n",
       "      <td>4</td>\n",
       "      <td>Tuesday</td>\n",
       "    </tr>\n",
       "    <tr>\n",
       "      <th>2021-01-06</th>\n",
       "      <td>5</td>\n",
       "      <td>Wednesday</td>\n",
       "    </tr>\n",
       "  </tbody>\n",
       "</table>\n",
       "</div>"
      ],
      "text/plain": [
       "             production        day\n",
       "purchase_dt                       \n",
       "2021-01-01           13     Friday\n",
       "2021-01-02           17   Saturday\n",
       "2021-01-03            8     Sunday\n",
       "2021-01-04           19     Monday\n",
       "2021-01-05            4    Tuesday\n",
       "2021-01-06            5  Wednesday"
      ]
     },
     "execution_count": 50,
     "metadata": {},
     "output_type": "execute_result"
    }
   ],
   "source": [
    "np.random.seed(10)\n",
    "df = pd.DataFrame(\n",
    "        {       \n",
    "        'purchase_dt': pd.date_range('2021-01-01', periods=6, freq='D'),\n",
    "        'production' : np.random.randint(4, 20, 6)\n",
    "        }).set_index('purchase_dt')\n",
    "df['day'] = df.index.day_name()\n",
    "df"
   ]
  },
  {
   "cell_type": "code",
   "execution_count": 51,
   "id": "08132f8d",
   "metadata": {},
   "outputs": [
    {
     "data": {
      "text/html": [
       "<div>\n",
       "<style scoped>\n",
       "    .dataframe tbody tr th:only-of-type {\n",
       "        vertical-align: middle;\n",
       "    }\n",
       "\n",
       "    .dataframe tbody tr th {\n",
       "        vertical-align: top;\n",
       "    }\n",
       "\n",
       "    .dataframe thead th {\n",
       "        text-align: right;\n",
       "    }\n",
       "</style>\n",
       "<table border=\"1\" class=\"dataframe\">\n",
       "  <thead>\n",
       "    <tr style=\"text-align: right;\">\n",
       "      <th></th>\n",
       "      <th></th>\n",
       "      <th>production</th>\n",
       "    </tr>\n",
       "    <tr>\n",
       "      <th>purchase_dt</th>\n",
       "      <th>day</th>\n",
       "      <th></th>\n",
       "    </tr>\n",
       "  </thead>\n",
       "  <tbody>\n",
       "    <tr>\n",
       "      <th>2021-01-01</th>\n",
       "      <th>Friday</th>\n",
       "      <td>13</td>\n",
       "    </tr>\n",
       "    <tr>\n",
       "      <th>2021-01-02</th>\n",
       "      <th>Saturday</th>\n",
       "      <td>17</td>\n",
       "    </tr>\n",
       "    <tr>\n",
       "      <th>2021-01-03</th>\n",
       "      <th>Sunday</th>\n",
       "      <td>8</td>\n",
       "    </tr>\n",
       "    <tr>\n",
       "      <th>2021-01-04</th>\n",
       "      <th>Monday</th>\n",
       "      <td>19</td>\n",
       "    </tr>\n",
       "    <tr>\n",
       "      <th>2021-01-05</th>\n",
       "      <th>Tuesday</th>\n",
       "      <td>4</td>\n",
       "    </tr>\n",
       "    <tr>\n",
       "      <th>2021-01-06</th>\n",
       "      <th>Wednesday</th>\n",
       "      <td>5</td>\n",
       "    </tr>\n",
       "  </tbody>\n",
       "</table>\n",
       "</div>"
      ],
      "text/plain": [
       "                       production\n",
       "purchase_dt day                  \n",
       "2021-01-01  Friday             13\n",
       "2021-01-02  Saturday           17\n",
       "2021-01-03  Sunday              8\n",
       "2021-01-04  Monday             19\n",
       "2021-01-05  Tuesday             4\n",
       "2021-01-06  Wednesday           5"
      ]
     },
     "execution_count": 51,
     "metadata": {},
     "output_type": "execute_result"
    }
   ],
   "source": [
    "df.reset_index().groupby(['purchase_dt', 'day']).sum()"
   ]
  },
  {
   "cell_type": "markdown",
   "id": "8ec9a4cc",
   "metadata": {},
   "source": [
    "#### Business days\n",
    "https://pandas.pydata.org/docs/reference/api/pandas.tseries.offsets.BusinessDay.html#pandas.tseries.offsets.BusinessDay"
   ]
  },
  {
   "cell_type": "code",
   "execution_count": 52,
   "id": "c6fb0490",
   "metadata": {},
   "outputs": [
    {
     "data": {
      "text/plain": [
       "pandas._libs.tslibs.offsets.BusinessDay"
      ]
     },
     "metadata": {},
     "output_type": "display_data"
    },
    {
     "data": {
      "text/html": [
       "<div>\n",
       "<style scoped>\n",
       "    .dataframe tbody tr th:only-of-type {\n",
       "        vertical-align: middle;\n",
       "    }\n",
       "\n",
       "    .dataframe tbody tr th {\n",
       "        vertical-align: top;\n",
       "    }\n",
       "\n",
       "    .dataframe thead th {\n",
       "        text-align: right;\n",
       "    }\n",
       "</style>\n",
       "<table border=\"1\" class=\"dataframe\">\n",
       "  <thead>\n",
       "    <tr style=\"text-align: right;\">\n",
       "      <th></th>\n",
       "      <th>production</th>\n",
       "      <th>day</th>\n",
       "      <th>BusinessDay</th>\n",
       "      <th>BDay Name</th>\n",
       "    </tr>\n",
       "    <tr>\n",
       "      <th>purchase_dt</th>\n",
       "      <th></th>\n",
       "      <th></th>\n",
       "      <th></th>\n",
       "      <th></th>\n",
       "    </tr>\n",
       "  </thead>\n",
       "  <tbody>\n",
       "    <tr>\n",
       "      <th>2021-01-01</th>\n",
       "      <td>13</td>\n",
       "      <td>Friday</td>\n",
       "      <td>2020-12-31</td>\n",
       "      <td>Thursday</td>\n",
       "    </tr>\n",
       "    <tr>\n",
       "      <th>2021-01-02</th>\n",
       "      <td>17</td>\n",
       "      <td>Saturday</td>\n",
       "      <td>2021-01-01</td>\n",
       "      <td>Friday</td>\n",
       "    </tr>\n",
       "    <tr>\n",
       "      <th>2021-01-03</th>\n",
       "      <td>8</td>\n",
       "      <td>Sunday</td>\n",
       "      <td>2021-01-01</td>\n",
       "      <td>Friday</td>\n",
       "    </tr>\n",
       "    <tr>\n",
       "      <th>2021-01-04</th>\n",
       "      <td>19</td>\n",
       "      <td>Monday</td>\n",
       "      <td>2021-01-01</td>\n",
       "      <td>Friday</td>\n",
       "    </tr>\n",
       "    <tr>\n",
       "      <th>2021-01-05</th>\n",
       "      <td>4</td>\n",
       "      <td>Tuesday</td>\n",
       "      <td>2021-01-04</td>\n",
       "      <td>Monday</td>\n",
       "    </tr>\n",
       "    <tr>\n",
       "      <th>2021-01-06</th>\n",
       "      <td>5</td>\n",
       "      <td>Wednesday</td>\n",
       "      <td>2021-01-05</td>\n",
       "      <td>Tuesday</td>\n",
       "    </tr>\n",
       "  </tbody>\n",
       "</table>\n",
       "</div>"
      ],
      "text/plain": [
       "             production        day BusinessDay BDay Name\n",
       "purchase_dt                                             \n",
       "2021-01-01           13     Friday  2020-12-31  Thursday\n",
       "2021-01-02           17   Saturday  2021-01-01    Friday\n",
       "2021-01-03            8     Sunday  2021-01-01    Friday\n",
       "2021-01-04           19     Monday  2021-01-01    Friday\n",
       "2021-01-05            4    Tuesday  2021-01-04    Monday\n",
       "2021-01-06            5  Wednesday  2021-01-05   Tuesday"
      ]
     },
     "execution_count": 52,
     "metadata": {},
     "output_type": "execute_result"
    }
   ],
   "source": [
    "display(type(pd.offsets.BDay(0)))\n",
    "\n",
    "\n",
    "df['BusinessDay'] = df.index - pd.offsets.BDay(1)\n",
    "df['BDay Name'] = df['BusinessDay'].dt.day_name()\n",
    "df\n",
    "\n"
   ]
  },
  {
   "cell_type": "code",
   "execution_count": 53,
   "id": "ebdbce29",
   "metadata": {},
   "outputs": [
    {
     "data": {
      "text/html": [
       "<div>\n",
       "<style scoped>\n",
       "    .dataframe tbody tr th:only-of-type {\n",
       "        vertical-align: middle;\n",
       "    }\n",
       "\n",
       "    .dataframe tbody tr th {\n",
       "        vertical-align: top;\n",
       "    }\n",
       "\n",
       "    .dataframe thead th {\n",
       "        text-align: right;\n",
       "    }\n",
       "</style>\n",
       "<table border=\"1\" class=\"dataframe\">\n",
       "  <thead>\n",
       "    <tr style=\"text-align: right;\">\n",
       "      <th></th>\n",
       "      <th>production</th>\n",
       "      <th>day</th>\n",
       "      <th>BusinessDay</th>\n",
       "      <th>BDay Name</th>\n",
       "    </tr>\n",
       "    <tr>\n",
       "      <th>purchase_dt</th>\n",
       "      <th></th>\n",
       "      <th></th>\n",
       "      <th></th>\n",
       "      <th></th>\n",
       "    </tr>\n",
       "  </thead>\n",
       "  <tbody>\n",
       "    <tr>\n",
       "      <th>2021-01-01</th>\n",
       "      <td>13</td>\n",
       "      <td>Friday</td>\n",
       "      <td>2020-12-31</td>\n",
       "      <td>Thursday</td>\n",
       "    </tr>\n",
       "    <tr>\n",
       "      <th>2021-01-02</th>\n",
       "      <td>17</td>\n",
       "      <td>Saturday</td>\n",
       "      <td>2021-01-01</td>\n",
       "      <td>Friday</td>\n",
       "    </tr>\n",
       "    <tr>\n",
       "      <th>2021-01-03</th>\n",
       "      <td>8</td>\n",
       "      <td>Sunday</td>\n",
       "      <td>2021-01-01</td>\n",
       "      <td>Friday</td>\n",
       "    </tr>\n",
       "    <tr>\n",
       "      <th>2021-01-04</th>\n",
       "      <td>19</td>\n",
       "      <td>Monday</td>\n",
       "      <td>2021-01-01</td>\n",
       "      <td>Friday</td>\n",
       "    </tr>\n",
       "    <tr>\n",
       "      <th>2021-01-05</th>\n",
       "      <td>4</td>\n",
       "      <td>Tuesday</td>\n",
       "      <td>2021-01-04</td>\n",
       "      <td>Monday</td>\n",
       "    </tr>\n",
       "    <tr>\n",
       "      <th>2021-01-06</th>\n",
       "      <td>5</td>\n",
       "      <td>Wednesday</td>\n",
       "      <td>2021-01-05</td>\n",
       "      <td>Tuesday</td>\n",
       "    </tr>\n",
       "  </tbody>\n",
       "</table>\n",
       "</div>"
      ],
      "text/plain": [
       "             production        day BusinessDay BDay Name\n",
       "purchase_dt                                             \n",
       "2021-01-01           13     Friday  2020-12-31  Thursday\n",
       "2021-01-02           17   Saturday  2021-01-01    Friday\n",
       "2021-01-03            8     Sunday  2021-01-01    Friday\n",
       "2021-01-04           19     Monday  2021-01-01    Friday\n",
       "2021-01-05            4    Tuesday  2021-01-04    Monday\n",
       "2021-01-06            5  Wednesday  2021-01-05   Tuesday"
      ]
     },
     "execution_count": 53,
     "metadata": {},
     "output_type": "execute_result"
    }
   ],
   "source": [
    "df['BusinessDay'] = df.index - pd.offsets.BDay(1)\n",
    "df['BDay Name'] = df['BusinessDay'].dt.day_name()\n",
    "df"
   ]
  },
  {
   "cell_type": "code",
   "execution_count": 54,
   "id": "ccd3d0ab",
   "metadata": {},
   "outputs": [
    {
     "data": {
      "text/html": [
       "<div>\n",
       "<style scoped>\n",
       "    .dataframe tbody tr th:only-of-type {\n",
       "        vertical-align: middle;\n",
       "    }\n",
       "\n",
       "    .dataframe tbody tr th {\n",
       "        vertical-align: top;\n",
       "    }\n",
       "\n",
       "    .dataframe thead th {\n",
       "        text-align: right;\n",
       "    }\n",
       "</style>\n",
       "<table border=\"1\" class=\"dataframe\">\n",
       "  <thead>\n",
       "    <tr style=\"text-align: right;\">\n",
       "      <th></th>\n",
       "      <th></th>\n",
       "      <th>production</th>\n",
       "    </tr>\n",
       "    <tr>\n",
       "      <th>BusinessDay</th>\n",
       "      <th>BDay Name</th>\n",
       "      <th></th>\n",
       "    </tr>\n",
       "  </thead>\n",
       "  <tbody>\n",
       "    <tr>\n",
       "      <th>2020-12-31</th>\n",
       "      <th>Thursday</th>\n",
       "      <td>13</td>\n",
       "    </tr>\n",
       "    <tr>\n",
       "      <th>2021-01-01</th>\n",
       "      <th>Friday</th>\n",
       "      <td>44</td>\n",
       "    </tr>\n",
       "    <tr>\n",
       "      <th>2021-01-04</th>\n",
       "      <th>Monday</th>\n",
       "      <td>4</td>\n",
       "    </tr>\n",
       "    <tr>\n",
       "      <th>2021-01-05</th>\n",
       "      <th>Tuesday</th>\n",
       "      <td>5</td>\n",
       "    </tr>\n",
       "  </tbody>\n",
       "</table>\n",
       "</div>"
      ],
      "text/plain": [
       "                       production\n",
       "BusinessDay BDay Name            \n",
       "2020-12-31  Thursday           13\n",
       "2021-01-01  Friday             44\n",
       "2021-01-04  Monday              4\n",
       "2021-01-05  Tuesday             5"
      ]
     },
     "metadata": {},
     "output_type": "display_data"
    },
    {
     "data": {
      "text/plain": [
       "<AxesSubplot:xlabel='BusinessDay,BDay Name'>"
      ]
     },
     "metadata": {},
     "output_type": "display_data"
    },
    {
     "data": {
      "image/png": "[encoded data removed]",
      "text/plain": [
       "<Figure size 432x288 with 1 Axes>"
      ]
     },
     "metadata": {
      "needs_background": "light"
     },
     "output_type": "display_data"
    }
   ],
   "source": [
    "display(df.groupby(['BusinessDay', 'BDay Name']).sum(numeric_only=True))\n",
    "display(df.groupby(['BusinessDay', 'BDay Name']).sum(numeric_only=True).plot.bar(rot=45))\n"
   ]
  },
  {
   "cell_type": "code",
   "execution_count": 55,
   "id": "6790062a",
   "metadata": {},
   "outputs": [
    {
     "data": {
      "text/html": [
       "<div>\n",
       "<style scoped>\n",
       "    .dataframe tbody tr th:only-of-type {\n",
       "        vertical-align: middle;\n",
       "    }\n",
       "\n",
       "    .dataframe tbody tr th {\n",
       "        vertical-align: top;\n",
       "    }\n",
       "\n",
       "    .dataframe thead th {\n",
       "        text-align: right;\n",
       "    }\n",
       "</style>\n",
       "<table border=\"1\" class=\"dataframe\">\n",
       "  <thead>\n",
       "    <tr style=\"text-align: right;\">\n",
       "      <th></th>\n",
       "      <th>production</th>\n",
       "    </tr>\n",
       "    <tr>\n",
       "      <th>purchase_dt</th>\n",
       "      <th></th>\n",
       "    </tr>\n",
       "  </thead>\n",
       "  <tbody>\n",
       "    <tr>\n",
       "      <th>2021-01-01</th>\n",
       "      <td>13</td>\n",
       "    </tr>\n",
       "    <tr>\n",
       "      <th>2021-01-02</th>\n",
       "      <td>17</td>\n",
       "    </tr>\n",
       "    <tr>\n",
       "      <th>2021-01-03</th>\n",
       "      <td>8</td>\n",
       "    </tr>\n",
       "    <tr>\n",
       "      <th>2021-01-04</th>\n",
       "      <td>19</td>\n",
       "    </tr>\n",
       "    <tr>\n",
       "      <th>2021-01-05</th>\n",
       "      <td>4</td>\n",
       "    </tr>\n",
       "    <tr>\n",
       "      <th>2021-01-06</th>\n",
       "      <td>5</td>\n",
       "    </tr>\n",
       "  </tbody>\n",
       "</table>\n",
       "</div>"
      ],
      "text/plain": [
       "             production\n",
       "purchase_dt            \n",
       "2021-01-01           13\n",
       "2021-01-02           17\n",
       "2021-01-03            8\n",
       "2021-01-04           19\n",
       "2021-01-05            4\n",
       "2021-01-06            5"
      ]
     },
     "execution_count": 55,
     "metadata": {},
     "output_type": "execute_result"
    }
   ],
   "source": [
    "np.random.seed(10)\n",
    "df = pd.DataFrame(\n",
    "        {       \n",
    "        'purchase_dt': pd.date_range('2021-01-01', periods=6, freq='D'),\n",
    "        'production' : np.random.randint(4, 20, 6)\n",
    "        }).set_index('purchase_dt')\n",
    "df"
   ]
  },
  {
   "cell_type": "code",
   "execution_count": 56,
   "id": "e4d04502",
   "metadata": {},
   "outputs": [
    {
     "data": {
      "text/html": [
       "<div>\n",
       "<style scoped>\n",
       "    .dataframe tbody tr th:only-of-type {\n",
       "        vertical-align: middle;\n",
       "    }\n",
       "\n",
       "    .dataframe tbody tr th {\n",
       "        vertical-align: top;\n",
       "    }\n",
       "\n",
       "    .dataframe thead th {\n",
       "        text-align: right;\n",
       "    }\n",
       "</style>\n",
       "<table border=\"1\" class=\"dataframe\">\n",
       "  <thead>\n",
       "    <tr style=\"text-align: right;\">\n",
       "      <th></th>\n",
       "      <th>production</th>\n",
       "      <th>BusinessDay</th>\n",
       "      <th>MonthEnd</th>\n",
       "      <th>QuarterEnd</th>\n",
       "    </tr>\n",
       "    <tr>\n",
       "      <th>purchase_dt</th>\n",
       "      <th></th>\n",
       "      <th></th>\n",
       "      <th></th>\n",
       "      <th></th>\n",
       "    </tr>\n",
       "  </thead>\n",
       "  <tbody>\n",
       "    <tr>\n",
       "      <th>2021-01-01</th>\n",
       "      <td>13</td>\n",
       "      <td>2021-01-01</td>\n",
       "      <td>2021-01-31</td>\n",
       "      <td>2021-03-31</td>\n",
       "    </tr>\n",
       "    <tr>\n",
       "      <th>2021-01-02</th>\n",
       "      <td>17</td>\n",
       "      <td>2021-01-04</td>\n",
       "      <td>2021-01-31</td>\n",
       "      <td>2021-03-31</td>\n",
       "    </tr>\n",
       "    <tr>\n",
       "      <th>2021-01-03</th>\n",
       "      <td>8</td>\n",
       "      <td>2021-01-04</td>\n",
       "      <td>2021-01-31</td>\n",
       "      <td>2021-03-31</td>\n",
       "    </tr>\n",
       "    <tr>\n",
       "      <th>2021-01-04</th>\n",
       "      <td>19</td>\n",
       "      <td>2021-01-04</td>\n",
       "      <td>2021-01-31</td>\n",
       "      <td>2021-03-31</td>\n",
       "    </tr>\n",
       "    <tr>\n",
       "      <th>2021-01-05</th>\n",
       "      <td>4</td>\n",
       "      <td>2021-01-05</td>\n",
       "      <td>2021-01-31</td>\n",
       "      <td>2021-03-31</td>\n",
       "    </tr>\n",
       "    <tr>\n",
       "      <th>2021-01-06</th>\n",
       "      <td>5</td>\n",
       "      <td>2021-01-06</td>\n",
       "      <td>2021-01-31</td>\n",
       "      <td>2021-03-31</td>\n",
       "    </tr>\n",
       "  </tbody>\n",
       "</table>\n",
       "</div>"
      ],
      "text/plain": [
       "             production BusinessDay   MonthEnd QuarterEnd\n",
       "purchase_dt                                              \n",
       "2021-01-01           13  2021-01-01 2021-01-31 2021-03-31\n",
       "2021-01-02           17  2021-01-04 2021-01-31 2021-03-31\n",
       "2021-01-03            8  2021-01-04 2021-01-31 2021-03-31\n",
       "2021-01-04           19  2021-01-04 2021-01-31 2021-03-31\n",
       "2021-01-05            4  2021-01-05 2021-01-31 2021-03-31\n",
       "2021-01-06            5  2021-01-06 2021-01-31 2021-03-31"
      ]
     },
     "execution_count": 56,
     "metadata": {},
     "output_type": "execute_result"
    }
   ],
   "source": [
    "df['BusinessDay'] = df.index + pd.offsets.BDay(0)\n",
    "df['MonthEnd'] = df.index + pd.offsets.MonthEnd(0)\n",
    "df['QuarterEnd'] = df.index + pd.offsets.QuarterEnd(0)\n",
    "#df['BDay Name'] = df['BusinessDay'].dt.day_name()\n",
    "df\n",
    "\n"
   ]
  },
  {
   "cell_type": "markdown",
   "id": "b7069b45",
   "metadata": {},
   "source": [
    "#### Holidays\n",
    "\n",
    "2 approaches: Existing calendar and Custom calendar\n",
    "\n",
    "https://github.com/pandas-dev/pandas/blob/main/pandas/tseries/holiday.py"
   ]
  },
  {
   "cell_type": "code",
   "execution_count": 57,
   "id": "dbf89f01",
   "metadata": {},
   "outputs": [
    {
     "data": {
      "text/html": [
       "<div>\n",
       "<style scoped>\n",
       "    .dataframe tbody tr th:only-of-type {\n",
       "        vertical-align: middle;\n",
       "    }\n",
       "\n",
       "    .dataframe tbody tr th {\n",
       "        vertical-align: top;\n",
       "    }\n",
       "\n",
       "    .dataframe thead th {\n",
       "        text-align: right;\n",
       "    }\n",
       "</style>\n",
       "<table border=\"1\" class=\"dataframe\">\n",
       "  <thead>\n",
       "    <tr style=\"text-align: right;\">\n",
       "      <th></th>\n",
       "      <th>production</th>\n",
       "    </tr>\n",
       "    <tr>\n",
       "      <th>purchase_dt</th>\n",
       "      <th></th>\n",
       "    </tr>\n",
       "  </thead>\n",
       "  <tbody>\n",
       "    <tr>\n",
       "      <th>2021-01-01</th>\n",
       "      <td>32</td>\n",
       "    </tr>\n",
       "    <tr>\n",
       "      <th>2021-01-02</th>\n",
       "      <td>29</td>\n",
       "    </tr>\n",
       "    <tr>\n",
       "      <th>2021-01-03</th>\n",
       "      <td>33</td>\n",
       "    </tr>\n",
       "    <tr>\n",
       "      <th>2021-01-04</th>\n",
       "      <td>33</td>\n",
       "    </tr>\n",
       "    <tr>\n",
       "      <th>2021-01-05</th>\n",
       "      <td>12</td>\n",
       "    </tr>\n",
       "    <tr>\n",
       "      <th>2021-01-06</th>\n",
       "      <td>13</td>\n",
       "    </tr>\n",
       "  </tbody>\n",
       "</table>\n",
       "</div>"
      ],
      "text/plain": [
       "             production\n",
       "purchase_dt            \n",
       "2021-01-01           32\n",
       "2021-01-02           29\n",
       "2021-01-03           33\n",
       "2021-01-04           33\n",
       "2021-01-05           12\n",
       "2021-01-06           13"
      ]
     },
     "execution_count": 57,
     "metadata": {},
     "output_type": "execute_result"
    }
   ],
   "source": [
    "from pandas.tseries.holiday import ( USFederalHolidayCalendar)\n",
    "\n",
    "df = pd.DataFrame(\n",
    "        {       \n",
    "        'purchase_dt': pd.date_range('2021-01-01', periods=6, freq='D'),\n",
    "        'production' : np.random.randint(4, 50,6)\n",
    "        }).set_index('purchase_dt')\n",
    "df"
   ]
  },
  {
   "cell_type": "code",
   "execution_count": 58,
   "id": "610ddeaa",
   "metadata": {},
   "outputs": [
    {
     "data": {
      "text/plain": [
       "[Holiday: New Year's Day (month=1, day=1, observance=<function nearest_workday at 0x00000195002423A0>),\n",
       " Holiday: Birthday of Martin Luther King, Jr. (month=1, day=1, offset=<DateOffset: weekday=MO(+3)>),\n",
       " Holiday: Washington’s Birthday (month=2, day=1, offset=<DateOffset: weekday=MO(+3)>),\n",
       " Holiday: Memorial Day (month=5, day=31, offset=<DateOffset: weekday=MO(-1)>),\n",
       " Holiday: Juneteenth National Independence Day (month=6, day=19, observance=<function nearest_workday at 0x00000195002423A0>),\n",
       " Holiday: Independence Day (month=7, day=4, observance=<function nearest_workday at 0x00000195002423A0>),\n",
       " Holiday: Labor Day (month=9, day=1, offset=<DateOffset: weekday=MO(+1)>),\n",
       " Holiday: Columbus Day (month=10, day=1, offset=<DateOffset: weekday=MO(+2)>),\n",
       " Holiday: Veterans Day (month=11, day=11, observance=<function nearest_workday at 0x00000195002423A0>),\n",
       " Holiday: Thanksgiving Day (month=11, day=1, offset=<DateOffset: weekday=TH(+4)>),\n",
       " Holiday: Christmas Day (month=12, day=25, observance=<function nearest_workday at 0x00000195002423A0>)]"
      ]
     },
     "execution_count": 58,
     "metadata": {},
     "output_type": "execute_result"
    }
   ],
   "source": [
    "#Existing calendar\n",
    "USFederalHolidayCalendar.rules"
   ]
  },
  {
   "cell_type": "code",
   "execution_count": 59,
   "id": "c9db26c9",
   "metadata": {},
   "outputs": [
    {
     "name": "stderr",
     "output_type": "stream",
     "text": [
      "C:\\Users\\anacl\\AppData\\Local\\Temp/ipykernel_12628/1250763200.py:1: PerformanceWarning: Non-vectorized DateOffset being applied to Series or DatetimeIndex.\n",
      "  df['USFederalHolidays'] = df.index + pd.offsets.CDay(calendar=USFederalHolidayCalendar())\n"
     ]
    },
    {
     "data": {
      "text/html": [
       "<div>\n",
       "<style scoped>\n",
       "    .dataframe tbody tr th:only-of-type {\n",
       "        vertical-align: middle;\n",
       "    }\n",
       "\n",
       "    .dataframe tbody tr th {\n",
       "        vertical-align: top;\n",
       "    }\n",
       "\n",
       "    .dataframe thead th {\n",
       "        text-align: right;\n",
       "    }\n",
       "</style>\n",
       "<table border=\"1\" class=\"dataframe\">\n",
       "  <thead>\n",
       "    <tr style=\"text-align: right;\">\n",
       "      <th></th>\n",
       "      <th>production</th>\n",
       "      <th>USFederalHolidays</th>\n",
       "    </tr>\n",
       "    <tr>\n",
       "      <th>purchase_dt</th>\n",
       "      <th></th>\n",
       "      <th></th>\n",
       "    </tr>\n",
       "  </thead>\n",
       "  <tbody>\n",
       "    <tr>\n",
       "      <th>2021-01-01</th>\n",
       "      <td>32</td>\n",
       "      <td>2021-01-04</td>\n",
       "    </tr>\n",
       "    <tr>\n",
       "      <th>2021-01-02</th>\n",
       "      <td>29</td>\n",
       "      <td>2021-01-04</td>\n",
       "    </tr>\n",
       "    <tr>\n",
       "      <th>2021-01-03</th>\n",
       "      <td>33</td>\n",
       "      <td>2021-01-04</td>\n",
       "    </tr>\n",
       "    <tr>\n",
       "      <th>2021-01-04</th>\n",
       "      <td>33</td>\n",
       "      <td>2021-01-05</td>\n",
       "    </tr>\n",
       "    <tr>\n",
       "      <th>2021-01-05</th>\n",
       "      <td>12</td>\n",
       "      <td>2021-01-06</td>\n",
       "    </tr>\n",
       "    <tr>\n",
       "      <th>2021-01-06</th>\n",
       "      <td>13</td>\n",
       "      <td>2021-01-07</td>\n",
       "    </tr>\n",
       "  </tbody>\n",
       "</table>\n",
       "</div>"
      ],
      "text/plain": [
       "             production USFederalHolidays\n",
       "purchase_dt                              \n",
       "2021-01-01           32        2021-01-04\n",
       "2021-01-02           29        2021-01-04\n",
       "2021-01-03           33        2021-01-04\n",
       "2021-01-04           33        2021-01-05\n",
       "2021-01-05           12        2021-01-06\n",
       "2021-01-06           13        2021-01-07"
      ]
     },
     "execution_count": 59,
     "metadata": {},
     "output_type": "execute_result"
    }
   ],
   "source": [
    "df['USFederalHolidays'] = df.index + pd.offsets.CDay(calendar=USFederalHolidayCalendar())\n",
    "df"
   ]
  },
  {
   "cell_type": "code",
   "execution_count": 60,
   "id": "69b8f64d",
   "metadata": {},
   "outputs": [
    {
     "data": {
      "text/html": [
       "<div>\n",
       "<style scoped>\n",
       "    .dataframe tbody tr th:only-of-type {\n",
       "        vertical-align: middle;\n",
       "    }\n",
       "\n",
       "    .dataframe tbody tr th {\n",
       "        vertical-align: top;\n",
       "    }\n",
       "\n",
       "    .dataframe thead th {\n",
       "        text-align: right;\n",
       "    }\n",
       "</style>\n",
       "<table border=\"1\" class=\"dataframe\">\n",
       "  <thead>\n",
       "    <tr style=\"text-align: right;\">\n",
       "      <th></th>\n",
       "      <th>production</th>\n",
       "      <th>USFederalHolidays</th>\n",
       "      <th>date</th>\n",
       "      <th>USFederalHolidays1</th>\n",
       "    </tr>\n",
       "    <tr>\n",
       "      <th>purchase_dt</th>\n",
       "      <th></th>\n",
       "      <th></th>\n",
       "      <th></th>\n",
       "      <th></th>\n",
       "    </tr>\n",
       "  </thead>\n",
       "  <tbody>\n",
       "    <tr>\n",
       "      <th>2021-01-01</th>\n",
       "      <td>32</td>\n",
       "      <td>2021-01-04</td>\n",
       "      <td>2021-01-01</td>\n",
       "      <td>2021-01-04</td>\n",
       "    </tr>\n",
       "    <tr>\n",
       "      <th>2021-01-02</th>\n",
       "      <td>29</td>\n",
       "      <td>2021-01-04</td>\n",
       "      <td>2021-01-02</td>\n",
       "      <td>2021-01-04</td>\n",
       "    </tr>\n",
       "    <tr>\n",
       "      <th>2021-01-03</th>\n",
       "      <td>33</td>\n",
       "      <td>2021-01-04</td>\n",
       "      <td>2021-01-03</td>\n",
       "      <td>2021-01-04</td>\n",
       "    </tr>\n",
       "    <tr>\n",
       "      <th>2021-01-04</th>\n",
       "      <td>33</td>\n",
       "      <td>2021-01-05</td>\n",
       "      <td>2021-01-04</td>\n",
       "      <td>2021-01-05</td>\n",
       "    </tr>\n",
       "    <tr>\n",
       "      <th>2021-01-05</th>\n",
       "      <td>12</td>\n",
       "      <td>2021-01-06</td>\n",
       "      <td>2021-01-05</td>\n",
       "      <td>2021-01-06</td>\n",
       "    </tr>\n",
       "    <tr>\n",
       "      <th>2021-01-06</th>\n",
       "      <td>13</td>\n",
       "      <td>2021-01-07</td>\n",
       "      <td>2021-01-06</td>\n",
       "      <td>2021-01-07</td>\n",
       "    </tr>\n",
       "  </tbody>\n",
       "</table>\n",
       "</div>"
      ],
      "text/plain": [
       "             production USFederalHolidays       date USFederalHolidays1\n",
       "purchase_dt                                                            \n",
       "2021-01-01           32        2021-01-04 2021-01-01         2021-01-04\n",
       "2021-01-02           29        2021-01-04 2021-01-02         2021-01-04\n",
       "2021-01-03           33        2021-01-04 2021-01-03         2021-01-04\n",
       "2021-01-04           33        2021-01-05 2021-01-04         2021-01-05\n",
       "2021-01-05           12        2021-01-06 2021-01-05         2021-01-06\n",
       "2021-01-06           13        2021-01-07 2021-01-06         2021-01-07"
      ]
     },
     "execution_count": 60,
     "metadata": {},
     "output_type": "execute_result"
    }
   ],
   "source": [
    "#No warning and better performance for large datasets\n",
    "df['date'] = df.index\n",
    "df['USFederalHolidays1'] = df.apply(lambda x: x.date + pd.offsets.CDay(calendar=USFederalHolidayCalendar(x.date)), axis=1)\n",
    "df"
   ]
  },
  {
   "cell_type": "code",
   "execution_count": 61,
   "id": "a9cff44d",
   "metadata": {},
   "outputs": [
    {
     "data": {
      "text/plain": [
       "Holiday: New Years (month=1, day=1, observance=<function nearest_workday at 0x00000195002423A0>)"
      ]
     },
     "execution_count": 61,
     "metadata": {},
     "output_type": "execute_result"
    }
   ],
   "source": [
    "# Custom calendar\n",
    "from pandas.tseries.holiday import (\n",
    "    Holiday,\n",
    "    nearest_workday\n",
    ")\n",
    "\n",
    "newyears = Holiday(\"New Years\", \n",
    "                   month=1, \n",
    "                   day=1, \n",
    "                   observance=nearest_workday)\n",
    "# nearest_workday ->uses the day before if it falls on saturday and the day after, if it falls on sunday\n",
    "newyears"
   ]
  },
  {
   "cell_type": "code",
   "execution_count": 62,
   "id": "30ae85af",
   "metadata": {},
   "outputs": [
    {
     "name": "stderr",
     "output_type": "stream",
     "text": [
      "C:\\Users\\anacl\\AppData\\Local\\Temp/ipykernel_12628/4284071160.py:1: PerformanceWarning: Non-vectorized DateOffset being applied to Series or DatetimeIndex.\n",
      "  df['NewYearsHoliday'] = df.index + pd.offsets.CDay(calendar=newyears)\n"
     ]
    },
    {
     "data": {
      "text/html": [
       "<div>\n",
       "<style scoped>\n",
       "    .dataframe tbody tr th:only-of-type {\n",
       "        vertical-align: middle;\n",
       "    }\n",
       "\n",
       "    .dataframe tbody tr th {\n",
       "        vertical-align: top;\n",
       "    }\n",
       "\n",
       "    .dataframe thead th {\n",
       "        text-align: right;\n",
       "    }\n",
       "</style>\n",
       "<table border=\"1\" class=\"dataframe\">\n",
       "  <thead>\n",
       "    <tr style=\"text-align: right;\">\n",
       "      <th></th>\n",
       "      <th>production</th>\n",
       "      <th>USFederalHolidays</th>\n",
       "      <th>date</th>\n",
       "      <th>USFederalHolidays1</th>\n",
       "      <th>NewYearsHoliday</th>\n",
       "    </tr>\n",
       "    <tr>\n",
       "      <th>purchase_dt</th>\n",
       "      <th></th>\n",
       "      <th></th>\n",
       "      <th></th>\n",
       "      <th></th>\n",
       "      <th></th>\n",
       "    </tr>\n",
       "  </thead>\n",
       "  <tbody>\n",
       "    <tr>\n",
       "      <th>2021-01-01</th>\n",
       "      <td>32</td>\n",
       "      <td>2021-01-04</td>\n",
       "      <td>2021-01-01</td>\n",
       "      <td>2021-01-04</td>\n",
       "      <td>2021-01-04</td>\n",
       "    </tr>\n",
       "    <tr>\n",
       "      <th>2021-01-02</th>\n",
       "      <td>29</td>\n",
       "      <td>2021-01-04</td>\n",
       "      <td>2021-01-02</td>\n",
       "      <td>2021-01-04</td>\n",
       "      <td>2021-01-04</td>\n",
       "    </tr>\n",
       "    <tr>\n",
       "      <th>2021-01-03</th>\n",
       "      <td>33</td>\n",
       "      <td>2021-01-04</td>\n",
       "      <td>2021-01-03</td>\n",
       "      <td>2021-01-04</td>\n",
       "      <td>2021-01-04</td>\n",
       "    </tr>\n",
       "    <tr>\n",
       "      <th>2021-01-04</th>\n",
       "      <td>33</td>\n",
       "      <td>2021-01-05</td>\n",
       "      <td>2021-01-04</td>\n",
       "      <td>2021-01-05</td>\n",
       "      <td>2021-01-05</td>\n",
       "    </tr>\n",
       "    <tr>\n",
       "      <th>2021-01-05</th>\n",
       "      <td>12</td>\n",
       "      <td>2021-01-06</td>\n",
       "      <td>2021-01-05</td>\n",
       "      <td>2021-01-06</td>\n",
       "      <td>2021-01-06</td>\n",
       "    </tr>\n",
       "    <tr>\n",
       "      <th>2021-01-06</th>\n",
       "      <td>13</td>\n",
       "      <td>2021-01-07</td>\n",
       "      <td>2021-01-06</td>\n",
       "      <td>2021-01-07</td>\n",
       "      <td>2021-01-07</td>\n",
       "    </tr>\n",
       "  </tbody>\n",
       "</table>\n",
       "</div>"
      ],
      "text/plain": [
       "             production USFederalHolidays       date USFederalHolidays1  \\\n",
       "purchase_dt                                                               \n",
       "2021-01-01           32        2021-01-04 2021-01-01         2021-01-04   \n",
       "2021-01-02           29        2021-01-04 2021-01-02         2021-01-04   \n",
       "2021-01-03           33        2021-01-04 2021-01-03         2021-01-04   \n",
       "2021-01-04           33        2021-01-05 2021-01-04         2021-01-05   \n",
       "2021-01-05           12        2021-01-06 2021-01-05         2021-01-06   \n",
       "2021-01-06           13        2021-01-07 2021-01-06         2021-01-07   \n",
       "\n",
       "            NewYearsHoliday  \n",
       "purchase_dt                  \n",
       "2021-01-01       2021-01-04  \n",
       "2021-01-02       2021-01-04  \n",
       "2021-01-03       2021-01-04  \n",
       "2021-01-04       2021-01-05  \n",
       "2021-01-05       2021-01-06  \n",
       "2021-01-06       2021-01-07  "
      ]
     },
     "execution_count": 62,
     "metadata": {},
     "output_type": "execute_result"
    }
   ],
   "source": [
    "df['NewYearsHoliday'] = df.index + pd.offsets.CDay(calendar=newyears)\n",
    "df"
   ]
  },
  {
   "cell_type": "code",
   "execution_count": 63,
   "id": "896c0316",
   "metadata": {},
   "outputs": [
    {
     "data": {
      "text/html": [
       "<div>\n",
       "<style scoped>\n",
       "    .dataframe tbody tr th:only-of-type {\n",
       "        vertical-align: middle;\n",
       "    }\n",
       "\n",
       "    .dataframe tbody tr th {\n",
       "        vertical-align: top;\n",
       "    }\n",
       "\n",
       "    .dataframe thead th {\n",
       "        text-align: right;\n",
       "    }\n",
       "</style>\n",
       "<table border=\"1\" class=\"dataframe\">\n",
       "  <thead>\n",
       "    <tr style=\"text-align: right;\">\n",
       "      <th></th>\n",
       "      <th>production</th>\n",
       "      <th>USFederalHolidays</th>\n",
       "      <th>date</th>\n",
       "      <th>USFederalHolidays1</th>\n",
       "      <th>NewYearsHoliday</th>\n",
       "      <th>NewYearsHoliday1</th>\n",
       "    </tr>\n",
       "    <tr>\n",
       "      <th>purchase_dt</th>\n",
       "      <th></th>\n",
       "      <th></th>\n",
       "      <th></th>\n",
       "      <th></th>\n",
       "      <th></th>\n",
       "      <th></th>\n",
       "    </tr>\n",
       "  </thead>\n",
       "  <tbody>\n",
       "    <tr>\n",
       "      <th>2021-01-01</th>\n",
       "      <td>32</td>\n",
       "      <td>2021-01-04</td>\n",
       "      <td>2021-01-01</td>\n",
       "      <td>2021-01-04</td>\n",
       "      <td>2021-01-04</td>\n",
       "      <td>2021-01-04</td>\n",
       "    </tr>\n",
       "    <tr>\n",
       "      <th>2021-01-02</th>\n",
       "      <td>29</td>\n",
       "      <td>2021-01-04</td>\n",
       "      <td>2021-01-02</td>\n",
       "      <td>2021-01-04</td>\n",
       "      <td>2021-01-04</td>\n",
       "      <td>2021-01-04</td>\n",
       "    </tr>\n",
       "    <tr>\n",
       "      <th>2021-01-03</th>\n",
       "      <td>33</td>\n",
       "      <td>2021-01-04</td>\n",
       "      <td>2021-01-03</td>\n",
       "      <td>2021-01-04</td>\n",
       "      <td>2021-01-04</td>\n",
       "      <td>2021-01-04</td>\n",
       "    </tr>\n",
       "    <tr>\n",
       "      <th>2021-01-04</th>\n",
       "      <td>33</td>\n",
       "      <td>2021-01-05</td>\n",
       "      <td>2021-01-04</td>\n",
       "      <td>2021-01-05</td>\n",
       "      <td>2021-01-05</td>\n",
       "      <td>2021-01-05</td>\n",
       "    </tr>\n",
       "    <tr>\n",
       "      <th>2021-01-05</th>\n",
       "      <td>12</td>\n",
       "      <td>2021-01-06</td>\n",
       "      <td>2021-01-05</td>\n",
       "      <td>2021-01-06</td>\n",
       "      <td>2021-01-06</td>\n",
       "      <td>2021-01-06</td>\n",
       "    </tr>\n",
       "    <tr>\n",
       "      <th>2021-01-06</th>\n",
       "      <td>13</td>\n",
       "      <td>2021-01-07</td>\n",
       "      <td>2021-01-06</td>\n",
       "      <td>2021-01-07</td>\n",
       "      <td>2021-01-07</td>\n",
       "      <td>2021-01-07</td>\n",
       "    </tr>\n",
       "  </tbody>\n",
       "</table>\n",
       "</div>"
      ],
      "text/plain": [
       "             production USFederalHolidays       date USFederalHolidays1  \\\n",
       "purchase_dt                                                               \n",
       "2021-01-01           32        2021-01-04 2021-01-01         2021-01-04   \n",
       "2021-01-02           29        2021-01-04 2021-01-02         2021-01-04   \n",
       "2021-01-03           33        2021-01-04 2021-01-03         2021-01-04   \n",
       "2021-01-04           33        2021-01-05 2021-01-04         2021-01-05   \n",
       "2021-01-05           12        2021-01-06 2021-01-05         2021-01-06   \n",
       "2021-01-06           13        2021-01-07 2021-01-06         2021-01-07   \n",
       "\n",
       "            NewYearsHoliday NewYearsHoliday1  \n",
       "purchase_dt                                   \n",
       "2021-01-01       2021-01-04       2021-01-04  \n",
       "2021-01-02       2021-01-04       2021-01-04  \n",
       "2021-01-03       2021-01-04       2021-01-04  \n",
       "2021-01-04       2021-01-05       2021-01-05  \n",
       "2021-01-05       2021-01-06       2021-01-06  \n",
       "2021-01-06       2021-01-07       2021-01-07  "
      ]
     },
     "execution_count": 63,
     "metadata": {},
     "output_type": "execute_result"
    }
   ],
   "source": [
    "#No warning and better performance for large datasets\n",
    "df['date'] = df.index\n",
    "df['NewYearsHoliday1'] = df.apply(lambda x: x.date + pd.offsets.CDay(calendar=newyears), axis=1)\n",
    "df"
   ]
  },
  {
   "cell_type": "markdown",
   "id": "b6756152",
   "metadata": {},
   "source": [
    "#### Custom Business days"
   ]
  },
  {
   "cell_type": "code",
   "execution_count": 64,
   "id": "29452cef",
   "metadata": {},
   "outputs": [
    {
     "data": {
      "text/plain": [
       "<CustomBusinessDay>"
      ]
     },
     "execution_count": 64,
     "metadata": {},
     "output_type": "execute_result"
    }
   ],
   "source": [
    "#Defining business weekdays and national holiday\n",
    "\n",
    "#Workdays\n",
    "dubai_uae_workdays = \"Sun Mon Tue Wed Thu\"\n",
    "\n",
    "# UAE national day\n",
    "nationalDay = [pd.to_datetime('2021-12-2')]\n",
    "\n",
    "#applying biz weekdays and holiday to custom calendar\n",
    "dubai_uae_bday = pd.offsets.CDay(\n",
    "    holidays=nationalDay,\n",
    "    weekmask=dubai_uae_workdays,\n",
    ")\n",
    "\n",
    "\n",
    "dubai_uae_bday"
   ]
  },
  {
   "cell_type": "code",
   "execution_count": 65,
   "id": "467f0808",
   "metadata": {},
   "outputs": [
    {
     "data": {
      "text/html": [
       "<div>\n",
       "<style scoped>\n",
       "    .dataframe tbody tr th:only-of-type {\n",
       "        vertical-align: middle;\n",
       "    }\n",
       "\n",
       "    .dataframe tbody tr th {\n",
       "        vertical-align: top;\n",
       "    }\n",
       "\n",
       "    .dataframe thead th {\n",
       "        text-align: right;\n",
       "    }\n",
       "</style>\n",
       "<table border=\"1\" class=\"dataframe\">\n",
       "  <thead>\n",
       "    <tr style=\"text-align: right;\">\n",
       "      <th></th>\n",
       "      <th>Date</th>\n",
       "      <th>Day_name</th>\n",
       "    </tr>\n",
       "  </thead>\n",
       "  <tbody>\n",
       "    <tr>\n",
       "      <th>0</th>\n",
       "      <td>2021-12-01</td>\n",
       "      <td>Wednesday</td>\n",
       "    </tr>\n",
       "    <tr>\n",
       "      <th>1</th>\n",
       "      <td>2021-12-05</td>\n",
       "      <td>Sunday</td>\n",
       "    </tr>\n",
       "    <tr>\n",
       "      <th>2</th>\n",
       "      <td>2021-12-06</td>\n",
       "      <td>Monday</td>\n",
       "    </tr>\n",
       "    <tr>\n",
       "      <th>3</th>\n",
       "      <td>2021-12-07</td>\n",
       "      <td>Tuesday</td>\n",
       "    </tr>\n",
       "    <tr>\n",
       "      <th>4</th>\n",
       "      <td>2021-12-08</td>\n",
       "      <td>Wednesday</td>\n",
       "    </tr>\n",
       "    <tr>\n",
       "      <th>5</th>\n",
       "      <td>2021-12-09</td>\n",
       "      <td>Thursday</td>\n",
       "    </tr>\n",
       "    <tr>\n",
       "      <th>6</th>\n",
       "      <td>2021-12-12</td>\n",
       "      <td>Sunday</td>\n",
       "    </tr>\n",
       "    <tr>\n",
       "      <th>7</th>\n",
       "      <td>2021-12-13</td>\n",
       "      <td>Monday</td>\n",
       "    </tr>\n",
       "    <tr>\n",
       "      <th>8</th>\n",
       "      <td>2021-12-14</td>\n",
       "      <td>Tuesday</td>\n",
       "    </tr>\n",
       "    <tr>\n",
       "      <th>9</th>\n",
       "      <td>2021-12-15</td>\n",
       "      <td>Wednesday</td>\n",
       "    </tr>\n",
       "  </tbody>\n",
       "</table>\n",
       "</div>"
      ],
      "text/plain": [
       "        Date   Day_name\n",
       "0 2021-12-01  Wednesday\n",
       "1 2021-12-05     Sunday\n",
       "2 2021-12-06     Monday\n",
       "3 2021-12-07    Tuesday\n",
       "4 2021-12-08  Wednesday\n",
       "5 2021-12-09   Thursday\n",
       "6 2021-12-12     Sunday\n",
       "7 2021-12-13     Monday\n",
       "8 2021-12-14    Tuesday\n",
       "9 2021-12-15  Wednesday"
      ]
     },
     "execution_count": 65,
     "metadata": {},
     "output_type": "execute_result"
    }
   ],
   "source": [
    "# Using new calendar\n",
    "df = pd.DataFrame({'Date': pd.date_range('12-1-2021', periods=10, freq=dubai_uae_bday )})\n",
    "df['Day_name'] = df.Date.dt.day_name()\n",
    "\n",
    "df"
   ]
  },
  {
   "cell_type": "markdown",
   "id": "989d527a",
   "metadata": {},
   "source": [
    "#### Custom Business Hours"
   ]
  },
  {
   "cell_type": "code",
   "execution_count": 66,
   "id": "bc12b710",
   "metadata": {},
   "outputs": [
    {
     "name": "stderr",
     "output_type": "stream",
     "text": [
      "C:\\Users\\anacl\\AppData\\Local\\Temp/ipykernel_12628/1180383970.py:6: PerformanceWarning: Non-vectorized DateOffset being applied to Series or DatetimeIndex.\n",
      "  df['BHours'] = df['Date'] + cust_hours\n"
     ]
    },
    {
     "data": {
      "text/html": [
       "<div>\n",
       "<style scoped>\n",
       "    .dataframe tbody tr th:only-of-type {\n",
       "        vertical-align: middle;\n",
       "    }\n",
       "\n",
       "    .dataframe tbody tr th {\n",
       "        vertical-align: top;\n",
       "    }\n",
       "\n",
       "    .dataframe thead th {\n",
       "        text-align: right;\n",
       "    }\n",
       "</style>\n",
       "<table border=\"1\" class=\"dataframe\">\n",
       "  <thead>\n",
       "    <tr style=\"text-align: right;\">\n",
       "      <th></th>\n",
       "      <th>Date</th>\n",
       "      <th>Day_name</th>\n",
       "      <th>BHours</th>\n",
       "    </tr>\n",
       "  </thead>\n",
       "  <tbody>\n",
       "    <tr>\n",
       "      <th>0</th>\n",
       "      <td>2021-12-01</td>\n",
       "      <td>Wednesday</td>\n",
       "      <td>2021-12-01 09:30:00</td>\n",
       "    </tr>\n",
       "    <tr>\n",
       "      <th>1</th>\n",
       "      <td>2021-12-05</td>\n",
       "      <td>Sunday</td>\n",
       "      <td>2021-12-05 09:30:00</td>\n",
       "    </tr>\n",
       "    <tr>\n",
       "      <th>2</th>\n",
       "      <td>2021-12-06</td>\n",
       "      <td>Monday</td>\n",
       "      <td>2021-12-06 09:30:00</td>\n",
       "    </tr>\n",
       "    <tr>\n",
       "      <th>3</th>\n",
       "      <td>2021-12-07</td>\n",
       "      <td>Tuesday</td>\n",
       "      <td>2021-12-07 09:30:00</td>\n",
       "    </tr>\n",
       "    <tr>\n",
       "      <th>4</th>\n",
       "      <td>2021-12-08</td>\n",
       "      <td>Wednesday</td>\n",
       "      <td>2021-12-08 09:30:00</td>\n",
       "    </tr>\n",
       "    <tr>\n",
       "      <th>5</th>\n",
       "      <td>2021-12-09</td>\n",
       "      <td>Thursday</td>\n",
       "      <td>2021-12-09 09:30:00</td>\n",
       "    </tr>\n",
       "    <tr>\n",
       "      <th>6</th>\n",
       "      <td>2021-12-12</td>\n",
       "      <td>Sunday</td>\n",
       "      <td>2021-12-12 09:30:00</td>\n",
       "    </tr>\n",
       "    <tr>\n",
       "      <th>7</th>\n",
       "      <td>2021-12-13</td>\n",
       "      <td>Monday</td>\n",
       "      <td>2021-12-13 09:30:00</td>\n",
       "    </tr>\n",
       "    <tr>\n",
       "      <th>8</th>\n",
       "      <td>2021-12-14</td>\n",
       "      <td>Tuesday</td>\n",
       "      <td>2021-12-14 09:30:00</td>\n",
       "    </tr>\n",
       "    <tr>\n",
       "      <th>9</th>\n",
       "      <td>2021-12-15</td>\n",
       "      <td>Wednesday</td>\n",
       "      <td>2021-12-15 09:30:00</td>\n",
       "    </tr>\n",
       "  </tbody>\n",
       "</table>\n",
       "</div>"
      ],
      "text/plain": [
       "        Date   Day_name              BHours\n",
       "0 2021-12-01  Wednesday 2021-12-01 09:30:00\n",
       "1 2021-12-05     Sunday 2021-12-05 09:30:00\n",
       "2 2021-12-06     Monday 2021-12-06 09:30:00\n",
       "3 2021-12-07    Tuesday 2021-12-07 09:30:00\n",
       "4 2021-12-08  Wednesday 2021-12-08 09:30:00\n",
       "5 2021-12-09   Thursday 2021-12-09 09:30:00\n",
       "6 2021-12-12     Sunday 2021-12-12 09:30:00\n",
       "7 2021-12-13     Monday 2021-12-13 09:30:00\n",
       "8 2021-12-14    Tuesday 2021-12-14 09:30:00\n",
       "9 2021-12-15  Wednesday 2021-12-15 09:30:00"
      ]
     },
     "execution_count": 66,
     "metadata": {},
     "output_type": "execute_result"
    }
   ],
   "source": [
    "cust_hours = pd.offsets.CustomBusinessHour(\n",
    "    start=\"8:30\",\n",
    "    end=\"15:30\",\n",
    "    holidays=nationalDay,\n",
    "    weekmask=dubai_uae_workdays)\n",
    "df['BHours'] = df['Date'] + cust_hours\n",
    "df"
   ]
  },
  {
   "cell_type": "code",
   "execution_count": 67,
   "id": "4fa16629",
   "metadata": {},
   "outputs": [
    {
     "data": {
      "text/html": [
       "<div>\n",
       "<style scoped>\n",
       "    .dataframe tbody tr th:only-of-type {\n",
       "        vertical-align: middle;\n",
       "    }\n",
       "\n",
       "    .dataframe tbody tr th {\n",
       "        vertical-align: top;\n",
       "    }\n",
       "\n",
       "    .dataframe thead th {\n",
       "        text-align: right;\n",
       "    }\n",
       "</style>\n",
       "<table border=\"1\" class=\"dataframe\">\n",
       "  <thead>\n",
       "    <tr style=\"text-align: right;\">\n",
       "      <th></th>\n",
       "      <th>Date</th>\n",
       "      <th>Day_name</th>\n",
       "      <th>BHours</th>\n",
       "      <th>BHours1</th>\n",
       "    </tr>\n",
       "  </thead>\n",
       "  <tbody>\n",
       "    <tr>\n",
       "      <th>0</th>\n",
       "      <td>2021-12-01</td>\n",
       "      <td>Wednesday</td>\n",
       "      <td>2021-12-01 09:30:00</td>\n",
       "      <td>2021-12-01 09:30:00</td>\n",
       "    </tr>\n",
       "    <tr>\n",
       "      <th>1</th>\n",
       "      <td>2021-12-05</td>\n",
       "      <td>Sunday</td>\n",
       "      <td>2021-12-05 09:30:00</td>\n",
       "      <td>2021-12-05 09:30:00</td>\n",
       "    </tr>\n",
       "    <tr>\n",
       "      <th>2</th>\n",
       "      <td>2021-12-06</td>\n",
       "      <td>Monday</td>\n",
       "      <td>2021-12-06 09:30:00</td>\n",
       "      <td>2021-12-06 09:30:00</td>\n",
       "    </tr>\n",
       "    <tr>\n",
       "      <th>3</th>\n",
       "      <td>2021-12-07</td>\n",
       "      <td>Tuesday</td>\n",
       "      <td>2021-12-07 09:30:00</td>\n",
       "      <td>2021-12-07 09:30:00</td>\n",
       "    </tr>\n",
       "    <tr>\n",
       "      <th>4</th>\n",
       "      <td>2021-12-08</td>\n",
       "      <td>Wednesday</td>\n",
       "      <td>2021-12-08 09:30:00</td>\n",
       "      <td>2021-12-08 09:30:00</td>\n",
       "    </tr>\n",
       "    <tr>\n",
       "      <th>5</th>\n",
       "      <td>2021-12-09</td>\n",
       "      <td>Thursday</td>\n",
       "      <td>2021-12-09 09:30:00</td>\n",
       "      <td>2021-12-09 09:30:00</td>\n",
       "    </tr>\n",
       "    <tr>\n",
       "      <th>6</th>\n",
       "      <td>2021-12-12</td>\n",
       "      <td>Sunday</td>\n",
       "      <td>2021-12-12 09:30:00</td>\n",
       "      <td>2021-12-12 09:30:00</td>\n",
       "    </tr>\n",
       "    <tr>\n",
       "      <th>7</th>\n",
       "      <td>2021-12-13</td>\n",
       "      <td>Monday</td>\n",
       "      <td>2021-12-13 09:30:00</td>\n",
       "      <td>2021-12-13 09:30:00</td>\n",
       "    </tr>\n",
       "    <tr>\n",
       "      <th>8</th>\n",
       "      <td>2021-12-14</td>\n",
       "      <td>Tuesday</td>\n",
       "      <td>2021-12-14 09:30:00</td>\n",
       "      <td>2021-12-14 09:30:00</td>\n",
       "    </tr>\n",
       "    <tr>\n",
       "      <th>9</th>\n",
       "      <td>2021-12-15</td>\n",
       "      <td>Wednesday</td>\n",
       "      <td>2021-12-15 09:30:00</td>\n",
       "      <td>2021-12-15 09:30:00</td>\n",
       "    </tr>\n",
       "  </tbody>\n",
       "</table>\n",
       "</div>"
      ],
      "text/plain": [
       "        Date   Day_name              BHours             BHours1\n",
       "0 2021-12-01  Wednesday 2021-12-01 09:30:00 2021-12-01 09:30:00\n",
       "1 2021-12-05     Sunday 2021-12-05 09:30:00 2021-12-05 09:30:00\n",
       "2 2021-12-06     Monday 2021-12-06 09:30:00 2021-12-06 09:30:00\n",
       "3 2021-12-07    Tuesday 2021-12-07 09:30:00 2021-12-07 09:30:00\n",
       "4 2021-12-08  Wednesday 2021-12-08 09:30:00 2021-12-08 09:30:00\n",
       "5 2021-12-09   Thursday 2021-12-09 09:30:00 2021-12-09 09:30:00\n",
       "6 2021-12-12     Sunday 2021-12-12 09:30:00 2021-12-12 09:30:00\n",
       "7 2021-12-13     Monday 2021-12-13 09:30:00 2021-12-13 09:30:00\n",
       "8 2021-12-14    Tuesday 2021-12-14 09:30:00 2021-12-14 09:30:00\n",
       "9 2021-12-15  Wednesday 2021-12-15 09:30:00 2021-12-15 09:30:00"
      ]
     },
     "execution_count": 67,
     "metadata": {},
     "output_type": "execute_result"
    }
   ],
   "source": [
    "#No warning and better performance for large datasets\n",
    "df['BHours1'] = df.apply(lambda x: x.Date + cust_hours, axis=1)\n",
    "df"
   ]
  },
  {
   "cell_type": "markdown",
   "id": "d0c84857",
   "metadata": {},
   "source": [
    "## Handling Missing Data\n",
    "\n",
    "Just as any other datasets, time series datasets have outliers and missing data.\n",
    "Chacking with business and system admininstrators for encoded missing values and their meaning and consequence for business is crucial. "
   ]
  },
  {
   "cell_type": "code",
   "execution_count": 68,
   "id": "3c147a82",
   "metadata": {},
   "outputs": [],
   "source": [
    "import pandas as pd\n",
    "from pathlib import Path\n",
    "import matplotlib.pyplot as plt\n",
    "from matplotlib.patches import Rectangle\n",
    "import matplotlib.dates as mdates\n",
    "import numpy as np\n",
    "\n",
    "\n",
    "\n",
    "import matplotlib\n",
    "import sklearn\n",
    "import statsmodels as sm"
   ]
  },
  {
   "cell_type": "markdown",
   "id": "ed2bac49",
   "metadata": {},
   "source": [
    "Functions"
   ]
  },
  {
   "cell_type": "code",
   "execution_count": 69,
   "id": "85aff58f",
   "metadata": {},
   "outputs": [],
   "source": [
    "def read_dataset(folder, file, date_col=None):\n",
    "    '''\n",
    "    folder: is a Path object\n",
    "    file: the CSV filename in that Path object. \n",
    "    date_col: specify a date_col to use as index_col \n",
    "    \n",
    "    returns: a pandas DataFrame with a DatetimeIndex\n",
    "    '''\n",
    "    df = pd.read_csv(folder / file, \n",
    "                     index_col=date_col, \n",
    "                     parse_dates=[date_col])\n",
    "    return df"
   ]
  },
  {
   "cell_type": "code",
   "execution_count": 70,
   "id": "3f9074dc",
   "metadata": {},
   "outputs": [],
   "source": [
    "def plot_dfs(df1, df2, col, title=None, xlabel=None, ylabel=None):\n",
    "    '''\t\n",
    "    df1: original dataframe without missing data\n",
    "    df2: dataframe with missing data\n",
    "    col: column name that contains missing data\n",
    "    '''    \n",
    "    df_missing = df2.rename(columns={col: 'missing'})\n",
    "    \n",
    "    columns = df_missing.loc[:, 'missing':].columns.tolist()\n",
    "    subplots_size = len(columns)\n",
    "    \n",
    "    # subplots_size = df2.shape[1]\n",
    "    fig, ax = plt.subplots(subplots_size+1, 1, sharex=True)\n",
    "    plt.subplots_adjust(hspace=0.25)\n",
    "    fig.suptitle = title \n",
    "    \n",
    "    df1[col].plot(ax=ax[0], figsize=(10, 16))\n",
    "    ax[0].set_title('Original Dataset')\n",
    "    ax[0].set_xlabel(xlabel)\n",
    "    ax[0].set_ylabel(ylabel)    \n",
    "    \n",
    "    for i, colname in enumerate(columns):\n",
    "        df_missing[colname].plot(ax=ax[i+1])\n",
    "        ax[i+1].set_title(colname)\n",
    "\n",
    "    plt.show()"
   ]
  },
  {
   "cell_type": "code",
   "execution_count": 71,
   "id": "2809a702",
   "metadata": {},
   "outputs": [],
   "source": [
    "def rmse_score(df1, df2, col=None):\n",
    "    '''\n",
    "    df1: original dataframe without missing data\n",
    "    df2: dataframe with missing data\n",
    "    col: column name that contains missing data\n",
    "\n",
    "    returns: a list of scores\n",
    "    '''\n",
    "    df_missing = df2.rename(columns={col: 'missing'})\n",
    "    columns = df_missing.loc[:, 'missing':].columns.tolist()\n",
    "    scores = []\n",
    "    for comp_col in columns[1:]:\n",
    "        rmse = np.sqrt(np.mean((df1[col] - df_missing[comp_col])**2))\n",
    "        scores.append(rmse)\n",
    "        print(f'RMSE for {comp_col}: {rmse}')\n",
    "    return scores"
   ]
  },
  {
   "cell_type": "markdown",
   "id": "e323c6b1",
   "metadata": {},
   "source": [
    "#### Loading data"
   ]
  },
  {
   "cell_type": "code",
   "execution_count": 72,
   "id": "978413dc",
   "metadata": {},
   "outputs": [],
   "source": [
    "URL1 = \"https://raw.githubusercontent.com/PacktPublishing/Time-Series-Analysis-with-Python-Cookbook/main/datasets/Ch7/co2_missing.csv\"\n",
    "response = request.urlretrieve(URL1, r\".//Data/co2_missing.csv\")\n",
    "co2 = Path(r\".//Data/co2_missing.csv\")\n",
    "co2_df = pd.read_csv(co2)\n",
    "\n",
    "URL2 = \"https://raw.githubusercontent.com/PacktPublishing/Time-Series-Analysis-with-Python-Cookbook/main/datasets/Ch7/clicks_missing_multiple.csv\"\n",
    "response = request.urlretrieve(URL2, r\".//Data/clicks_missing_multiple.csv\")\n",
    "ecom = Path(r\".//Data/clicks_missing_multiple.csv\")\n",
    "ecom_df = pd.read_csv(ecom, parse_dates=['date'])"
   ]
  },
  {
   "cell_type": "code",
   "execution_count": 73,
   "id": "8f960155",
   "metadata": {},
   "outputs": [
    {
     "data": {
      "text/html": [
       "<div>\n",
       "<style scoped>\n",
       "    .dataframe tbody tr th:only-of-type {\n",
       "        vertical-align: middle;\n",
       "    }\n",
       "\n",
       "    .dataframe tbody tr th {\n",
       "        vertical-align: top;\n",
       "    }\n",
       "\n",
       "    .dataframe thead th {\n",
       "        text-align: right;\n",
       "    }\n",
       "</style>\n",
       "<table border=\"1\" class=\"dataframe\">\n",
       "  <thead>\n",
       "    <tr style=\"text-align: right;\">\n",
       "      <th></th>\n",
       "      <th>year</th>\n",
       "      <th>co2</th>\n",
       "    </tr>\n",
       "  </thead>\n",
       "  <tbody>\n",
       "    <tr>\n",
       "      <th>0</th>\n",
       "      <td>1750</td>\n",
       "      <td>0.0125</td>\n",
       "    </tr>\n",
       "    <tr>\n",
       "      <th>1</th>\n",
       "      <td>1760</td>\n",
       "      <td>0.0128</td>\n",
       "    </tr>\n",
       "    <tr>\n",
       "      <th>2</th>\n",
       "      <td>1770</td>\n",
       "      <td>0.0150</td>\n",
       "    </tr>\n",
       "    <tr>\n",
       "      <th>3</th>\n",
       "      <td>1780</td>\n",
       "      <td>0.0169</td>\n",
       "    </tr>\n",
       "    <tr>\n",
       "      <th>4</th>\n",
       "      <td>1790</td>\n",
       "      <td>0.0206</td>\n",
       "    </tr>\n",
       "  </tbody>\n",
       "</table>\n",
       "</div>"
      ],
      "text/plain": [
       "   year     co2\n",
       "0  1750  0.0125\n",
       "1  1760  0.0128\n",
       "2  1770  0.0150\n",
       "3  1780  0.0169\n",
       "4  1790  0.0206"
      ]
     },
     "metadata": {},
     "output_type": "display_data"
    },
    {
     "data": {
      "text/plain": [
       "Index(['year', 'co2'], dtype='object')"
      ]
     },
     "metadata": {},
     "output_type": "display_data"
    },
    {
     "data": {
      "text/html": [
       "<div>\n",
       "<style scoped>\n",
       "    .dataframe tbody tr th:only-of-type {\n",
       "        vertical-align: middle;\n",
       "    }\n",
       "\n",
       "    .dataframe tbody tr th {\n",
       "        vertical-align: top;\n",
       "    }\n",
       "\n",
       "    .dataframe thead th {\n",
       "        text-align: right;\n",
       "    }\n",
       "</style>\n",
       "<table border=\"1\" class=\"dataframe\">\n",
       "  <thead>\n",
       "    <tr style=\"text-align: right;\">\n",
       "      <th></th>\n",
       "      <th>date</th>\n",
       "      <th>price</th>\n",
       "      <th>location</th>\n",
       "      <th>clicks</th>\n",
       "    </tr>\n",
       "  </thead>\n",
       "  <tbody>\n",
       "    <tr>\n",
       "      <th>0</th>\n",
       "      <td>2008-04-01</td>\n",
       "      <td>43.155647</td>\n",
       "      <td>2.0</td>\n",
       "      <td>18784</td>\n",
       "    </tr>\n",
       "    <tr>\n",
       "      <th>1</th>\n",
       "      <td>2008-04-02</td>\n",
       "      <td>43.079056</td>\n",
       "      <td>1.0</td>\n",
       "      <td>24738</td>\n",
       "    </tr>\n",
       "    <tr>\n",
       "      <th>2</th>\n",
       "      <td>NaT</td>\n",
       "      <td>43.842609</td>\n",
       "      <td>NaN</td>\n",
       "      <td>15209</td>\n",
       "    </tr>\n",
       "    <tr>\n",
       "      <th>3</th>\n",
       "      <td>NaT</td>\n",
       "      <td>NaN</td>\n",
       "      <td>1.0</td>\n",
       "      <td>14018</td>\n",
       "    </tr>\n",
       "    <tr>\n",
       "      <th>4</th>\n",
       "      <td>NaT</td>\n",
       "      <td>43.941176</td>\n",
       "      <td>1.0</td>\n",
       "      <td>11974</td>\n",
       "    </tr>\n",
       "  </tbody>\n",
       "</table>\n",
       "</div>"
      ],
      "text/plain": [
       "        date      price  location clicks\n",
       "0 2008-04-01  43.155647       2.0  18784\n",
       "1 2008-04-02  43.079056       1.0  24738\n",
       "2        NaT  43.842609       NaN  15209\n",
       "3        NaT        NaN       1.0  14018\n",
       "4        NaT  43.941176       1.0  11974"
      ]
     },
     "metadata": {},
     "output_type": "display_data"
    },
    {
     "data": {
      "text/plain": [
       "Index(['date', 'price', 'location', 'clicks'], dtype='object')"
      ]
     },
     "metadata": {},
     "output_type": "display_data"
    }
   ],
   "source": [
    "display(co2_df.head(),co2_df.columns)\n",
    "display(ecom_df.head(),ecom_df.columns)"
   ]
  },
  {
   "cell_type": "markdown",
   "id": "ecfabe9e",
   "metadata": {},
   "source": [
    "#### Data Quality Checks"
   ]
  },
  {
   "cell_type": "code",
   "execution_count": 74,
   "id": "529f7a0c",
   "metadata": {},
   "outputs": [
    {
     "data": {
      "text/plain": [
       "'Missing per columns: '"
      ]
     },
     "metadata": {},
     "output_type": "display_data"
    },
    {
     "data": {
      "text/plain": [
       "year     0\n",
       "co2     25\n",
       "dtype: int64"
      ]
     },
     "metadata": {},
     "output_type": "display_data"
    },
    {
     "data": {
      "text/plain": [
       "'Missing per columns: '"
      ]
     },
     "metadata": {},
     "output_type": "display_data"
    },
    {
     "data": {
      "text/plain": [
       "date         4\n",
       "price        1\n",
       "location     1\n",
       "clicks      14\n",
       "dtype: int64"
      ]
     },
     "metadata": {},
     "output_type": "display_data"
    },
    {
     "data": {
      "text/plain": [
       "'Total Missings: '"
      ]
     },
     "metadata": {},
     "output_type": "display_data"
    },
    {
     "data": {
      "text/plain": [
       "20"
      ]
     },
     "metadata": {},
     "output_type": "display_data"
    }
   ],
   "source": [
    "# isnull() isna()and sum(): \n",
    "display('Missing per columns: ',co2_df.isnull().sum())\n",
    "display('Missing per columns: ',ecom_df.isnull().sum())\n",
    "display('Total Missings: ',ecom_df.isnull().sum().sum())"
   ]
  },
  {
   "cell_type": "code",
   "execution_count": 75,
   "id": "ba8306a2",
   "metadata": {},
   "outputs": [
    {
     "data": {
      "text/plain": [
       "'Missing per columns: '"
      ]
     },
     "metadata": {},
     "output_type": "display_data"
    },
    {
     "data": {
      "text/plain": [
       "year    0\n",
       "co2     0\n",
       "dtype: int64"
      ]
     },
     "metadata": {},
     "output_type": "display_data"
    },
    {
     "data": {
      "text/html": [
       "<div>\n",
       "<style scoped>\n",
       "    .dataframe tbody tr th:only-of-type {\n",
       "        vertical-align: middle;\n",
       "    }\n",
       "\n",
       "    .dataframe tbody tr th {\n",
       "        vertical-align: top;\n",
       "    }\n",
       "\n",
       "    .dataframe thead th {\n",
       "        text-align: right;\n",
       "    }\n",
       "</style>\n",
       "<table border=\"1\" class=\"dataframe\">\n",
       "  <thead>\n",
       "    <tr style=\"text-align: right;\">\n",
       "      <th></th>\n",
       "      <th>year</th>\n",
       "      <th>co2</th>\n",
       "    </tr>\n",
       "  </thead>\n",
       "  <tbody>\n",
       "    <tr>\n",
       "      <th>132</th>\n",
       "      <td>1927</td>\n",
       "      <td></td>\n",
       "    </tr>\n",
       "    <tr>\n",
       "      <th>133</th>\n",
       "      <td>1928</td>\n",
       "      <td></td>\n",
       "    </tr>\n",
       "    <tr>\n",
       "      <th>134</th>\n",
       "      <td>1929</td>\n",
       "      <td></td>\n",
       "    </tr>\n",
       "    <tr>\n",
       "      <th>135</th>\n",
       "      <td>1930</td>\n",
       "      <td></td>\n",
       "    </tr>\n",
       "    <tr>\n",
       "      <th>136</th>\n",
       "      <td>1931</td>\n",
       "      <td></td>\n",
       "    </tr>\n",
       "    <tr>\n",
       "      <th>137</th>\n",
       "      <td>1932</td>\n",
       "      <td></td>\n",
       "    </tr>\n",
       "    <tr>\n",
       "      <th>138</th>\n",
       "      <td>1933</td>\n",
       "      <td></td>\n",
       "    </tr>\n",
       "  </tbody>\n",
       "</table>\n",
       "</div>"
      ],
      "text/plain": [
       "     year co2\n",
       "132  1927    \n",
       "133  1928    \n",
       "134  1929    \n",
       "135  1930    \n",
       "136  1931    \n",
       "137  1932    \n",
       "138  1933    "
      ]
     },
     "metadata": {},
     "output_type": "display_data"
    },
    {
     "data": {
      "text/plain": [
       "'Missing per columns: '"
      ]
     },
     "metadata": {},
     "output_type": "display_data"
    },
    {
     "data": {
      "text/plain": [
       "year     0\n",
       "co2     25\n",
       "dtype: int64"
      ]
     },
     "metadata": {},
     "output_type": "display_data"
    },
    {
     "data": {
      "text/html": [
       "<div>\n",
       "<style scoped>\n",
       "    .dataframe tbody tr th:only-of-type {\n",
       "        vertical-align: middle;\n",
       "    }\n",
       "\n",
       "    .dataframe tbody tr th {\n",
       "        vertical-align: top;\n",
       "    }\n",
       "\n",
       "    .dataframe thead th {\n",
       "        text-align: right;\n",
       "    }\n",
       "</style>\n",
       "<table border=\"1\" class=\"dataframe\">\n",
       "  <thead>\n",
       "    <tr style=\"text-align: right;\">\n",
       "      <th></th>\n",
       "      <th>year</th>\n",
       "      <th>co2</th>\n",
       "    </tr>\n",
       "  </thead>\n",
       "  <tbody>\n",
       "    <tr>\n",
       "      <th>132</th>\n",
       "      <td>1927</td>\n",
       "      <td>NaN</td>\n",
       "    </tr>\n",
       "    <tr>\n",
       "      <th>133</th>\n",
       "      <td>1928</td>\n",
       "      <td>NaN</td>\n",
       "    </tr>\n",
       "    <tr>\n",
       "      <th>134</th>\n",
       "      <td>1929</td>\n",
       "      <td>NaN</td>\n",
       "    </tr>\n",
       "    <tr>\n",
       "      <th>135</th>\n",
       "      <td>1930</td>\n",
       "      <td>NaN</td>\n",
       "    </tr>\n",
       "    <tr>\n",
       "      <th>136</th>\n",
       "      <td>1931</td>\n",
       "      <td>NaN</td>\n",
       "    </tr>\n",
       "    <tr>\n",
       "      <th>137</th>\n",
       "      <td>1932</td>\n",
       "      <td>NaN</td>\n",
       "    </tr>\n",
       "    <tr>\n",
       "      <th>138</th>\n",
       "      <td>1933</td>\n",
       "      <td>NaN</td>\n",
       "    </tr>\n",
       "  </tbody>\n",
       "</table>\n",
       "</div>"
      ],
      "text/plain": [
       "     year  co2\n",
       "132  1927  NaN\n",
       "133  1928  NaN\n",
       "134  1929  NaN\n",
       "135  1930  NaN\n",
       "136  1931  NaN\n",
       "137  1932  NaN\n",
       "138  1933  NaN"
      ]
     },
     "metadata": {},
     "output_type": "display_data"
    }
   ],
   "source": [
    "#pd.read_csv and keep_default_na = False\n",
    "co2_df1 = pd.read_csv(co2,keep_default_na=False)\n",
    "display('Missing per columns: ',co2_df1.isnull().sum())\n",
    "display(co2_df1.iloc[132:139])\n",
    "\n",
    "co2_df1 = pd.read_csv(co2,keep_default_na=True)\n",
    "display('Missing per columns: ',co2_df1.isnull().sum())\n",
    "display(co2_df1.iloc[132:139])"
   ]
  },
  {
   "cell_type": "code",
   "execution_count": 76,
   "id": "d01ff5bf",
   "metadata": {},
   "outputs": [
    {
     "data": {
      "text/plain": [
       "'Missing per columns: '"
      ]
     },
     "metadata": {},
     "output_type": "display_data"
    },
    {
     "data": {
      "text/plain": [
       "date         4\n",
       "price        1\n",
       "location     1\n",
       "clicks      14\n",
       "dtype: int64"
      ]
     },
     "metadata": {},
     "output_type": "display_data"
    },
    {
     "data": {
      "text/html": [
       "<div>\n",
       "<style scoped>\n",
       "    .dataframe tbody tr th:only-of-type {\n",
       "        vertical-align: middle;\n",
       "    }\n",
       "\n",
       "    .dataframe tbody tr th {\n",
       "        vertical-align: top;\n",
       "    }\n",
       "\n",
       "    .dataframe thead th {\n",
       "        text-align: right;\n",
       "    }\n",
       "</style>\n",
       "<table border=\"1\" class=\"dataframe\">\n",
       "  <thead>\n",
       "    <tr style=\"text-align: right;\">\n",
       "      <th></th>\n",
       "      <th>date</th>\n",
       "      <th>price</th>\n",
       "      <th>location</th>\n",
       "      <th>clicks</th>\n",
       "    </tr>\n",
       "  </thead>\n",
       "  <tbody>\n",
       "    <tr>\n",
       "      <th>count</th>\n",
       "      <td>131</td>\n",
       "      <td>134.000000</td>\n",
       "      <td>134.000000</td>\n",
       "      <td>121</td>\n",
       "    </tr>\n",
       "    <tr>\n",
       "      <th>unique</th>\n",
       "      <td>131</td>\n",
       "      <td>NaN</td>\n",
       "      <td>NaN</td>\n",
       "      <td>119</td>\n",
       "    </tr>\n",
       "    <tr>\n",
       "      <th>top</th>\n",
       "      <td>4/1/08</td>\n",
       "      <td>NaN</td>\n",
       "      <td>NaN</td>\n",
       "      <td>?</td>\n",
       "    </tr>\n",
       "    <tr>\n",
       "      <th>freq</th>\n",
       "      <td>1</td>\n",
       "      <td>NaN</td>\n",
       "      <td>NaN</td>\n",
       "      <td>2</td>\n",
       "    </tr>\n",
       "    <tr>\n",
       "      <th>mean</th>\n",
       "      <td>NaN</td>\n",
       "      <td>43.480221</td>\n",
       "      <td>1.694030</td>\n",
       "      <td>NaN</td>\n",
       "    </tr>\n",
       "    <tr>\n",
       "      <th>std</th>\n",
       "      <td>NaN</td>\n",
       "      <td>0.610578</td>\n",
       "      <td>1.118724</td>\n",
       "      <td>NaN</td>\n",
       "    </tr>\n",
       "    <tr>\n",
       "      <th>min</th>\n",
       "      <td>NaN</td>\n",
       "      <td>42.207018</td>\n",
       "      <td>1.000000</td>\n",
       "      <td>NaN</td>\n",
       "    </tr>\n",
       "    <tr>\n",
       "      <th>25%</th>\n",
       "      <td>NaN</td>\n",
       "      <td>43.038050</td>\n",
       "      <td>1.000000</td>\n",
       "      <td>NaN</td>\n",
       "    </tr>\n",
       "    <tr>\n",
       "      <th>50%</th>\n",
       "      <td>NaN</td>\n",
       "      <td>43.498842</td>\n",
       "      <td>1.000000</td>\n",
       "      <td>NaN</td>\n",
       "    </tr>\n",
       "    <tr>\n",
       "      <th>75%</th>\n",
       "      <td>NaN</td>\n",
       "      <td>43.889935</td>\n",
       "      <td>2.000000</td>\n",
       "      <td>NaN</td>\n",
       "    </tr>\n",
       "    <tr>\n",
       "      <th>max</th>\n",
       "      <td>NaN</td>\n",
       "      <td>45.801613</td>\n",
       "      <td>5.000000</td>\n",
       "      <td>NaN</td>\n",
       "    </tr>\n",
       "  </tbody>\n",
       "</table>\n",
       "</div>"
      ],
      "text/plain": [
       "          date       price    location clicks\n",
       "count      131  134.000000  134.000000    121\n",
       "unique     131         NaN         NaN    119\n",
       "top     4/1/08         NaN         NaN      ?\n",
       "freq         1         NaN         NaN      2\n",
       "mean       NaN   43.480221    1.694030    NaN\n",
       "std        NaN    0.610578    1.118724    NaN\n",
       "min        NaN   42.207018    1.000000    NaN\n",
       "25%        NaN   43.038050    1.000000    NaN\n",
       "50%        NaN   43.498842    1.000000    NaN\n",
       "75%        NaN   43.889935    2.000000    NaN\n",
       "max        NaN   45.801613    5.000000    NaN"
      ]
     },
     "metadata": {},
     "output_type": "display_data"
    },
    {
     "data": {
      "text/plain": [
       "'Missing per columns: '"
      ]
     },
     "metadata": {},
     "output_type": "display_data"
    },
    {
     "data": {
      "text/plain": [
       "date         4\n",
       "price        1\n",
       "location     1\n",
       "clicks      16\n",
       "dtype: int64"
      ]
     },
     "metadata": {},
     "output_type": "display_data"
    },
    {
     "data": {
      "text/html": [
       "<div>\n",
       "<style scoped>\n",
       "    .dataframe tbody tr th:only-of-type {\n",
       "        vertical-align: middle;\n",
       "    }\n",
       "\n",
       "    .dataframe tbody tr th {\n",
       "        vertical-align: top;\n",
       "    }\n",
       "\n",
       "    .dataframe thead th {\n",
       "        text-align: right;\n",
       "    }\n",
       "</style>\n",
       "<table border=\"1\" class=\"dataframe\">\n",
       "  <thead>\n",
       "    <tr style=\"text-align: right;\">\n",
       "      <th></th>\n",
       "      <th>date</th>\n",
       "      <th>price</th>\n",
       "      <th>location</th>\n",
       "      <th>clicks</th>\n",
       "    </tr>\n",
       "  </thead>\n",
       "  <tbody>\n",
       "    <tr>\n",
       "      <th>count</th>\n",
       "      <td>131</td>\n",
       "      <td>134.000000</td>\n",
       "      <td>134.000000</td>\n",
       "      <td>119.000000</td>\n",
       "    </tr>\n",
       "    <tr>\n",
       "      <th>unique</th>\n",
       "      <td>131</td>\n",
       "      <td>NaN</td>\n",
       "      <td>NaN</td>\n",
       "      <td>NaN</td>\n",
       "    </tr>\n",
       "    <tr>\n",
       "      <th>top</th>\n",
       "      <td>4/1/08</td>\n",
       "      <td>NaN</td>\n",
       "      <td>NaN</td>\n",
       "      <td>NaN</td>\n",
       "    </tr>\n",
       "    <tr>\n",
       "      <th>freq</th>\n",
       "      <td>1</td>\n",
       "      <td>NaN</td>\n",
       "      <td>NaN</td>\n",
       "      <td>NaN</td>\n",
       "    </tr>\n",
       "    <tr>\n",
       "      <th>mean</th>\n",
       "      <td>NaN</td>\n",
       "      <td>43.480221</td>\n",
       "      <td>1.694030</td>\n",
       "      <td>9530.336134</td>\n",
       "    </tr>\n",
       "    <tr>\n",
       "      <th>std</th>\n",
       "      <td>NaN</td>\n",
       "      <td>0.610578</td>\n",
       "      <td>1.118724</td>\n",
       "      <td>4687.587507</td>\n",
       "    </tr>\n",
       "    <tr>\n",
       "      <th>min</th>\n",
       "      <td>NaN</td>\n",
       "      <td>42.207018</td>\n",
       "      <td>1.000000</td>\n",
       "      <td>2044.000000</td>\n",
       "    </tr>\n",
       "    <tr>\n",
       "      <th>25%</th>\n",
       "      <td>NaN</td>\n",
       "      <td>43.038050</td>\n",
       "      <td>1.000000</td>\n",
       "      <td>6438.000000</td>\n",
       "    </tr>\n",
       "    <tr>\n",
       "      <th>50%</th>\n",
       "      <td>NaN</td>\n",
       "      <td>43.498842</td>\n",
       "      <td>1.000000</td>\n",
       "      <td>8391.000000</td>\n",
       "    </tr>\n",
       "    <tr>\n",
       "      <th>75%</th>\n",
       "      <td>NaN</td>\n",
       "      <td>43.889935</td>\n",
       "      <td>2.000000</td>\n",
       "      <td>11363.500000</td>\n",
       "    </tr>\n",
       "    <tr>\n",
       "      <th>max</th>\n",
       "      <td>NaN</td>\n",
       "      <td>45.801613</td>\n",
       "      <td>5.000000</td>\n",
       "      <td>29505.000000</td>\n",
       "    </tr>\n",
       "  </tbody>\n",
       "</table>\n",
       "</div>"
      ],
      "text/plain": [
       "          date       price    location        clicks\n",
       "count      131  134.000000  134.000000    119.000000\n",
       "unique     131         NaN         NaN           NaN\n",
       "top     4/1/08         NaN         NaN           NaN\n",
       "freq         1         NaN         NaN           NaN\n",
       "mean       NaN   43.480221    1.694030   9530.336134\n",
       "std        NaN    0.610578    1.118724   4687.587507\n",
       "min        NaN   42.207018    1.000000   2044.000000\n",
       "25%        NaN   43.038050    1.000000   6438.000000\n",
       "50%        NaN   43.498842    1.000000   8391.000000\n",
       "75%        NaN   43.889935    2.000000  11363.500000\n",
       "max        NaN   45.801613    5.000000  29505.000000"
      ]
     },
     "metadata": {},
     "output_type": "display_data"
    }
   ],
   "source": [
    "#pd.read_csv and na_values = {}\n",
    "ecom_df1 = pd.read_csv(ecom)\n",
    "display('Missing per columns: ',ecom_df1.isnull().sum())\n",
    "display(ecom_df1.describe(include='all'))\n",
    "\n",
    "ecom_df1 = pd.read_csv(ecom,na_values={'?'})\n",
    "display('Missing per columns: ',ecom_df1.isnull().sum())\n",
    "display(ecom_df1.describe(include='all'))"
   ]
  },
  {
   "cell_type": "code",
   "execution_count": 77,
   "id": "f9aed3c3",
   "metadata": {},
   "outputs": [],
   "source": [
    "del co2_df,co2_df1,ecom_df,ecom_df1,co2,ecom"
   ]
  },
  {
   "cell_type": "markdown",
   "id": "be67b23b",
   "metadata": {},
   "source": [
    "### Handling Missing Data with univariate imputation using pandas"
   ]
  },
  {
   "cell_type": "code",
   "execution_count": 78,
   "id": "68a68e56",
   "metadata": {},
   "outputs": [],
   "source": [
    "#Loading Data\n",
    "\n",
    "URL1 = \"https://raw.githubusercontent.com/PacktPublishing/Time-Series-Analysis-with-Python-Cookbook/main/datasets/Ch7/co2_original.csv\"\n",
    "response = request.urlretrieve(URL1, r\".//Data/co2_original.csv\")\n",
    "co2_or = Path(r\".//Data/co2_original.csv\")\n",
    "co2_original = pd.read_csv(co2_or)\n",
    "\n",
    "URL2 = \"https://raw.githubusercontent.com/PacktPublishing/Time-Series-Analysis-with-Python-Cookbook/main/datasets/Ch7/co2_missing_only.csv\"\n",
    "response = request.urlretrieve(URL2, r\".//Data/co2_missing_only.csv\")\n",
    "co2_mis = Path(r\".//Data/co2_missing_only.csv\")\n",
    "co2_missing = pd.read_csv(co2_mis)\n",
    "\n",
    "URL3 = \"https://raw.githubusercontent.com/PacktPublishing/Time-Series-Analysis-with-Python-Cookbook/main/datasets/Ch7/clicks_original.csv\"\n",
    "response = request.urlretrieve(URL3, r\".//Data/clicks_original.csv\")\n",
    "clicks_or= Path(r\".//Data/clicks_original.csv\")\n",
    "clicks_original = pd.read_csv(clicks_or)\n",
    "\n",
    "URL4 = \"https://raw.githubusercontent.com/PacktPublishing/Time-Series-Analysis-with-Python-Cookbook/main/datasets/Ch7/clicks_missing.csv\"\n",
    "response = request.urlretrieve(URL4, r\".//Data/clicks_missing.csv\")\n",
    "clicks_mis= Path(r\".//Data/clicks_missing.csv\")\n",
    "clicks_missing = pd.read_csv(clicks_mis)"
   ]
  },
  {
   "cell_type": "code",
   "execution_count": 79,
   "id": "3d30543c",
   "metadata": {},
   "outputs": [
    {
     "data": {
      "image/png": "[encoded data removed]",
      "text/plain": [
       "<Figure size 720x1152 with 2 Axes>"
      ]
     },
     "metadata": {
      "needs_background": "light"
     },
     "output_type": "display_data"
    }
   ],
   "source": [
    "plot_dfs(co2_original, \n",
    "         co2_missing, \n",
    "         'co2',\n",
    "         title=\"Annual CO2 Emission per Capita\",\n",
    "         xlabel=\"Years\",\n",
    "         ylabel=\"x100 million tons\")\n",
    "\n"
   ]
  },
  {
   "cell_type": "code",
   "execution_count": 80,
   "id": "bae746b9",
   "metadata": {},
   "outputs": [
    {
     "data": {
      "image/png": "[encoded data removed]",
      "text/plain": [
       "<Figure size 720x1152 with 2 Axes>"
      ]
     },
     "metadata": {
      "needs_background": "light"
     },
     "output_type": "display_data"
    }
   ],
   "source": [
    "plot_dfs(clicks_original, \n",
    "         clicks_missing, \n",
    "         'clicks',\n",
    "         title=\"Page Clicks per Day\",\n",
    "         xlabel=\"date\",\n",
    "         ylabel=\"# of clicks\")"
   ]
  },
  {
   "cell_type": "code",
   "execution_count": 81,
   "id": "d97cbb4d",
   "metadata": {},
   "outputs": [],
   "source": [
    "co2_missing['ffill'] = co2_missing['co2'].fillna(method='ffill')\n",
    "co2_missing['bfill'] = co2_missing['co2'].fillna(method='bfill')\n",
    "co2_missing['mean'] = co2_missing['co2'].fillna(co2_missing['co2'].mean())"
   ]
  },
  {
   "cell_type": "code",
   "execution_count": 82,
   "id": "eb1d86df",
   "metadata": {},
   "outputs": [
    {
     "data": {
      "text/html": [
       "<div>\n",
       "<style scoped>\n",
       "    .dataframe tbody tr th:only-of-type {\n",
       "        vertical-align: middle;\n",
       "    }\n",
       "\n",
       "    .dataframe tbody tr th {\n",
       "        vertical-align: top;\n",
       "    }\n",
       "\n",
       "    .dataframe thead th {\n",
       "        text-align: right;\n",
       "    }\n",
       "</style>\n",
       "<table border=\"1\" class=\"dataframe\">\n",
       "  <thead>\n",
       "    <tr style=\"text-align: right;\">\n",
       "      <th></th>\n",
       "      <th>year</th>\n",
       "      <th>co2</th>\n",
       "      <th>ffill</th>\n",
       "      <th>bfill</th>\n",
       "      <th>mean</th>\n",
       "    </tr>\n",
       "  </thead>\n",
       "  <tbody>\n",
       "    <tr>\n",
       "      <th>0</th>\n",
       "      <td>1750</td>\n",
       "      <td>0.0125</td>\n",
       "      <td>0.0125</td>\n",
       "      <td>0.0125</td>\n",
       "      <td>0.0125</td>\n",
       "    </tr>\n",
       "    <tr>\n",
       "      <th>1</th>\n",
       "      <td>1760</td>\n",
       "      <td>0.0128</td>\n",
       "      <td>0.0128</td>\n",
       "      <td>0.0128</td>\n",
       "      <td>0.0128</td>\n",
       "    </tr>\n",
       "    <tr>\n",
       "      <th>2</th>\n",
       "      <td>1770</td>\n",
       "      <td>0.0150</td>\n",
       "      <td>0.0150</td>\n",
       "      <td>0.0150</td>\n",
       "      <td>0.0150</td>\n",
       "    </tr>\n",
       "    <tr>\n",
       "      <th>3</th>\n",
       "      <td>1780</td>\n",
       "      <td>0.0169</td>\n",
       "      <td>0.0169</td>\n",
       "      <td>0.0169</td>\n",
       "      <td>0.0169</td>\n",
       "    </tr>\n",
       "    <tr>\n",
       "      <th>4</th>\n",
       "      <td>1790</td>\n",
       "      <td>0.0206</td>\n",
       "      <td>0.0206</td>\n",
       "      <td>0.0206</td>\n",
       "      <td>0.0206</td>\n",
       "    </tr>\n",
       "  </tbody>\n",
       "</table>\n",
       "</div>"
      ],
      "text/plain": [
       "   year     co2   ffill   bfill    mean\n",
       "0  1750  0.0125  0.0125  0.0125  0.0125\n",
       "1  1760  0.0128  0.0128  0.0128  0.0128\n",
       "2  1770  0.0150  0.0150  0.0150  0.0150\n",
       "3  1780  0.0169  0.0169  0.0169  0.0169\n",
       "4  1790  0.0206  0.0206  0.0206  0.0206"
      ]
     },
     "execution_count": 82,
     "metadata": {},
     "output_type": "execute_result"
    }
   ],
   "source": [
    "co2_missing.head()"
   ]
  },
  {
   "cell_type": "code",
   "execution_count": 83,
   "id": "697182f2",
   "metadata": {},
   "outputs": [
    {
     "name": "stdout",
     "output_type": "stream",
     "text": [
      "RMSE for ffill: 0.05873012599267133\n",
      "RMSE for bfill: 0.05550012995280968\n",
      "RMSE for mean: 0.7156383637041684\n"
     ]
    }
   ],
   "source": [
    "_ = rmse_score(co2_original, \n",
    "                    co2_missing, \n",
    "                    'co2')"
   ]
  },
  {
   "cell_type": "code",
   "execution_count": 84,
   "id": "1c1e9033",
   "metadata": {},
   "outputs": [
    {
     "data": {
      "image/png": "[encoded data removed]",
      "text/plain": [
       "<Figure size 720x1152 with 5 Axes>"
      ]
     },
     "metadata": {
      "needs_background": "light"
     },
     "output_type": "display_data"
    }
   ],
   "source": [
    "plot_dfs(co2_original, \n",
    "         co2_missing, \n",
    "         'co2',\n",
    "         title=\"Annual CO2 Emission per Capita\",\n",
    "         xlabel=\"Years\",\n",
    "         ylabel=\"x100 million tons\")"
   ]
  },
  {
   "cell_type": "code",
   "execution_count": 85,
   "id": "0600e566",
   "metadata": {},
   "outputs": [],
   "source": [
    "clicks_missing['ffil'] = clicks_missing['clicks'].fillna(method='ffill')\n",
    "clicks_missing['bfill'] = clicks_missing['clicks'].fillna(method='bfill')\n",
    "clicks_missing['mean'] = clicks_missing['clicks'].fillna(clicks_missing['clicks'].mean())"
   ]
  },
  {
   "cell_type": "code",
   "execution_count": 86,
   "id": "f1c0db4e",
   "metadata": {},
   "outputs": [
    {
     "name": "stdout",
     "output_type": "stream",
     "text": [
      "RMSE for ffil: 1034.1210689204554\n",
      "RMSE for bfill: 2116.6840489225033\n",
      "RMSE for mean: 997.7600138929953\n"
     ]
    },
    {
     "data": {
      "text/plain": [
       "[1034.1210689204554, 2116.6840489225033, 997.7600138929953]"
      ]
     },
     "execution_count": 86,
     "metadata": {},
     "output_type": "execute_result"
    }
   ],
   "source": [
    "rmse_score(clicks_original, \n",
    "                    clicks_missing, \n",
    "                    'clicks')"
   ]
  },
  {
   "cell_type": "code",
   "execution_count": 87,
   "id": "74a6f16c",
   "metadata": {},
   "outputs": [
    {
     "data": {
      "image/png": "[encoded data removed]",
      "text/plain": [
       "<Figure size 720x1152 with 5 Axes>"
      ]
     },
     "metadata": {
      "needs_background": "light"
     },
     "output_type": "display_data"
    }
   ],
   "source": [
    "plot_dfs(clicks_original, clicks_missing, 'clicks')"
   ]
  },
  {
   "cell_type": "code",
   "execution_count": 88,
   "id": "82acd4d7",
   "metadata": {},
   "outputs": [],
   "source": [
    "del co2_original,co2_missing,clicks_original,clicks_missing"
   ]
  },
  {
   "cell_type": "markdown",
   "id": "2d0ccb81",
   "metadata": {},
   "source": [
    "### Handling Missing Data with univariate imputation using scikit-learn\n",
    "\n",
    "It accepts different strategies,like: mean, median, most_frequent, and constant\n",
    "\n",
    "https://scikit-learn.org/stable/modules/generated/sklearn.impute.SimpleImputer.html"
   ]
  },
  {
   "cell_type": "code",
   "execution_count": 89,
   "id": "709cfffb",
   "metadata": {},
   "outputs": [],
   "source": [
    "from sklearn.impute import SimpleImputer"
   ]
  },
  {
   "cell_type": "code",
   "execution_count": 90,
   "id": "de22df48",
   "metadata": {},
   "outputs": [],
   "source": [
    "#Loading Data\n",
    "\n",
    "URL1 = \"https://raw.githubusercontent.com/PacktPublishing/Time-Series-Analysis-with-Python-Cookbook/main/datasets/Ch7/co2_original.csv\"\n",
    "response = request.urlretrieve(URL1, r\".//Data/co2_original.csv\")\n",
    "co2_or = Path(r\".//Data/co2_original.csv\")\n",
    "co2_original = pd.read_csv(co2_or)\n",
    "\n",
    "URL2 = \"https://raw.githubusercontent.com/PacktPublishing/Time-Series-Analysis-with-Python-Cookbook/main/datasets/Ch7/co2_missing_only.csv\"\n",
    "response = request.urlretrieve(URL2, r\".//Data/co2_missing_only.csv\")\n",
    "co2_mis = Path(r\".//Data/co2_missing_only.csv\")\n",
    "co2_missing = pd.read_csv(co2_mis)\n",
    "\n",
    "URL3 = \"https://raw.githubusercontent.com/PacktPublishing/Time-Series-Analysis-with-Python-Cookbook/main/datasets/Ch7/clicks_original.csv\"\n",
    "response = request.urlretrieve(URL3, r\".//Data/clicks_original.csv\")\n",
    "clicks_or= Path(r\".//Data/clicks_original.csv\")\n",
    "clicks_original = pd.read_csv(clicks_or)\n",
    "\n",
    "URL4 = \"https://raw.githubusercontent.com/PacktPublishing/Time-Series-Analysis-with-Python-Cookbook/main/datasets/Ch7/clicks_missing.csv\"\n",
    "response = request.urlretrieve(URL4, r\".//Data/clicks_missing.csv\")\n",
    "clicks_mis= Path(r\".//Data/clicks_missing.csv\")\n",
    "clicks_missing = pd.read_csv(clicks_mis)"
   ]
  },
  {
   "cell_type": "code",
   "execution_count": 91,
   "id": "dd7cad24",
   "metadata": {},
   "outputs": [],
   "source": [
    "strategy = [\n",
    "    ('Mean Strategy', 'mean'),\n",
    "    ('Median Strategy', 'median'),\n",
    "    ('Most Frequent Strategy', 'most_frequent')]"
   ]
  },
  {
   "cell_type": "code",
   "execution_count": 92,
   "id": "c8571ece",
   "metadata": {},
   "outputs": [
    {
     "data": {
      "text/plain": [
       "(226,)"
      ]
     },
     "metadata": {},
     "output_type": "display_data"
    },
    {
     "data": {
      "text/plain": [
       "(226, 1)"
      ]
     },
     "metadata": {},
     "output_type": "display_data"
    }
   ],
   "source": [
    "# Simple imputer accepts a numpy array, so it has to be reshaped: from (226, ) to (226,1) - column vector\n",
    "display(co2_missing['co2'].shape)\n",
    "display(co2_missing['co2'].values.reshape(-1,1).shape)"
   ]
  },
  {
   "cell_type": "code",
   "execution_count": 93,
   "id": "64861e5b",
   "metadata": {},
   "outputs": [],
   "source": [
    "co2_vals = co2_missing['co2'].values.reshape(-1,1)\n",
    "clicks_vals = clicks_missing['clicks'].values.reshape(-1,1)\n",
    "\n",
    "for s_name, s in strategy:\n",
    "    co2_missing[s_name] = (\n",
    "        SimpleImputer(strategy=s).fit_transform(co2_vals))\n",
    "    clicks_missing[s_name] = (\n",
    "        SimpleImputer(strategy=s).fit_transform(clicks_vals))\n",
    "\n"
   ]
  },
  {
   "cell_type": "code",
   "execution_count": 94,
   "id": "3608efb3",
   "metadata": {},
   "outputs": [
    {
     "name": "stdout",
     "output_type": "stream",
     "text": [
      "RMSE for Mean Strategy: 0.7156383637041684\n",
      "RMSE for Median Strategy: 0.802942160685986\n",
      "RMSE for Most Frequent Strategy: 1.1245663822743381\n"
     ]
    },
    {
     "data": {
      "text/plain": [
       "[0.7156383637041684, 0.802942160685986, 1.1245663822743381]"
      ]
     },
     "metadata": {},
     "output_type": "display_data"
    },
    {
     "data": {
      "image/png": "[encoded data removed]",
      "text/plain": [
       "<Figure size 720x1152 with 5 Axes>"
      ]
     },
     "metadata": {
      "needs_background": "light"
     },
     "output_type": "display_data"
    }
   ],
   "source": [
    "display(rmse_score(co2_original, co2_missing, 'co2'))\n",
    "plot_dfs(co2_original, co2_missing, 'co2')"
   ]
  },
  {
   "cell_type": "code",
   "execution_count": 95,
   "id": "566ca4a7",
   "metadata": {},
   "outputs": [
    {
     "name": "stdout",
     "output_type": "stream",
     "text": [
      "RMSE for Mean Strategy: 997.7600138929953\n",
      "RMSE for Median Strategy: 959.3580492530756\n",
      "RMSE for Most Frequent Strategy: 1097.6425985146868\n"
     ]
    },
    {
     "data": {
      "text/plain": [
       "[997.7600138929953, 959.3580492530756, 1097.6425985146868]"
      ]
     },
     "metadata": {},
     "output_type": "display_data"
    },
    {
     "data": {
      "image/png": "[encoded data removed]",
      "text/plain": [
       "<Figure size 720x1152 with 5 Axes>"
      ]
     },
     "metadata": {
      "needs_background": "light"
     },
     "output_type": "display_data"
    }
   ],
   "source": [
    "display(rmse_score(clicks_original, clicks_missing, 'clicks'))\n",
    "plot_dfs(clicks_original, clicks_missing, 'clicks')"
   ]
  },
  {
   "cell_type": "markdown",
   "id": "54f849d3",
   "metadata": {},
   "source": [
    "#### Simplifying Handling Missing Data with univariate imputation using fillna:\n",
    "\n",
    "Given a dataframe with many columns that have missing values. The aim is to input these values with the mean:\n",
    "\n",
    "**df.fillna(df.mean())**\n",
    "\n",
    "https://pandas.pydata.org/pandas-docs/stable/reference/api/pandas.DataFrame.mean.html"
   ]
  },
  {
   "cell_type": "code",
   "execution_count": 98,
   "id": "45165134",
   "metadata": {},
   "outputs": [],
   "source": [
    "del co2_original,co2_missing,clicks_original,clicks_missing"
   ]
  },
  {
   "cell_type": "markdown",
   "id": "a85f2a40",
   "metadata": {},
   "source": [
    "### Handling Missing Data with Multivariate Imputation\n",
    "\n",
    "Take advantage of other variables to imporve the predictability of missing values\n",
    "\n",
    "https://www.jstatsoft.org/article/view/v045i03\n",
    "\n",
    "https://bobrupakroy.medium.com/extra-trees-classifier-regressor-5b5f6abe8228\n",
    "\n",
    "https://scikit-learn.org/stable/modules/generated/sklearn.ensemble.ExtraTreesRegressor.html"
   ]
  },
  {
   "cell_type": "code",
   "execution_count": 96,
   "id": "52eb88e6",
   "metadata": {},
   "outputs": [],
   "source": [
    "import pandas as pd\n",
    "from pathlib import Path\n",
    "import matplotlib.pyplot as plt\n",
    "\n",
    "from sklearn.experimental import enable_iterative_imputer\n",
    "from sklearn.impute import IterativeImputer\n",
    "from sklearn.ensemble import ExtraTreesRegressor, BaggingRegressor\n",
    "from sklearn.linear_model import ElasticNet, LinearRegression, BayesianRidge\n",
    "from sklearn.neighbors import KNeighborsRegressor"
   ]
  },
  {
   "cell_type": "code",
   "execution_count": 99,
   "id": "22616b24",
   "metadata": {},
   "outputs": [],
   "source": [
    "#Loading Data\n",
    "\n",
    "URL3 = \"https://raw.githubusercontent.com/PacktPublishing/Time-Series-Analysis-with-Python-Cookbook/main/datasets/Ch7/clicks_original.csv\"\n",
    "response = request.urlretrieve(URL3, r\".//Data/clicks_original.csv\")\n",
    "clicks_or= Path(r\".//Data/clicks_original.csv\")\n",
    "clicks_original = pd.read_csv(clicks_or)\n",
    "\n",
    "URL4 = \"https://raw.githubusercontent.com/PacktPublishing/Time-Series-Analysis-with-Python-Cookbook/main/datasets/Ch7/clicks_missing.csv\"\n",
    "response = request.urlretrieve(URL4, r\".//Data/clicks_missing.csv\")\n",
    "clicks_mis= Path(r\".//Data/clicks_missing.csv\")\n",
    "clicks_missing = pd.read_csv(clicks_mis)"
   ]
  },
  {
   "cell_type": "code",
   "execution_count": 100,
   "id": "48706fc3",
   "metadata": {},
   "outputs": [
    {
     "data": {
      "text/html": [
       "<div>\n",
       "<style scoped>\n",
       "    .dataframe tbody tr th:only-of-type {\n",
       "        vertical-align: middle;\n",
       "    }\n",
       "\n",
       "    .dataframe tbody tr th {\n",
       "        vertical-align: top;\n",
       "    }\n",
       "\n",
       "    .dataframe thead th {\n",
       "        text-align: right;\n",
       "    }\n",
       "</style>\n",
       "<table border=\"1\" class=\"dataframe\">\n",
       "  <thead>\n",
       "    <tr style=\"text-align: right;\">\n",
       "      <th></th>\n",
       "      <th>date</th>\n",
       "      <th>price</th>\n",
       "      <th>location</th>\n",
       "      <th>clicks</th>\n",
       "    </tr>\n",
       "  </thead>\n",
       "  <tbody>\n",
       "    <tr>\n",
       "      <th>0</th>\n",
       "      <td>4/1/08</td>\n",
       "      <td>43.155647</td>\n",
       "      <td>2</td>\n",
       "      <td>18784</td>\n",
       "    </tr>\n",
       "    <tr>\n",
       "      <th>1</th>\n",
       "      <td>4/2/08</td>\n",
       "      <td>43.079056</td>\n",
       "      <td>1</td>\n",
       "      <td>24738</td>\n",
       "    </tr>\n",
       "    <tr>\n",
       "      <th>2</th>\n",
       "      <td>4/3/08</td>\n",
       "      <td>43.842609</td>\n",
       "      <td>2</td>\n",
       "      <td>15209</td>\n",
       "    </tr>\n",
       "    <tr>\n",
       "      <th>3</th>\n",
       "      <td>4/4/08</td>\n",
       "      <td>43.312376</td>\n",
       "      <td>1</td>\n",
       "      <td>14018</td>\n",
       "    </tr>\n",
       "    <tr>\n",
       "      <th>4</th>\n",
       "      <td>4/5/08</td>\n",
       "      <td>43.941176</td>\n",
       "      <td>1</td>\n",
       "      <td>11974</td>\n",
       "    </tr>\n",
       "  </tbody>\n",
       "</table>\n",
       "</div>"
      ],
      "text/plain": [
       "     date      price  location  clicks\n",
       "0  4/1/08  43.155647         2   18784\n",
       "1  4/2/08  43.079056         1   24738\n",
       "2  4/3/08  43.842609         2   15209\n",
       "3  4/4/08  43.312376         1   14018\n",
       "4  4/5/08  43.941176         1   11974"
      ]
     },
     "metadata": {},
     "output_type": "display_data"
    },
    {
     "data": {
      "text/html": [
       "<div>\n",
       "<style scoped>\n",
       "    .dataframe tbody tr th:only-of-type {\n",
       "        vertical-align: middle;\n",
       "    }\n",
       "\n",
       "    .dataframe tbody tr th {\n",
       "        vertical-align: top;\n",
       "    }\n",
       "\n",
       "    .dataframe thead th {\n",
       "        text-align: right;\n",
       "    }\n",
       "</style>\n",
       "<table border=\"1\" class=\"dataframe\">\n",
       "  <thead>\n",
       "    <tr style=\"text-align: right;\">\n",
       "      <th></th>\n",
       "      <th>date</th>\n",
       "      <th>price</th>\n",
       "      <th>location</th>\n",
       "      <th>clicks</th>\n",
       "    </tr>\n",
       "  </thead>\n",
       "  <tbody>\n",
       "    <tr>\n",
       "      <th>0</th>\n",
       "      <td>4/1/08</td>\n",
       "      <td>43.155647</td>\n",
       "      <td>2</td>\n",
       "      <td>18784.0</td>\n",
       "    </tr>\n",
       "    <tr>\n",
       "      <th>1</th>\n",
       "      <td>4/2/08</td>\n",
       "      <td>43.079056</td>\n",
       "      <td>1</td>\n",
       "      <td>24738.0</td>\n",
       "    </tr>\n",
       "    <tr>\n",
       "      <th>2</th>\n",
       "      <td>4/3/08</td>\n",
       "      <td>43.842609</td>\n",
       "      <td>2</td>\n",
       "      <td>15209.0</td>\n",
       "    </tr>\n",
       "    <tr>\n",
       "      <th>3</th>\n",
       "      <td>4/4/08</td>\n",
       "      <td>43.312376</td>\n",
       "      <td>1</td>\n",
       "      <td>14018.0</td>\n",
       "    </tr>\n",
       "    <tr>\n",
       "      <th>4</th>\n",
       "      <td>4/5/08</td>\n",
       "      <td>43.941176</td>\n",
       "      <td>1</td>\n",
       "      <td>11974.0</td>\n",
       "    </tr>\n",
       "  </tbody>\n",
       "</table>\n",
       "</div>"
      ],
      "text/plain": [
       "     date      price  location   clicks\n",
       "0  4/1/08  43.155647         2  18784.0\n",
       "1  4/2/08  43.079056         1  24738.0\n",
       "2  4/3/08  43.842609         2  15209.0\n",
       "3  4/4/08  43.312376         1  14018.0\n",
       "4  4/5/08  43.941176         1  11974.0"
      ]
     },
     "metadata": {},
     "output_type": "display_data"
    }
   ],
   "source": [
    "display(clicks_original.head())\n",
    "display(clicks_missing.head())"
   ]
  },
  {
   "cell_type": "code",
   "execution_count": null,
   "id": "a1c9f156",
   "metadata": {},
   "outputs": [],
   "source": []
  }
 ],
 "metadata": {
  "kernelspec": {
   "display_name": "Python 3 (ipykernel)",
   "language": "python",
   "name": "python3"
  },
  "language_info": {
   "codemirror_mode": {
    "name": "ipython",
    "version": 3
   },
   "file_extension": ".py",
   "mimetype": "text/x-python",
   "name": "python",
   "nbconvert_exporter": "python",
   "pygments_lexer": "ipython3",
   "version": "3.9.7"
  }
 },
 "nbformat": 4,
 "nbformat_minor": 5
}
